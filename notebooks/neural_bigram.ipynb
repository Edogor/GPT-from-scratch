{
 "cells": [
  {
   "cell_type": "code",
   "execution_count": 1,
   "id": "0835929e",
   "metadata": {},
   "outputs": [],
   "source": [
    "import torch\n",
    "import torch.nn as nn\n",
    "import torch.nn.functional as F    \n",
    "from torch.optim import AdamW\n",
    "from torch.optim import ASGD\n",
    "from torch.amp import GradScaler\n",
    "from torch.optim.lr_scheduler import CosineAnnealingLR\n",
    "from torch.optim.lr_scheduler import CosineAnnealingWarmRestarts\n",
    "from torch.utils.tensorboard import SummaryWriter\n",
    "\n",
    "import numpy as np\n",
    "import pandas as pd\n",
    "import matplotlib.pyplot as plt\n",
    "from tqdm.auto import tqdm\n",
    "import time\n",
    "from functools import partial\n",
    "\n",
    "import json\n",
    "import os\n",
    "\n",
    "CHECKPOINT_DIR = os.path.join(\"..\", \"checkpoints\", \"neural_bigram\")\n",
    "LOG_DIR = os.path.join(\"..\", \"logs\", \"neural_bigram\")\n",
    "RESULTS_DIR = os.path.join(\"..\", \"results\", \"neural_bigram\")\n",
    "\n",
    "os.makedirs(CHECKPOINT_DIR, exist_ok=True)\n",
    "os.makedirs(RESULTS_DIR, exist_ok=True)\n",
    "os.makedirs(LOG_DIR, exist_ok=True)"
   ]
  },
  {
   "cell_type": "code",
   "execution_count": 2,
   "id": "295d588b",
   "metadata": {},
   "outputs": [],
   "source": [
    "# add parent directory to the path to allow imports\n",
    "import sys\n",
    "sys.path.append(os.path.abspath(os.path.join(os.getcwd(), \"..\")))\n",
    "\n",
    "from neural_bigram import NeuralBigram, ConfigNeuralBigram\n",
    "from train_mj import train, evaluate, evaluate_ppl, ConfigTrain\n",
    "from utils import init_dataloader, WarmupThenCosine, set_seed, count_params, save_checkpoint, load_checkpoint\n",
    "from bpe_hf import train_bytelevel_bpe, train_and_encode_tokenizer, load_tokenizer, SPECIAL_TOKENS"
   ]
  },
  {
   "cell_type": "markdown",
   "id": "c7db0df6",
   "metadata": {},
   "source": [
    "## load data"
   ]
  },
  {
   "cell_type": "code",
   "execution_count": 3,
   "id": "3f18254b",
   "metadata": {},
   "outputs": [
    {
     "name": "stdout",
     "output_type": "stream",
     "text": [
      "train text charachters length:  883046\n",
      "train text words count:  158364\n",
      "train text first 100 chars:  The Tragedy of Antony and Cleopatra\n",
      "\n",
      "\n",
      "Dramatis Personae\n",
      "\n",
      "\n",
      "\n",
      "MARK ANTONY\n",
      "OCTAVIUS CAESAR\n",
      "M. AEMILIUS L\n"
     ]
    }
   ],
   "source": [
    "data_dir = \"../data/\"\n",
    "# without nl\n",
    "# train_file = \"Shakespeare_clean_train.txt\"\n",
    "# val_file = \"Shakespeare_clean_valid.txt\"\n",
    "# test_file = \"Shakespeare_clean_test.txt\"\n",
    "\n",
    "# with nl\n",
    "train_file = \"Shakespeare_clean_w_nl_train.txt\"\n",
    "val_file = \"Shakespeare_clean_w_nl_valid.txt\"\n",
    "test_file = \"Shakespeare_clean_w_nl_test.txt\"\n",
    "\n",
    "train_file = os.path.join(data_dir, train_file)\n",
    "test_file = os.path.join(data_dir, test_file)\n",
    "val_file = os.path.join(data_dir, val_file)\n",
    "\n",
    "with open(train_file, \"r\", encoding=\"utf-8\") as f:\n",
    "    train_text = f.read().strip()\n",
    "\n",
    "with open(val_file, \"r\", encoding=\"utf-8\") as f:\n",
    "    val_text = f.read().strip()\n",
    "\n",
    "with open(test_file, \"r\", encoding=\"utf-8\") as f:\n",
    "    test_text = f.read().strip()\n",
    "\n",
    "print(\"train text charachters length: \", len(train_text))\n",
    "print(\"train text words count: \", len(train_text.split()))\n",
    "print(\"train text first 100 chars: \", train_text[:100])"
   ]
  },
  {
   "cell_type": "markdown",
   "id": "8176563d",
   "metadata": {},
   "source": [
    "## initialize tokensizer and data embeddings"
   ]
  },
  {
   "cell_type": "code",
   "execution_count": 4,
   "id": "1027401e",
   "metadata": {},
   "outputs": [
    {
     "name": "stdout",
     "output_type": "stream",
     "text": [
      "vocab size:  460\n",
      "BPE tokenizer vocab:  [('đ', 209), ('oo', 342), ('U', 56), ('en', 288), ('į', 239), ('[', 62), ('¶', 118), ('ŀ', 256), ('Ġour', 445), ('û', 187), ('Ġyou', 297), ('µ', 117), ('us', 344), ('ght', 357), ('ĺ', 250), ('|', 95), ('Ġthis', 374), ('¸', 120), ('÷', 183), ('Ġwith', 349), ('ion', 408), ('Ġth', 295), ('z', 93), ('ċ', 203), ('ess', 410), ('Ġyour', 371), ('O', 50), ('Ĝ', 220), ('ly', 395), ('·', 119), ('Ĥ', 228), ('h', 75), ('N', 49), ('Ġo', 290), ('LET', 459), ('Ġthat', 343), (\"'s\", 340), ('C', 38), ('k', 78), ('Å', 133), ('ood', 403), ('Ġu', 373), ('Ġde', 389), ('ĠAnd', 350), ('Ī', 234), ('ld', 325), ('Ù', 153), ('¿', 127), ('om', 306), ('ô', 180), ('ľ', 254), ('$', 7), ('ĠF', 367), ('ĳ', 243), ('r', 85), ('ĭ', 237), ('ho', 444), ('ant', 441), ('ĸ', 248), ('\"', 5), ('Ġs', 265), ('Ë', 139), ('_', 66), ('hi', 402), ('č', 205), ('Ė', 214), ('K', 46), ('ļ', 252), ('Ġhim', 381), ('or', 278), ('Î', 142), ('Æ', 134), ('ĝ', 221), ('ÿ', 191), ('Ġli', 379), ('§', 104), ('ain', 415), ('V', 57), ('ú', 186), ('ĠN', 388), ('e', 72), ('ġ', 225), ('ke', 356), ('ę', 217), ('İ', 240), ('Ġare', 443), ('ver', 387), ('>', 33), ('5', 24), ('AR', 394), ('Ġl', 285), ('ù', 185), ('ö', 182), ('st', 309), ('Ġh', 294), ('ą', 197), ('ï', 175), ('¢', 99), ('ck', 406), ('a', 68)]\n",
      "train ids length:  496948\n",
      "train ids first 100 ids:  [362, 292, 375, 74, 334, 92, 302, 293, 359, 282, 92, 298, 316, 323, 82, 83, 311, 375, 202, 202, 202, 39, 375, 80, 311, 274, 370, 276, 86, 282, 68, 72, 202, 202, 202, 202, 48, 394, 46, 293, 49, 55, 418, 60, 202, 50, 38, 55, 36, 57, 407, 316, 36, 40, 54, 394, 202, 48, 17, 293, 40, 48, 44, 47, 407, 348, 40, 51, 44, 39, 358, 202, 87, 360, 88, 80, 89, 329, 86, 17, 202, 202, 202, 54, 40, 59, 55, 358, 370, 50, 48, 51, 40, 407, 202, 202, 202, 39, 50, 48]\n",
      "train ids first 100 individual tokens:  ['ĠThe', 'ĠT', 'ra', 'g', 'ed', 'y', 'Ġof', 'ĠA', 'nt', 'on', 'y', 'Ġand', 'ĠC', 'le', 'o', 'p', 'at', 'ra', 'Ċ', 'Ċ', 'Ċ', 'D', 'ra', 'm', 'at', 'is', 'ĠP', 'er', 's', 'on', 'a', 'e', 'Ċ', 'Ċ', 'Ċ', 'Ċ', 'M', 'AR', 'K', 'ĠA', 'N', 'T', 'ON', 'Y', 'Ċ', 'O', 'C', 'T', 'A', 'V', 'IUS', 'ĠC', 'A', 'E', 'S', 'AR', 'Ċ', 'M', '.', 'ĠA', 'E', 'M', 'I', 'L', 'IUS', 'ĠL', 'E', 'P', 'I', 'D', 'US', 'Ċ', 't', 'ri', 'u', 'm', 'v', 'ir', 's', '.', 'Ċ', 'Ċ', 'Ċ', 'S', 'E', 'X', 'T', 'US', 'ĠP', 'O', 'M', 'P', 'E', 'IUS', 'Ċ', 'Ċ', 'Ċ', 'D', 'O', 'M']\n"
     ]
    }
   ],
   "source": [
    "N_MERGES = 200\n",
    "MIN_FREQ = 2\n",
    "SPECIAL_TOKENS = SPECIAL_TOKENS.copy()\n",
    "PAD_TOKEN = SPECIAL_TOKENS.get(\"pad\", \"<pad>\")\n",
    "BOS_TOKEN = SPECIAL_TOKENS.get(\"bos\", \"<bos>\")\n",
    "EOS_TOKEN = SPECIAL_TOKENS.get(\"eos\", \"<eos>\")\n",
    "\n",
    "\n",
    "bpe_tokenizer = train_bytelevel_bpe(\n",
    "    merges=N_MERGES,\n",
    "    min_frequency=MIN_FREQ,\n",
    "    files=[train_file],\n",
    "    lowercase=False,\n",
    "    add_prefix_space=True,\n",
    "    special_tokens=SPECIAL_TOKENS,\n",
    "    save_filename=f\"shakespeare_bpe_{N_MERGES}\"\n",
    ")\n",
    "\n",
    "encode = partial(bpe_tokenizer.encode, add_special_tokens=False)\n",
    "decode = bpe_tokenizer.decode\n",
    "vocab_size = bpe_tokenizer.get_vocab_size()\n",
    "print(\"vocab size: \", vocab_size)\n",
    "print(\"BPE tokenizer vocab: \", list(bpe_tokenizer.get_vocab().items())[:100])\n",
    "\n",
    "PAD_TOKEN_ID = bpe_tokenizer.token_to_id(PAD_TOKEN) \n",
    "BOS_TOKEN_ID = bpe_tokenizer.token_to_id(BOS_TOKEN)\n",
    "EOS_TOKEN_ID = bpe_tokenizer.token_to_id(EOS_TOKEN)\n",
    "\n",
    "train_ids = encode(train_text).ids\n",
    "val_ids = encode(val_text).ids\n",
    "test_ids = encode(test_text).ids\n",
    "\n",
    "print(\"train ids length: \", len(train_ids))\n",
    "print(\"train ids first 100 ids: \", train_ids[:100])\n",
    "print(\"train ids first 100 individual tokens: \", [bpe_tokenizer.id_to_token(i) for i in train_ids[:100]]) "
   ]
  },
  {
   "cell_type": "markdown",
   "id": "d3ed89b0",
   "metadata": {},
   "source": [
    "## define the model's and training parameters (configs)"
   ]
  },
  {
   "cell_type": "code",
   "execution_count": 5,
   "id": "18ed5e16",
   "metadata": {},
   "outputs": [
    {
     "name": "stdout",
     "output_type": "stream",
     "text": [
      "vocab size:  460\n",
      "number of model parameters:  211600\n",
      "number of batches in train loader:  15529\n",
      "number of batches in test loader:  1914\n",
      "number of batches in val loader:  1880\n",
      "log dir:  ../logs/neural_bigram/nbigram_bpe200/0.003_drop0.1_250825_195324\n",
      "checkpoint dir:  ../checkpoints/neural_bigram\n",
      "checkpoint best filename:  nbigram_bpe200_best.pt\n",
      "checkpoint last filename:  nbigram_bpe200_last.pt\n"
     ]
    }
   ],
   "source": [
    "SEED = 10\n",
    "DEVICE = \"cuda\" if torch.cuda.is_available() else \"cpu\"\n",
    "# hyperparameters \n",
    "# tokenizer\n",
    "# N_MERGES = 200\n",
    "# MIN_FREQ = 2\n",
    "# data\n",
    "BATCH_SIZE = 32\n",
    "BLOCK_SIZE = 128\n",
    "\n",
    "#  model\n",
    "DROPOUT = 0.1\n",
    "# optimizer\n",
    "LR = 3e-3\n",
    "WEIGHT_DECAY = 1e-4\n",
    "# lr scheduler\n",
    "ETA_MIN = 1e-7\n",
    "\n",
    "# training loop\n",
    "EPOCHS = 60\n",
    "ES_PATIENCE = 5\n",
    "ES_TOLERANCE = 1e-6\n",
    "GRAD_ACCUM_STEPS = 1\n",
    "USE_AMP = False # IMPORTANT: set to False if training on CPU training \n",
    "\n",
    "# checkpoints\n",
    "EVAL_INTERVAL = 2   # evaluate every n epochs\n",
    "CKPT_INTERVAL = 10  # save checkpoint every n epochs\n",
    "\n",
    "# make unique checkpoint file prefix from the parameters\n",
    "ckpt_file_prefix = f\"nbigram_bpe{N_MERGES}\"\n",
    "all_hparams_cfg_filename = f\"{ckpt_file_prefix}_hparams.json\"\n",
    "\n",
    "# config for training\n",
    "cfg_train = ConfigTrain(device=DEVICE,\n",
    "                    epochs=EPOCHS, \n",
    "                    early_stop_patience=ES_PATIENCE,\n",
    "                    early_stop_tolerance=ES_TOLERANCE,\n",
    "                    grad_accum_steps=GRAD_ACCUM_STEPS,\n",
    "                    # max_grad_norm=data.get(\"max_grad_norm\", 1.0),\n",
    "                    use_amp=USE_AMP,\n",
    "                    seed=SEED,\n",
    "                    eval_interval=EVAL_INTERVAL,\n",
    "                    ckpt_interval=CKPT_INTERVAL,\n",
    "                    ckpt_dir=CHECKPOINT_DIR,\n",
    "                    ckpt_best_filename=f\"{ckpt_file_prefix}_best.pt\",\n",
    "                    ckpt_last_filename=f\"{ckpt_file_prefix}_last.pt\",\n",
    "                    log_dir=os.path.join(LOG_DIR, f\"{ckpt_file_prefix}\", f'{LR}_drop{DROPOUT}_{time.strftime(\"%y%m%d_%H%M%S\")}'),\n",
    "                    )\n",
    "# config for model\n",
    "cfg_model = ConfigNeuralBigram(\n",
    "                    vocab_size=vocab_size,\n",
    "                    dropout=DROPOUT\n",
    "                    )\n",
    "\n",
    "# model \n",
    "print(\"vocab size: \", vocab_size)\n",
    "print(\"number of model parameters: \", count_params(NeuralBigram(config=cfg_model)))\n",
    "\n",
    "# print all log and checkpoint dir and \n",
    "print(\"number of batches in train loader: \", len(train_ids)//BATCH_SIZE)\n",
    "print(\"number of batches in test loader: \", len(test_ids)//BATCH_SIZE)\n",
    "print(\"number of batches in val loader: \", len(val_ids)//BATCH_SIZE)\n",
    "\n",
    "print(\"log dir: \", cfg_train.log_dir)\n",
    "print(\"checkpoint dir: \", cfg_train.ckpt_dir)\n",
    "print(\"checkpoint best filename: \", cfg_train.ckpt_best_filename)\n",
    "print(\"checkpoint last filename: \", cfg_train.ckpt_last_filename)\n"
   ]
  },
  {
   "cell_type": "markdown",
   "id": "c9a09a36",
   "metadata": {},
   "source": [
    "## Train the model"
   ]
  },
  {
   "cell_type": "code",
   "execution_count": 6,
   "id": "cd77a7f1",
   "metadata": {},
   "outputs": [
    {
     "name": "stdout",
     "output_type": "stream",
     "text": [
      "Model parameters: 211_600\n",
      "vocab size:  460\n",
      "excepted iniital CE loss( uniform model ): 6.1312, ppl: 460.0000\n",
      "not trained model Initial validation loss: 6.6356, ppl: 761.7450\n",
      "NeuralBigram(\n",
      "  (embedding): Embedding(460, 460)\n",
      "  (dropout): Dropout(p=0.1, inplace=False)\n",
      ")\n"
     ]
    }
   ],
   "source": [
    "set_seed(cfg_train.seed)\n",
    "train_loader = init_dataloader(train_ids, BLOCK_SIZE, BATCH_SIZE, train=True, shuffle=True)\n",
    "val_loader = init_dataloader(val_ids, BLOCK_SIZE, BATCH_SIZE, train=False, shuffle=True)\n",
    "test_loader = init_dataloader(test_ids, BLOCK_SIZE, BATCH_SIZE, train=False, shuffle=False)\n",
    "\n",
    "\n",
    "model = NeuralBigram(cfg_model)\n",
    "model.to(cfg_train.device)\n",
    "model_size = count_params(model)\n",
    "\n",
    "optimizer = AdamW(model.parameters(), lr=LR, weight_decay=WEIGHT_DECAY)\n",
    "\n",
    "\n",
    "lr_scheduler = WarmupThenCosine(optimizer, warmup_steps=500, T_max=cfg_train.epochs * len(train_loader) // max(1, cfg_train.grad_accum_steps), eta_min=ETA_MIN)\n",
    "# rl_scheduler = CosineAnnealingLR(optimizer, T_max=cfg.epochs * len(train_loader) // max(1, cfg.grad_accum_steps), eta_min=ETA_MIN)\n",
    "# rl_scheduler = CosineAnnealingWarmRestarts(optimizer, T_0=2 * len(train_loader) // max(1, cfg.grad_accum_steps), T_mult=2, eta_min=ETA_MIN)\n",
    "\n",
    "scaler = GradScaler(enabled=cfg_train.use_amp)\n",
    "\n",
    "summary_writer = SummaryWriter(log_dir=cfg_train.log_dir, flush_secs=5)\n",
    "\n",
    "# add model graph to tensorboard\n",
    "# write model graph\n",
    "dummy_input = torch.zeros((1, BLOCK_SIZE), dtype=torch.long, device=cfg_train.device)\n",
    "summary_writer.add_graph(model.eval(), dummy_input)  # eval() avoids dropout noise\n",
    "summary_writer.flush()\n",
    "summary_writer.close()\n",
    "\n",
    "# compile the model (can skip if not needed)\n",
    "model.compile(mode=\"reduce-overhead\")\n",
    "\n",
    "# inspect the model\n",
    "print(f\"Model parameters: {model_size:_}\")\n",
    "print(\"vocab size: \", vocab_size)\n",
    "print(f\"excepted iniital CE loss( uniform model ): {-np.log(1/vocab_size):.4f}, ppl: {np.exp(-np.log(1/vocab_size)):.4f}\")\n",
    "# evaluate the untrained model\n",
    "val_loss = evaluate(model, val_loader, device=cfg_train.device)\n",
    "val_ppl = np.exp(val_loss)\n",
    "print(f\"not trained model Initial validation loss: {val_loss:.4f}, ppl: {val_ppl:.4f}\")\n",
    "print(model)"
   ]
  },
  {
   "cell_type": "code",
   "execution_count": 7,
   "id": "347c455c",
   "metadata": {},
   "outputs": [
    {
     "data": {
      "application/vnd.jupyter.widget-view+json": {
       "model_id": "bb37483b37e6429b944bddf8fe7c73bd",
       "version_major": 2,
       "version_minor": 0
      },
      "text/plain": [
       "Training Progress:   0%|          | 0/60 [00:00<?, ?it/s]"
      ]
     },
     "metadata": {},
     "output_type": "display_data"
    },
    {
     "data": {
      "application/vnd.jupyter.widget-view+json": {
       "model_id": "d72afd74ddf144d7988620dac919a0ee",
       "version_major": 2,
       "version_minor": 0
      },
      "text/plain": [
       "Epoch 1/60:   0%|          | 0/122 [00:00<?, ?it/s]"
      ]
     },
     "metadata": {},
     "output_type": "display_data"
    },
    {
     "data": {
      "application/vnd.jupyter.widget-view+json": {
       "model_id": "edafbb71819b4946a20af430725ea9af",
       "version_major": 2,
       "version_minor": 0
      },
      "text/plain": [
       "Epoch 2/60:   0%|          | 0/122 [00:00<?, ?it/s]"
      ]
     },
     "metadata": {},
     "output_type": "display_data"
    },
    {
     "data": {
      "application/vnd.jupyter.widget-view+json": {
       "model_id": "84c9dc5d2e904cd1a821e95b7844fa33",
       "version_major": 2,
       "version_minor": 0
      },
      "text/plain": [
       "Epoch 3/60:   0%|          | 0/122 [00:00<?, ?it/s]"
      ]
     },
     "metadata": {},
     "output_type": "display_data"
    },
    {
     "data": {
      "application/vnd.jupyter.widget-view+json": {
       "model_id": "a25a92f40cfb4a2688d439ad841499da",
       "version_major": 2,
       "version_minor": 0
      },
      "text/plain": [
       "Epoch 4/60:   0%|          | 0/122 [00:00<?, ?it/s]"
      ]
     },
     "metadata": {},
     "output_type": "display_data"
    },
    {
     "data": {
      "application/vnd.jupyter.widget-view+json": {
       "model_id": "702d77a39d724700aa8f6428b3d4dd30",
       "version_major": 2,
       "version_minor": 0
      },
      "text/plain": [
       "Epoch 5/60:   0%|          | 0/122 [00:00<?, ?it/s]"
      ]
     },
     "metadata": {},
     "output_type": "display_data"
    },
    {
     "data": {
      "application/vnd.jupyter.widget-view+json": {
       "model_id": "e9e7f5b50d6c401aa2e2c62f9dd0d4a1",
       "version_major": 2,
       "version_minor": 0
      },
      "text/plain": [
       "Epoch 6/60:   0%|          | 0/122 [00:00<?, ?it/s]"
      ]
     },
     "metadata": {},
     "output_type": "display_data"
    },
    {
     "data": {
      "application/vnd.jupyter.widget-view+json": {
       "model_id": "f6f010ed6b0a4e0e8acb82ec7cf6e7aa",
       "version_major": 2,
       "version_minor": 0
      },
      "text/plain": [
       "Epoch 7/60:   0%|          | 0/122 [00:00<?, ?it/s]"
      ]
     },
     "metadata": {},
     "output_type": "display_data"
    },
    {
     "data": {
      "application/vnd.jupyter.widget-view+json": {
       "model_id": "e4e0743cc80b4d009b1f1bdc997649ce",
       "version_major": 2,
       "version_minor": 0
      },
      "text/plain": [
       "Epoch 8/60:   0%|          | 0/122 [00:00<?, ?it/s]"
      ]
     },
     "metadata": {},
     "output_type": "display_data"
    },
    {
     "data": {
      "application/vnd.jupyter.widget-view+json": {
       "model_id": "979c3dbf39a24a86a743fe1ace51719f",
       "version_major": 2,
       "version_minor": 0
      },
      "text/plain": [
       "Epoch 9/60:   0%|          | 0/122 [00:00<?, ?it/s]"
      ]
     },
     "metadata": {},
     "output_type": "display_data"
    },
    {
     "data": {
      "application/vnd.jupyter.widget-view+json": {
       "model_id": "6bdc94daf66c4f91b070f00319442383",
       "version_major": 2,
       "version_minor": 0
      },
      "text/plain": [
       "Epoch 10/60:   0%|          | 0/122 [00:00<?, ?it/s]"
      ]
     },
     "metadata": {},
     "output_type": "display_data"
    },
    {
     "data": {
      "application/vnd.jupyter.widget-view+json": {
       "model_id": "7b2781a475af4b1781c0d58d5e4e72c0",
       "version_major": 2,
       "version_minor": 0
      },
      "text/plain": [
       "Epoch 11/60:   0%|          | 0/122 [00:00<?, ?it/s]"
      ]
     },
     "metadata": {},
     "output_type": "display_data"
    },
    {
     "data": {
      "application/vnd.jupyter.widget-view+json": {
       "model_id": "97f4ba02be1a4fa4b9171708f92b2f43",
       "version_major": 2,
       "version_minor": 0
      },
      "text/plain": [
       "Epoch 12/60:   0%|          | 0/122 [00:00<?, ?it/s]"
      ]
     },
     "metadata": {},
     "output_type": "display_data"
    },
    {
     "data": {
      "application/vnd.jupyter.widget-view+json": {
       "model_id": "a669aa2f083e4346bed697f46947f979",
       "version_major": 2,
       "version_minor": 0
      },
      "text/plain": [
       "Epoch 13/60:   0%|          | 0/122 [00:00<?, ?it/s]"
      ]
     },
     "metadata": {},
     "output_type": "display_data"
    },
    {
     "data": {
      "application/vnd.jupyter.widget-view+json": {
       "model_id": "71282995578e4003a1d3f749044d837b",
       "version_major": 2,
       "version_minor": 0
      },
      "text/plain": [
       "Epoch 14/60:   0%|          | 0/122 [00:00<?, ?it/s]"
      ]
     },
     "metadata": {},
     "output_type": "display_data"
    },
    {
     "data": {
      "application/vnd.jupyter.widget-view+json": {
       "model_id": "d69b3a4ed05d452f9c50da7306fec176",
       "version_major": 2,
       "version_minor": 0
      },
      "text/plain": [
       "Epoch 15/60:   0%|          | 0/122 [00:00<?, ?it/s]"
      ]
     },
     "metadata": {},
     "output_type": "display_data"
    },
    {
     "data": {
      "application/vnd.jupyter.widget-view+json": {
       "model_id": "09c947af760846f3b08f6d0767a89464",
       "version_major": 2,
       "version_minor": 0
      },
      "text/plain": [
       "Epoch 16/60:   0%|          | 0/122 [00:00<?, ?it/s]"
      ]
     },
     "metadata": {},
     "output_type": "display_data"
    },
    {
     "data": {
      "application/vnd.jupyter.widget-view+json": {
       "model_id": "f1c7e7adc2ea41559513f12f70594f74",
       "version_major": 2,
       "version_minor": 0
      },
      "text/plain": [
       "Epoch 17/60:   0%|          | 0/122 [00:00<?, ?it/s]"
      ]
     },
     "metadata": {},
     "output_type": "display_data"
    },
    {
     "data": {
      "application/vnd.jupyter.widget-view+json": {
       "model_id": "65dbb4dda295417a9e4f05db87b077c1",
       "version_major": 2,
       "version_minor": 0
      },
      "text/plain": [
       "Epoch 18/60:   0%|          | 0/122 [00:00<?, ?it/s]"
      ]
     },
     "metadata": {},
     "output_type": "display_data"
    },
    {
     "data": {
      "application/vnd.jupyter.widget-view+json": {
       "model_id": "e52b895b6db94999a278884a63477405",
       "version_major": 2,
       "version_minor": 0
      },
      "text/plain": [
       "Epoch 19/60:   0%|          | 0/122 [00:00<?, ?it/s]"
      ]
     },
     "metadata": {},
     "output_type": "display_data"
    },
    {
     "data": {
      "application/vnd.jupyter.widget-view+json": {
       "model_id": "d757d84289724aff9444fee00f460ccc",
       "version_major": 2,
       "version_minor": 0
      },
      "text/plain": [
       "Epoch 20/60:   0%|          | 0/122 [00:00<?, ?it/s]"
      ]
     },
     "metadata": {},
     "output_type": "display_data"
    },
    {
     "data": {
      "application/vnd.jupyter.widget-view+json": {
       "model_id": "6ae169faab8746cd877916c89527c82f",
       "version_major": 2,
       "version_minor": 0
      },
      "text/plain": [
       "Epoch 21/60:   0%|          | 0/122 [00:00<?, ?it/s]"
      ]
     },
     "metadata": {},
     "output_type": "display_data"
    },
    {
     "data": {
      "application/vnd.jupyter.widget-view+json": {
       "model_id": "61ea17a0fd804562aec9b26f813d96f2",
       "version_major": 2,
       "version_minor": 0
      },
      "text/plain": [
       "Epoch 22/60:   0%|          | 0/122 [00:00<?, ?it/s]"
      ]
     },
     "metadata": {},
     "output_type": "display_data"
    },
    {
     "data": {
      "application/vnd.jupyter.widget-view+json": {
       "model_id": "9a9fc0396f73457990e8536f2ad48d0c",
       "version_major": 2,
       "version_minor": 0
      },
      "text/plain": [
       "Epoch 23/60:   0%|          | 0/122 [00:00<?, ?it/s]"
      ]
     },
     "metadata": {},
     "output_type": "display_data"
    },
    {
     "data": {
      "application/vnd.jupyter.widget-view+json": {
       "model_id": "04c45af90317482d8db7ebcb3705bdaa",
       "version_major": 2,
       "version_minor": 0
      },
      "text/plain": [
       "Epoch 24/60:   0%|          | 0/122 [00:00<?, ?it/s]"
      ]
     },
     "metadata": {},
     "output_type": "display_data"
    },
    {
     "data": {
      "application/vnd.jupyter.widget-view+json": {
       "model_id": "e857968c317b4209ae2682803b3964b7",
       "version_major": 2,
       "version_minor": 0
      },
      "text/plain": [
       "Epoch 25/60:   0%|          | 0/122 [00:00<?, ?it/s]"
      ]
     },
     "metadata": {},
     "output_type": "display_data"
    },
    {
     "data": {
      "application/vnd.jupyter.widget-view+json": {
       "model_id": "0f82cc80c9a84be18b074d0d76ad7a3e",
       "version_major": 2,
       "version_minor": 0
      },
      "text/plain": [
       "Epoch 26/60:   0%|          | 0/122 [00:00<?, ?it/s]"
      ]
     },
     "metadata": {},
     "output_type": "display_data"
    },
    {
     "data": {
      "application/vnd.jupyter.widget-view+json": {
       "model_id": "73c6b3c5661145b68a4f9b0fbf6c4164",
       "version_major": 2,
       "version_minor": 0
      },
      "text/plain": [
       "Epoch 27/60:   0%|          | 0/122 [00:00<?, ?it/s]"
      ]
     },
     "metadata": {},
     "output_type": "display_data"
    },
    {
     "data": {
      "application/vnd.jupyter.widget-view+json": {
       "model_id": "28b8515805094a5e91b9696af4da01f1",
       "version_major": 2,
       "version_minor": 0
      },
      "text/plain": [
       "Epoch 28/60:   0%|          | 0/122 [00:00<?, ?it/s]"
      ]
     },
     "metadata": {},
     "output_type": "display_data"
    },
    {
     "data": {
      "application/vnd.jupyter.widget-view+json": {
       "model_id": "fa04155039cf4cf6b833474bf02ffd57",
       "version_major": 2,
       "version_minor": 0
      },
      "text/plain": [
       "Epoch 29/60:   0%|          | 0/122 [00:00<?, ?it/s]"
      ]
     },
     "metadata": {},
     "output_type": "display_data"
    },
    {
     "data": {
      "application/vnd.jupyter.widget-view+json": {
       "model_id": "37df300dcb534d709d1a737043200045",
       "version_major": 2,
       "version_minor": 0
      },
      "text/plain": [
       "Epoch 30/60:   0%|          | 0/122 [00:00<?, ?it/s]"
      ]
     },
     "metadata": {},
     "output_type": "display_data"
    },
    {
     "data": {
      "application/vnd.jupyter.widget-view+json": {
       "model_id": "50ee5a3866994f0395acf671f1f9a0a9",
       "version_major": 2,
       "version_minor": 0
      },
      "text/plain": [
       "Epoch 31/60:   0%|          | 0/122 [00:00<?, ?it/s]"
      ]
     },
     "metadata": {},
     "output_type": "display_data"
    },
    {
     "data": {
      "application/vnd.jupyter.widget-view+json": {
       "model_id": "3892c511afe244c4bea7f669b5399f12",
       "version_major": 2,
       "version_minor": 0
      },
      "text/plain": [
       "Epoch 32/60:   0%|          | 0/122 [00:00<?, ?it/s]"
      ]
     },
     "metadata": {},
     "output_type": "display_data"
    },
    {
     "data": {
      "application/vnd.jupyter.widget-view+json": {
       "model_id": "a3fcc03cf1fd4d379f75cde69f81d494",
       "version_major": 2,
       "version_minor": 0
      },
      "text/plain": [
       "Epoch 33/60:   0%|          | 0/122 [00:00<?, ?it/s]"
      ]
     },
     "metadata": {},
     "output_type": "display_data"
    },
    {
     "data": {
      "application/vnd.jupyter.widget-view+json": {
       "model_id": "4f10e4be48214fd8bbd39208e7b15aac",
       "version_major": 2,
       "version_minor": 0
      },
      "text/plain": [
       "Epoch 34/60:   0%|          | 0/122 [00:00<?, ?it/s]"
      ]
     },
     "metadata": {},
     "output_type": "display_data"
    },
    {
     "data": {
      "application/vnd.jupyter.widget-view+json": {
       "model_id": "c742a32b14d24c49adc2d0c9c6fdc7bd",
       "version_major": 2,
       "version_minor": 0
      },
      "text/plain": [
       "Epoch 35/60:   0%|          | 0/122 [00:00<?, ?it/s]"
      ]
     },
     "metadata": {},
     "output_type": "display_data"
    },
    {
     "data": {
      "application/vnd.jupyter.widget-view+json": {
       "model_id": "29f4a50923b940cc8011e75dca0958b1",
       "version_major": 2,
       "version_minor": 0
      },
      "text/plain": [
       "Epoch 36/60:   0%|          | 0/122 [00:00<?, ?it/s]"
      ]
     },
     "metadata": {},
     "output_type": "display_data"
    },
    {
     "data": {
      "application/vnd.jupyter.widget-view+json": {
       "model_id": "1c3afbb4dc58496b877e3785779d2a5e",
       "version_major": 2,
       "version_minor": 0
      },
      "text/plain": [
       "Epoch 37/60:   0%|          | 0/122 [00:00<?, ?it/s]"
      ]
     },
     "metadata": {},
     "output_type": "display_data"
    },
    {
     "data": {
      "application/vnd.jupyter.widget-view+json": {
       "model_id": "0ec9c13a705b484e835c33ed0cf863b9",
       "version_major": 2,
       "version_minor": 0
      },
      "text/plain": [
       "Epoch 38/60:   0%|          | 0/122 [00:00<?, ?it/s]"
      ]
     },
     "metadata": {},
     "output_type": "display_data"
    },
    {
     "data": {
      "application/vnd.jupyter.widget-view+json": {
       "model_id": "c5ddfa591a464d27a628a59eb1fd6466",
       "version_major": 2,
       "version_minor": 0
      },
      "text/plain": [
       "Epoch 39/60:   0%|          | 0/122 [00:00<?, ?it/s]"
      ]
     },
     "metadata": {},
     "output_type": "display_data"
    },
    {
     "data": {
      "application/vnd.jupyter.widget-view+json": {
       "model_id": "8778b039439a4a23a04a8c212bb074e3",
       "version_major": 2,
       "version_minor": 0
      },
      "text/plain": [
       "Epoch 40/60:   0%|          | 0/122 [00:00<?, ?it/s]"
      ]
     },
     "metadata": {},
     "output_type": "display_data"
    },
    {
     "data": {
      "application/vnd.jupyter.widget-view+json": {
       "model_id": "a8107fe7696e4c70816f4f1fda236d41",
       "version_major": 2,
       "version_minor": 0
      },
      "text/plain": [
       "Epoch 41/60:   0%|          | 0/122 [00:00<?, ?it/s]"
      ]
     },
     "metadata": {},
     "output_type": "display_data"
    },
    {
     "data": {
      "application/vnd.jupyter.widget-view+json": {
       "model_id": "eb901dbef4a64718939502e90411ba0a",
       "version_major": 2,
       "version_minor": 0
      },
      "text/plain": [
       "Epoch 42/60:   0%|          | 0/122 [00:00<?, ?it/s]"
      ]
     },
     "metadata": {},
     "output_type": "display_data"
    },
    {
     "data": {
      "application/vnd.jupyter.widget-view+json": {
       "model_id": "3acea584aca74032b36b5c6db1934d7c",
       "version_major": 2,
       "version_minor": 0
      },
      "text/plain": [
       "Epoch 43/60:   0%|          | 0/122 [00:00<?, ?it/s]"
      ]
     },
     "metadata": {},
     "output_type": "display_data"
    },
    {
     "data": {
      "application/vnd.jupyter.widget-view+json": {
       "model_id": "c8d94a3fbe99451db9504a53ddc10b25",
       "version_major": 2,
       "version_minor": 0
      },
      "text/plain": [
       "Epoch 44/60:   0%|          | 0/122 [00:00<?, ?it/s]"
      ]
     },
     "metadata": {},
     "output_type": "display_data"
    },
    {
     "data": {
      "application/vnd.jupyter.widget-view+json": {
       "model_id": "265cc69524df471889564a7794cf5a84",
       "version_major": 2,
       "version_minor": 0
      },
      "text/plain": [
       "Epoch 45/60:   0%|          | 0/122 [00:00<?, ?it/s]"
      ]
     },
     "metadata": {},
     "output_type": "display_data"
    },
    {
     "data": {
      "application/vnd.jupyter.widget-view+json": {
       "model_id": "7045b13945144a3baa027058e26aecf2",
       "version_major": 2,
       "version_minor": 0
      },
      "text/plain": [
       "Epoch 46/60:   0%|          | 0/122 [00:00<?, ?it/s]"
      ]
     },
     "metadata": {},
     "output_type": "display_data"
    },
    {
     "data": {
      "application/vnd.jupyter.widget-view+json": {
       "model_id": "dd1ff9ef7da84c81b4122782f61d40c7",
       "version_major": 2,
       "version_minor": 0
      },
      "text/plain": [
       "Epoch 47/60:   0%|          | 0/122 [00:00<?, ?it/s]"
      ]
     },
     "metadata": {},
     "output_type": "display_data"
    },
    {
     "data": {
      "application/vnd.jupyter.widget-view+json": {
       "model_id": "92d2f50cb3344811b9ed4065f347978d",
       "version_major": 2,
       "version_minor": 0
      },
      "text/plain": [
       "Epoch 48/60:   0%|          | 0/122 [00:00<?, ?it/s]"
      ]
     },
     "metadata": {},
     "output_type": "display_data"
    },
    {
     "data": {
      "application/vnd.jupyter.widget-view+json": {
       "model_id": "97f8080e184c4c9a8c3453e530644c15",
       "version_major": 2,
       "version_minor": 0
      },
      "text/plain": [
       "Epoch 49/60:   0%|          | 0/122 [00:00<?, ?it/s]"
      ]
     },
     "metadata": {},
     "output_type": "display_data"
    },
    {
     "data": {
      "application/vnd.jupyter.widget-view+json": {
       "model_id": "78d6ee03373d4780b95aab8c8039c086",
       "version_major": 2,
       "version_minor": 0
      },
      "text/plain": [
       "Epoch 50/60:   0%|          | 0/122 [00:00<?, ?it/s]"
      ]
     },
     "metadata": {},
     "output_type": "display_data"
    },
    {
     "data": {
      "application/vnd.jupyter.widget-view+json": {
       "model_id": "0a031e8f1ba146428111400f36cc06a1",
       "version_major": 2,
       "version_minor": 0
      },
      "text/plain": [
       "Epoch 51/60:   0%|          | 0/122 [00:00<?, ?it/s]"
      ]
     },
     "metadata": {},
     "output_type": "display_data"
    },
    {
     "data": {
      "application/vnd.jupyter.widget-view+json": {
       "model_id": "2bf3430e191f4ea49abbf2ba82648f67",
       "version_major": 2,
       "version_minor": 0
      },
      "text/plain": [
       "Epoch 52/60:   0%|          | 0/122 [00:00<?, ?it/s]"
      ]
     },
     "metadata": {},
     "output_type": "display_data"
    },
    {
     "data": {
      "application/vnd.jupyter.widget-view+json": {
       "model_id": "ffb532420a4943eea262f687865ef45c",
       "version_major": 2,
       "version_minor": 0
      },
      "text/plain": [
       "Epoch 53/60:   0%|          | 0/122 [00:00<?, ?it/s]"
      ]
     },
     "metadata": {},
     "output_type": "display_data"
    },
    {
     "data": {
      "application/vnd.jupyter.widget-view+json": {
       "model_id": "115e2a6f872f48de8e57d2c90c3f2b97",
       "version_major": 2,
       "version_minor": 0
      },
      "text/plain": [
       "Epoch 54/60:   0%|          | 0/122 [00:00<?, ?it/s]"
      ]
     },
     "metadata": {},
     "output_type": "display_data"
    },
    {
     "data": {
      "application/vnd.jupyter.widget-view+json": {
       "model_id": "a7a4dcee6cc940f8893cc567211dc67c",
       "version_major": 2,
       "version_minor": 0
      },
      "text/plain": [
       "Epoch 55/60:   0%|          | 0/122 [00:00<?, ?it/s]"
      ]
     },
     "metadata": {},
     "output_type": "display_data"
    },
    {
     "data": {
      "application/vnd.jupyter.widget-view+json": {
       "model_id": "a5a4afcb3bc2468886702d30bda4bef2",
       "version_major": 2,
       "version_minor": 0
      },
      "text/plain": [
       "Epoch 56/60:   0%|          | 0/122 [00:00<?, ?it/s]"
      ]
     },
     "metadata": {},
     "output_type": "display_data"
    },
    {
     "data": {
      "application/vnd.jupyter.widget-view+json": {
       "model_id": "ac10204ce3dd4e22b3be28b9e2df7297",
       "version_major": 2,
       "version_minor": 0
      },
      "text/plain": [
       "Epoch 57/60:   0%|          | 0/122 [00:00<?, ?it/s]"
      ]
     },
     "metadata": {},
     "output_type": "display_data"
    },
    {
     "data": {
      "application/vnd.jupyter.widget-view+json": {
       "model_id": "acab559316014c3296b32ab95d4f9e05",
       "version_major": 2,
       "version_minor": 0
      },
      "text/plain": [
       "Epoch 58/60:   0%|          | 0/122 [00:00<?, ?it/s]"
      ]
     },
     "metadata": {},
     "output_type": "display_data"
    },
    {
     "data": {
      "application/vnd.jupyter.widget-view+json": {
       "model_id": "d5ae391423904b399cb0afec13113e5e",
       "version_major": 2,
       "version_minor": 0
      },
      "text/plain": [
       "Epoch 59/60:   0%|          | 0/122 [00:00<?, ?it/s]"
      ]
     },
     "metadata": {},
     "output_type": "display_data"
    },
    {
     "data": {
      "application/vnd.jupyter.widget-view+json": {
       "model_id": "f9f3a1fb1fcc42ada048479b1029e260",
       "version_major": 2,
       "version_minor": 0
      },
      "text/plain": [
       "Epoch 60/60:   0%|          | 0/122 [00:00<?, ?it/s]"
      ]
     },
     "metadata": {},
     "output_type": "display_data"
    }
   ],
   "source": [
    "train_results = train(model, train_loader, val_loader, cfg=cfg_train,\n",
    "                      optimizer=optimizer, scheduler=lr_scheduler, scaler=scaler,\n",
    "                      writer=summary_writer)"
   ]
  },
  {
   "cell_type": "markdown",
   "id": "09b6866d",
   "metadata": {},
   "source": [
    "### save all parameters used in the model and training"
   ]
  },
  {
   "cell_type": "code",
   "execution_count": 8,
   "id": "f7b195b6",
   "metadata": {},
   "outputs": [],
   "source": [
    "# save all the hyperparameters into a json file\n",
    "rl_scheduler_state_dict = lr_scheduler.state_dict() if lr_scheduler.__class__.__name__ != \"WarmupThenCosine\" else {\n",
    "            k:v for k, v in lr_scheduler.state_dict().items() if k != \"cosine\"}\n",
    "all_hparams_cfg = {\n",
    "    \"tokenizer\" : {\n",
    "        \"type\": \"bytelevel_bpe\",\n",
    "        \"n_merges\": N_MERGES,\n",
    "        \"min_frequency\": MIN_FREQ,\n",
    "        \"special_tokens\": SPECIAL_TOKENS,\n",
    "    },\n",
    "    \"data\": {\n",
    "        \"batch_size\": BATCH_SIZE,\n",
    "        \"block_size\": BLOCK_SIZE,\n",
    "    },\n",
    "    \"model\": {**vars(cfg_model).copy(), \"model_size\": model_size},\n",
    "    \"optimizer\": {\n",
    "        \"type\": optimizer.__class__.__name__,\n",
    "        \"lr\": LR,\n",
    "        \"weight_decay\": WEIGHT_DECAY,\n",
    "        \"defaults\": optimizer.defaults,\n",
    "    },\n",
    "    \"lr_scheduler\": {\n",
    "        \"type\": lr_scheduler.__class__.__name__,\n",
    "        \"eta_min\": ETA_MIN,\n",
    "        \"state_dict\": rl_scheduler_state_dict,\n",
    "    },\n",
    "    \"scaler\": {\n",
    "        \"type\": scaler.__class__.__name__,\n",
    "        \"enabled\": scaler.is_enabled(),\n",
    "        \"state_dict\": scaler.state_dict(),\n",
    "    },\n",
    "    \"training\": vars(cfg_train).copy(),\n",
    "    \"results\": train_results,\n",
    "}\n",
    "\n",
    "# save it to checkpoint dir, same prefix as checkpoint files\n",
    "with open(os.path.join(CHECKPOINT_DIR, all_hparams_cfg_filename), \"w\") as f:\n",
    "    json.dump(all_hparams_cfg, f, indent=4)\n",
    "\n",
    "# write it to tensorboard\n",
    "summary_writer.add_text(\"config/json\", \"```json\\n\" + json.dumps(all_hparams_cfg, indent=2, sort_keys=True) + \"\\n```\", global_step=0)\n",
    "summary_writer.flush()\n",
    "summary_writer.close()"
   ]
  },
  {
   "cell_type": "markdown",
   "id": "0a1da283",
   "metadata": {},
   "source": [
    "## results and evaluation"
   ]
  },
  {
   "cell_type": "code",
   "execution_count": 9,
   "id": "5eee7297",
   "metadata": {},
   "outputs": [
    {
     "data": {
      "text/html": [
       "<div>\n",
       "<style scoped>\n",
       "    .dataframe tbody tr th:only-of-type {\n",
       "        vertical-align: middle;\n",
       "    }\n",
       "\n",
       "    .dataframe tbody tr th {\n",
       "        vertical-align: top;\n",
       "    }\n",
       "\n",
       "    .dataframe thead th {\n",
       "        text-align: right;\n",
       "    }\n",
       "</style>\n",
       "<table border=\"1\" class=\"dataframe\">\n",
       "  <thead>\n",
       "    <tr style=\"text-align: right;\">\n",
       "      <th></th>\n",
       "      <th>train_loss</th>\n",
       "      <th>train_ppl</th>\n",
       "      <th>val_ppl</th>\n",
       "      <th>val_loss</th>\n",
       "      <th>epoch</th>\n",
       "    </tr>\n",
       "  </thead>\n",
       "  <tbody>\n",
       "    <tr>\n",
       "      <th>0</th>\n",
       "      <td>6.566258</td>\n",
       "      <td>710.705688</td>\n",
       "      <td>598.038025</td>\n",
       "      <td>6.393654</td>\n",
       "      <td>1</td>\n",
       "    </tr>\n",
       "    <tr>\n",
       "      <th>1</th>\n",
       "      <td>5.990410</td>\n",
       "      <td>399.578339</td>\n",
       "      <td>310.270905</td>\n",
       "      <td>5.737446</td>\n",
       "      <td>3</td>\n",
       "    </tr>\n",
       "    <tr>\n",
       "      <th>2</th>\n",
       "      <td>5.254490</td>\n",
       "      <td>191.423813</td>\n",
       "      <td>152.003403</td>\n",
       "      <td>5.023903</td>\n",
       "      <td>5</td>\n",
       "    </tr>\n",
       "    <tr>\n",
       "      <th>3</th>\n",
       "      <td>4.718144</td>\n",
       "      <td>111.960304</td>\n",
       "      <td>90.756592</td>\n",
       "      <td>4.508181</td>\n",
       "      <td>7</td>\n",
       "    </tr>\n",
       "    <tr>\n",
       "      <th>4</th>\n",
       "      <td>4.354810</td>\n",
       "      <td>77.852051</td>\n",
       "      <td>63.470013</td>\n",
       "      <td>4.150568</td>\n",
       "      <td>9</td>\n",
       "    </tr>\n",
       "  </tbody>\n",
       "</table>\n",
       "</div>"
      ],
      "text/plain": [
       "   train_loss   train_ppl     val_ppl  val_loss  epoch\n",
       "0    6.566258  710.705688  598.038025  6.393654      1\n",
       "1    5.990410  399.578339  310.270905  5.737446      3\n",
       "2    5.254490  191.423813  152.003403  5.023903      5\n",
       "3    4.718144  111.960304   90.756592  4.508181      7\n",
       "4    4.354810   77.852051   63.470013  4.150568      9"
      ]
     },
     "metadata": {},
     "output_type": "display_data"
    },
    {
     "data": {
      "text/html": [
       "<div>\n",
       "<style scoped>\n",
       "    .dataframe tbody tr th:only-of-type {\n",
       "        vertical-align: middle;\n",
       "    }\n",
       "\n",
       "    .dataframe tbody tr th {\n",
       "        vertical-align: top;\n",
       "    }\n",
       "\n",
       "    .dataframe thead th {\n",
       "        text-align: right;\n",
       "    }\n",
       "</style>\n",
       "<table border=\"1\" class=\"dataframe\">\n",
       "  <thead>\n",
       "    <tr style=\"text-align: right;\">\n",
       "      <th></th>\n",
       "      <th>train_loss</th>\n",
       "      <th>train_ppl</th>\n",
       "      <th>val_ppl</th>\n",
       "      <th>val_loss</th>\n",
       "      <th>epoch</th>\n",
       "    </tr>\n",
       "  </thead>\n",
       "  <tbody>\n",
       "    <tr>\n",
       "      <th>25</th>\n",
       "      <td>3.642382</td>\n",
       "      <td>38.182667</td>\n",
       "      <td>30.311289</td>\n",
       "      <td>3.411520</td>\n",
       "      <td>51</td>\n",
       "    </tr>\n",
       "    <tr>\n",
       "      <th>26</th>\n",
       "      <td>3.641958</td>\n",
       "      <td>38.166477</td>\n",
       "      <td>30.300301</td>\n",
       "      <td>3.411158</td>\n",
       "      <td>53</td>\n",
       "    </tr>\n",
       "    <tr>\n",
       "      <th>27</th>\n",
       "      <td>3.639062</td>\n",
       "      <td>38.056122</td>\n",
       "      <td>30.294117</td>\n",
       "      <td>3.410954</td>\n",
       "      <td>55</td>\n",
       "    </tr>\n",
       "    <tr>\n",
       "      <th>28</th>\n",
       "      <td>3.640320</td>\n",
       "      <td>38.104012</td>\n",
       "      <td>30.291689</td>\n",
       "      <td>3.410873</td>\n",
       "      <td>57</td>\n",
       "    </tr>\n",
       "    <tr>\n",
       "      <th>29</th>\n",
       "      <td>3.641730</td>\n",
       "      <td>38.157795</td>\n",
       "      <td>30.291307</td>\n",
       "      <td>3.410861</td>\n",
       "      <td>59</td>\n",
       "    </tr>\n",
       "  </tbody>\n",
       "</table>\n",
       "</div>"
      ],
      "text/plain": [
       "    train_loss  train_ppl    val_ppl  val_loss  epoch\n",
       "25    3.642382  38.182667  30.311289  3.411520     51\n",
       "26    3.641958  38.166477  30.300301  3.411158     53\n",
       "27    3.639062  38.056122  30.294117  3.410954     55\n",
       "28    3.640320  38.104012  30.291689  3.410873     57\n",
       "29    3.641730  38.157795  30.291307  3.410861     59"
      ]
     },
     "metadata": {},
     "output_type": "display_data"
    },
    {
     "data": {
      "image/png": "[encoded data removed]",
      "text/plain": [
       "<Figure size 1200x500 with 2 Axes>"
      ]
     },
     "metadata": {},
     "output_type": "display_data"
    }
   ],
   "source": [
    "# make train_loss, train_ppl, val_ppl, val_loss and epochs into a DataFrame\n",
    "history = train_results[\"history\"]\n",
    "history_df = pd.DataFrame(history)\n",
    "\n",
    "display(history_df.head())\n",
    "display(history_df.tail())\n",
    "\n",
    "plt.figure(figsize=(12, 5))\n",
    "# loss \n",
    "plt.subplot(1, 2, 1)\n",
    "plt.plot(history_df['epoch'], history_df[\"train_loss\"], label=\"Train Loss\")\n",
    "plt.plot(history_df['epoch'], history_df[\"val_loss\"], label=\"Val Loss\")\n",
    "plt.xlabel(\"Epochs\")\n",
    "plt.ylabel(\"Loss\")\n",
    "# plt.xticks(history_df['epochs'][::int(len(history_df['epochs'])//9)+1])  \n",
    "plt.title(\"Training Loss and Validation Perplexity\")\n",
    "plt.legend()\n",
    "plt.grid()\n",
    "\n",
    "# perplexity\n",
    "plt.subplot(1, 2, 2)\n",
    "plt.plot(history_df['epoch'], history_df[\"train_ppl\"], label=\"Train PPL\")\n",
    "plt.plot(history_df['epoch'], history_df[\"val_ppl\"], label=\"Val PPL\")\n",
    "plt.xlabel(\"Epochs\")\n",
    "plt.ylabel(\"Perplexity\")\n",
    "# plt.xticks(history_df['epochs'][::int(len(history_df['epochs'])//9)+1])  \n",
    "plt.title(\"Validation Perplexity Over Time\")\n",
    "plt.legend()\n",
    "plt.grid()\n",
    "plt.tight_layout()\n",
    "\n",
    "# save the training plot\n",
    "plt.savefig(os.path.join(RESULTS_DIR, f\"nBigram_training_plot.png\")) \n",
    "\n",
    "plt.show()"
   ]
  },
  {
   "cell_type": "code",
   "execution_count": 10,
   "id": "f6d7ec1e",
   "metadata": {},
   "outputs": [
    {
     "data": {
      "text/html": [
       "<div>\n",
       "<style scoped>\n",
       "    .dataframe tbody tr th:only-of-type {\n",
       "        vertical-align: middle;\n",
       "    }\n",
       "\n",
       "    .dataframe tbody tr th {\n",
       "        vertical-align: top;\n",
       "    }\n",
       "\n",
       "    .dataframe thead th {\n",
       "        text-align: right;\n",
       "    }\n",
       "</style>\n",
       "<table border=\"1\" class=\"dataframe\">\n",
       "  <thead>\n",
       "    <tr style=\"text-align: right;\">\n",
       "      <th></th>\n",
       "      <th>split</th>\n",
       "      <th>loss(NLL)</th>\n",
       "      <th>perplexity</th>\n",
       "    </tr>\n",
       "  </thead>\n",
       "  <tbody>\n",
       "    <tr>\n",
       "      <th>0</th>\n",
       "      <td>train</td>\n",
       "      <td>3.641730</td>\n",
       "      <td>38.157795</td>\n",
       "    </tr>\n",
       "    <tr>\n",
       "      <th>1</th>\n",
       "      <td>val</td>\n",
       "      <td>3.410861</td>\n",
       "      <td>30.291307</td>\n",
       "    </tr>\n",
       "    <tr>\n",
       "      <th>2</th>\n",
       "      <td>test</td>\n",
       "      <td>3.364761</td>\n",
       "      <td>28.926571</td>\n",
       "    </tr>\n",
       "  </tbody>\n",
       "</table>\n",
       "</div>"
      ],
      "text/plain": [
       "   split  loss(NLL)  perplexity\n",
       "0  train   3.641730   38.157795\n",
       "1    val   3.410861   30.291307\n",
       "2   test   3.364761   28.926571"
      ]
     },
     "metadata": {},
     "output_type": "display_data"
    }
   ],
   "source": [
    "# compare with exponentiated average negative log likelihood\n",
    "test_nll = evaluate(model, test_loader, cfg_train.device)\n",
    "test_ppl = np.exp(test_nll)\n",
    "\n",
    "val_ppl = train_results[\"best_val_ppl\"]\n",
    "train_ppl = train_results[\"best_train_ppl\"]\n",
    "\n",
    "val_nll = torch.log(torch.tensor(val_ppl)).item()\n",
    "train_nll = torch.log(torch.tensor(train_ppl)).item()\n",
    "\n",
    "# display in a DataFrame\n",
    "test_results_df = pd.DataFrame({\n",
    "    \"split\": [\"train\", \"val\", \"test\"],\n",
    "    \"loss(NLL)\": [train_nll, val_nll, test_nll],\n",
    "    \"perplexity\": [train_ppl, val_ppl, test_ppl],\n",
    "})\n",
    "display(test_results_df)"
   ]
  },
  {
   "cell_type": "code",
   "execution_count": 11,
   "id": "6b03dab9",
   "metadata": {},
   "outputs": [
    {
     "name": "stdout",
     "output_type": "stream",
     "text": [
      "test results saved to ../results/neural_bigram/test_performance_results.csv\n"
     ]
    }
   ],
   "source": [
    "# save test results\n",
    "test_results_filename = os.path.join(RESULTS_DIR, \"test_performance_results.csv\")\n",
    "test_results_df.to_csv(test_results_filename, index=False)\n",
    "print(f\"test results saved to {test_results_filename}\")"
   ]
  },
  {
   "cell_type": "markdown",
   "id": "a0f89d60",
   "metadata": {},
   "source": [
    "### generate text from the trained model"
   ]
  },
  {
   "cell_type": "code",
   "execution_count": 14,
   "id": "b3d51c4e",
   "metadata": {},
   "outputs": [
    {
     "name": "stdout",
     "output_type": "stream",
     "text": [
      "used tokenizer: bytelevel_bpe, merges: 200, min_freq: 2\n",
      ">>>> <context>\n",
      " -------------------- \n",
      "<<<< <generated_text>\n",
      "\n",
      " --------------------------------------------------------------------------------\n",
      ">>>>  shall the lovers\n",
      "--------------------\n",
      "<<<<   in the dieary, spe\n",
      "\n",
      "For I wo theirst sough,\n",
      "\n",
      "Whirst thou hand\n",
      "That would you.\n",
      "In\n",
      "\n",
      "\n",
      "Whence is no prewness, and hears,\n",
      "\n",
      "Yound,\n",
      "Its, sle bathy tecius ortleereth shese\n",
      "GOM\n",
      "\n",
      " --------------------------------------------------------------------------------\n",
      ">>>> UCK\n",
      "M\n",
      "--------------------\n",
      "<<<<  LET\n",
      "CALORADo, that hear.\n",
      "\n",
      "\n",
      "Mo.\n",
      "A\n",
      "\n",
      "\n",
      "\n",
      "\n",
      "Are?\n",
      "MI was,\n",
      "\n",
      "\n",
      "\n",
      "\n",
      "Fave mean, and cans of thod blieser\n",
      "\n",
      "TA\n",
      "Tisear\n",
      "\n",
      "\n",
      "ITRUS\n",
      "\n",
      "\n",
      "AUDY\n",
      "\n",
      "TONThouted murready by\n",
      "\n",
      " --------------------------------------------------------------------------------\n",
      ">>>> s all,\n",
      "T\n",
      "--------------------\n",
      "<<<<  he qualmppthy,\n",
      "\n",
      "\n",
      "ODIUS\n",
      "Wh of yourse.\n",
      "\n",
      "\n",
      "\n",
      "\n",
      "MELAndervisthens may you sacughted,\n",
      "\n",
      "YNow nowneponelowncome plth, that she bready,\n",
      "\n",
      "ESCENUDELEx,\n",
      "NOBRU\n",
      "\n",
      " --------------------------------------------------------------------------------\n",
      ">>>> ON\n",
      "But we\n",
      "--------------------\n",
      "<<<<  lls at,\n",
      "\n",
      "\n",
      "And incastee of\n",
      "\n",
      "FFlieary\n",
      "\n",
      "Which as eness.\n",
      "\n",
      "DUTRIfauee, what apather,\n",
      "ORAnd mond CAEPO\n",
      "\n",
      "\n",
      "Whiponecaucomeo,\n",
      "\n",
      "Thereamltivilormius'\n",
      "\n",
      " --------------------------------------------------------------------------------\n",
      ">>>>  salt gre\n",
      "--------------------\n",
      "<<<<  s\n",
      "Mady, my homeo, I do not morn the come.\n",
      "\n",
      "OSThenessenie;\n",
      "\n",
      "\n",
      "\n",
      "LLThererut the bust cud\n",
      "\n",
      "\n",
      "\n",
      "BERONY\n",
      "Nowncongind the crateng, and, ieshommus.\n",
      "Weway.\n",
      "Thineare, and\n"
     ]
    }
   ],
   "source": [
    "# get a batch from validation set and generate text\n",
    "batch_gen = 5\n",
    "max_new_tokens = 100\n",
    "\n",
    "unified_context = \" \".join(test_text.split()[:3])\n",
    "unified_context_ids = encode(unified_context, add_special_tokens=False).ids\n",
    "context_len = len(unified_context_ids)\n",
    "\n",
    "context_ids_batch, _ = next(iter(test_loader))\n",
    "# replace first row with unified_context_ids\n",
    "context_ids_batch[0, :context_len] = torch.tensor(unified_context_ids[:BLOCK_SIZE], dtype=torch.long)\n",
    "\n",
    "context_ids_batch = context_ids_batch.to(cfg_train.device, non_blocking=True)\n",
    "# generate text from the model\n",
    "generated_text = model.generate(context_ids_batch[:batch_gen, :context_len], max_new_tokens=max_new_tokens, temperature=0.9, top_k=20)\n",
    "\n",
    "print(f\"used tokenizer: bytelevel_bpe, merges: {N_MERGES}, min_freq: {MIN_FREQ}\")\n",
    "print(f\">>>> <context>\\n\", \"-\" *20, \"\\n<<<< <generated_text>\")\n",
    "for i, text in enumerate(generated_text):\n",
    "    print(\"\\n\", \"-\" * 80)\n",
    "    print(\">>>>\", decode(text[:context_len].tolist()))\n",
    "    print(\"-\" * 20)\n",
    "    print(\"<<<< \", decode(text[context_len:].tolist()))\n",
    "    if i + 1 >= batch_gen:\n",
    "        break"
   ]
  },
  {
   "cell_type": "code",
   "execution_count": null,
   "id": "89a99408",
   "metadata": {},
   "outputs": [
    {
     "name": "stdout",
     "output_type": "stream",
     "text": [
      "generation results saved to ../results/neural_bigram/text_generation_results.txt\n"
     ]
    }
   ],
   "source": [
    "# save generation results to a text file\n",
    "gen_results_filename = os.path.join(RESULTS_DIR, \"text_generation_results.txt\")\n",
    "with open(gen_results_filename, \"w\", encoding=\"utf-8\") as f:\n",
    "    f.write(f\"used tokenizer: bytelevel_bpe, merges: {N_MERGES}, min_freq: {MIN_FREQ}\\n\")\n",
    "    f.write(f\">>>> <context>\\n\")\n",
    "    f.write(\"-\" * 20 + \"\\n\")\n",
    "    f.write(f\"<<<< <generated_text>\\n\")\n",
    "    for i, text in enumerate(generated_text):\n",
    "        f.write(\"\\n\" + \"-\" * 80 + \"\\n\")\n",
    "        f.write(\">>>> \" + decode(text[:context_len].tolist()) + \"\\n\")\n",
    "        f.write(\"-\" * 20 + \"\\n\")\n",
    "        f.write(\"<<<< \" + decode(text[context_len:].tolist()) + \"\\n\")\n",
    "        if i + 1 >= batch_gen:\n",
    "            break\n",
    "print(f\"generation results saved to {gen_results_filename}\")"
   ]
  }
 ],
 "metadata": {
  "kernelspec": {
   "display_name": ".venv (3.12.3)",
   "language": "python",
   "name": "python3"
  },
  "language_info": {
   "codemirror_mode": {
    "name": "ipython",
    "version": 3
   },
   "file_extension": ".py",
   "mimetype": "text/x-python",
   "name": "python",
   "nbconvert_exporter": "python",
   "pygments_lexer": "ipython3",
   "version": "3.12.3"
  }
 },
 "nbformat": 4,
 "nbformat_minor": 5
}
