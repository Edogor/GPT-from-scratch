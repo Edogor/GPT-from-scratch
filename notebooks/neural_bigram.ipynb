{
 "cells": [
  {
   "cell_type": "code",
   "execution_count": 1,
   "id": "ebac1662",
   "metadata": {},
   "outputs": [],
   "source": [
    "# # uncomment if running in colab\n",
    "# # install the github repo https://github.com/Edogor/GPT_from_scratch.git\n",
    "# !git clone https://github.com/Edogor/GPT_from_scratch.git\n",
    "# # change to repo dir and install requirements\n",
    "# %cd /content/GPT_from_scratch/\n",
    "# %pip install -r requirements.txt\n",
    "# # download and prep preprocess data\n",
    "# !python ./data/clean_nltk_shakespear_data_w_nl.py\n",
    "# # change to notebooks dir\n",
    "# %cd /content/GPT_from_scratch/notebooks/\n",
    "# %pwd ."
   ]
  },
  {
   "cell_type": "markdown",
   "id": "e72e688f",
   "metadata": {},
   "source": [
    "## imports"
   ]
  },
  {
   "cell_type": "code",
   "execution_count": null,
   "id": "0835929e",
   "metadata": {},
   "outputs": [],
   "source": [
    "import torch\n",
    "import torch.nn as nn\n",
    "import torch.nn.functional as F    \n",
    "from torch.optim import AdamW\n",
    "from torch.optim import ASGD\n",
    "from torch.amp import GradScaler\n",
    "from torch.optim.lr_scheduler import CosineAnnealingLR\n",
    "from torch.optim.lr_scheduler import CosineAnnealingWarmRestarts\n",
    "from torch.utils.tensorboard import SummaryWriter\n",
    "\n",
    "import numpy as np\n",
    "import pandas as pd\n",
    "import matplotlib.pyplot as plt\n",
    "from tqdm.auto import tqdm\n",
    "import time\n",
    "from functools import partial\n",
    "\n",
    "import json\n",
    "import os\n",
    "\n",
    "CHECKPOINT_DIR = os.path.join(\"..\", \"checkpoints\", \"nBigram\")\n",
    "LOG_DIR = os.path.join(\"..\", \"logs\", \"nBigram\")\n",
    "RESULTS_DIR = os.path.join(\"..\", \"results\", \"nBigram\")\n",
    "\n",
    "os.makedirs(CHECKPOINT_DIR, exist_ok=True)\n",
    "os.makedirs(RESULTS_DIR, exist_ok=True)\n",
    "os.makedirs(LOG_DIR, exist_ok=True)"
   ]
  },
  {
   "cell_type": "code",
   "execution_count": 3,
   "id": "295d588b",
   "metadata": {},
   "outputs": [],
   "source": [
    "# add parent directory to the path to allow imports\n",
    "import sys\n",
    "sys.path.append(os.path.abspath(os.path.join(os.getcwd(), \"..\")))\n",
    "\n",
    "from neural_bigram import NeuralBigram, ConfigNeuralBigram\n",
    "from train_mj import train, evaluate, evaluate_ppl, ConfigTrain\n",
    "from utils import init_dataloader, WarmupThenCosine, set_seed, count_params, save_checkpoint, load_checkpoint\n",
    "from bpe_hf import train_bytelevel_bpe, train_and_encode_tokenizer, load_tokenizer, TOK_SPECIAL_TOKENS, TOK_SAVE_DIR"
   ]
  },
  {
   "cell_type": "markdown",
   "id": "c7db0df6",
   "metadata": {},
   "source": [
    "## load data"
   ]
  },
  {
   "cell_type": "code",
   "execution_count": 4,
   "id": "3f18254b",
   "metadata": {},
   "outputs": [
    {
     "name": "stdout",
     "output_type": "stream",
     "text": [
      "train text charachters length:  883046\n",
      "train text words count:  158364\n",
      "train text first 100 chars:  The Tragedy of Antony and Cleopatra\n",
      "\n",
      "\n",
      "Dramatis Personae\n",
      "\n",
      "\n",
      "\n",
      "MARK ANTONY\n",
      "OCTAVIUS CAESAR\n",
      "M. AEMILIUS L\n"
     ]
    }
   ],
   "source": [
    "data_dir = \"../data/\"\n",
    "# without nl\n",
    "# train_file = \"Shakespeare_clean_train.txt\"\n",
    "# val_file = \"Shakespeare_clean_valid.txt\"\n",
    "# test_file = \"Shakespeare_clean_test.txt\"\n",
    "\n",
    "# with nl\n",
    "train_file = \"Shakespeare_clean_w_nl_train.txt\"\n",
    "val_file = \"Shakespeare_clean_w_nl_valid.txt\"\n",
    "test_file = \"Shakespeare_clean_w_nl_test.txt\"\n",
    "\n",
    "train_file = os.path.join(data_dir, train_file)\n",
    "test_file = os.path.join(data_dir, test_file)\n",
    "val_file = os.path.join(data_dir, val_file)\n",
    "\n",
    "with open(train_file, \"r\", encoding=\"utf-8\") as f:\n",
    "    train_text = f.read().strip()\n",
    "\n",
    "with open(val_file, \"r\", encoding=\"utf-8\") as f:\n",
    "    val_text = f.read().strip()\n",
    "\n",
    "with open(test_file, \"r\", encoding=\"utf-8\") as f:\n",
    "    test_text = f.read().strip()\n",
    "\n",
    "print(\"train text charachters length: \", len(train_text))\n",
    "print(\"train text words count: \", len(train_text.split()))\n",
    "print(\"train text first 100 chars: \", train_text[:100])"
   ]
  },
  {
   "cell_type": "markdown",
   "id": "8176563d",
   "metadata": {},
   "source": [
    "## initialize tokensizer and data embeddings"
   ]
  },
  {
   "cell_type": "code",
   "execution_count": 5,
   "id": "1027401e",
   "metadata": {},
   "outputs": [
    {
     "name": "stdout",
     "output_type": "stream",
     "text": [
      "vocab size:  1060\n",
      "BPE tokenizer vocab:  [('ght', 357), ('Ń', 259), ('ENE', 768), ('Ġgra', 771), ('¿', 127), ('ĠS', 322), ('ĠThou', 793), ('ia', 764), ('Ġplay', 816), ('Ġwhich', 624), ('Ġmy', 324), ('ð', 176), ('gain', 630), ('X', 59), ('<bos>', 2), ('Ġmade', 872), ('ly', 395), ('ĠIt', 661), ('K', 46), ('US', 358), ('ook', 574), ('aught', 1045), ('È', 136), ('ĠP', 370), ('ĠTo', 424), ('R', 53), ('ct', 447), ('Ġthese', 738), ('ĠL', 348), ('Ġfl', 772), ('Ġlord', 476), ('3', 22), ('`', 67), ('if', 433), ('Ġlie', 983), ('ard', 495), ('th', 573), ('cond', 863), ('-', 16), ('IN', 598), ('ous', 499), ('eunt', 674), ('À', 128), ('l', 79), ('Ġcould', 973), ('ø', 184), ('ĠOCTAVIUS', 850), ('Ġhold', 1051), ('Ġknow', 533), ('AN', 440), ('Ġgive', 717), ('Ġoff', 684), ('Ġke', 859), ('UT', 657), ('ī', 235), ('Č', 204), ('us', 344), ('Ġfo', 731), ('ĳ', 243), ('D', 39), ('ģ', 227), ('Ġus', 544), ('orrow', 917), ('use', 928), ('Ġkn', 442), ('ĠLADY', 811), ('®', 110), ('Ġsu', 425), ('Ġlook', 712), ('le', 323), ('Ġdown', 921), ('ĠOCTA', 795), ('<', 31), ('ANIO', 1041), ('ace', 638), ('ath', 516), ('EOPA', 694), ('ĠROM', 807), ('ĠNo', 729), ('Ġnow', 521), ('Ġnat', 988), ('ĠG', 392), ('ĠThen', 1027), ('@', 35), ('Ġm', 267), ('Ġfriend', 697), ('are', 626), ('ĸ', 248), ('_', 66), ('ter', 450), ('ight', 413), ('ANT', 1050), ('atch', 866), ('Ò', 146), ('ĠSCENE', 776), ('Ġthy', 460), ('Ć', 198), ('Ġby', 465), ('pe', 416), ('Ġnew', 903)]\n",
      "train ids length:  389320\n",
      "train ids first 100 ids:  [362, 292, 375, 74, 334, 92, 302, 745, 298, 316, 323, 959, 311, 375, 202, 202, 202, 39, 375, 80, 311, 274, 370, 493, 282, 68, 72, 202, 202, 202, 202, 48, 394, 46, 609, 202, 50, 794, 57, 407, 777, 202, 48, 17, 293, 40, 760, 47, 407, 348, 40, 51, 44, 39, 358, 202, 87, 360, 607, 89, 329, 86, 17, 202, 202, 202, 54, 40, 59, 55, 358, 370, 568, 51, 40, 407, 202, 202, 202, 39, 568, 1008, 1010, 202, 57, 419, 55, 44, 862, 202, 446, 50, 54, 202, 54, 38, 394, 358, 202, 1015]\n",
      "train ids first 100 individual tokens:  ['ĠThe', 'ĠT', 'ra', 'g', 'ed', 'y', 'Ġof', 'ĠAntony', 'Ġand', 'ĠC', 'le', 'op', 'at', 'ra', 'Ċ', 'Ċ', 'Ċ', 'D', 'ra', 'm', 'at', 'is', 'ĠP', 'ers', 'on', 'a', 'e', 'Ċ', 'Ċ', 'Ċ', 'Ċ', 'M', 'AR', 'K', 'ĠANTONY', 'Ċ', 'O', 'CTA', 'V', 'IUS', 'ĠCAESAR', 'Ċ', 'M', '.', 'ĠA', 'E', 'MI', 'L', 'IUS', 'ĠL', 'E', 'P', 'I', 'D', 'US', 'Ċ', 't', 'ri', 'um', 'v', 'ir', 's', '.', 'Ċ', 'Ċ', 'Ċ', 'S', 'E', 'X', 'T', 'US', 'ĠP', 'OM', 'P', 'E', 'IUS', 'Ċ', 'Ċ', 'Ċ', 'D', 'OM', 'ITIUS', 'ĠENOBARBUS', 'Ċ', 'V', 'EN', 'T', 'I', 'DIUS', 'Ċ', 'ER', 'O', 'S', 'Ċ', 'S', 'C', 'AR', 'US', 'Ċ', 'DER']\n"
     ]
    }
   ],
   "source": [
    "N_MERGES = 800\n",
    "MIN_FREQ = 2\n",
    "SPECIAL_TOKENS = TOK_SPECIAL_TOKENS.copy()\n",
    "PAD_TOKEN = SPECIAL_TOKENS.get(\"pad\", \"<pad>\")\n",
    "BOS_TOKEN = SPECIAL_TOKENS.get(\"bos\", \"<bos>\")\n",
    "EOS_TOKEN = SPECIAL_TOKENS.get(\"eos\", \"<eos>\")\n",
    "\n",
    "tok_name = f\"bpe_mBigram_{N_MERGES}.json\"\n",
    "tok_dir = TOK_SAVE_DIR\n",
    "bpe_tokenizer = train_bytelevel_bpe(\n",
    "    merges=N_MERGES,\n",
    "    min_frequency=MIN_FREQ,\n",
    "    files=[train_file],\n",
    "    lowercase=False,\n",
    "    add_prefix_space=True,\n",
    "    special_tokens=SPECIAL_TOKENS,\n",
    "    save_filename=tok_name,\n",
    "    save_dir=tok_dir\n",
    ")\n",
    "\n",
    "encode = partial(bpe_tokenizer.encode, add_special_tokens=False)\n",
    "decode = bpe_tokenizer.decode\n",
    "vocab_size = bpe_tokenizer.get_vocab_size()\n",
    "print(\"vocab size: \", vocab_size)\n",
    "print(\"BPE tokenizer vocab: \", list(bpe_tokenizer.get_vocab().items())[:100])\n",
    "\n",
    "PAD_TOKEN_ID = bpe_tokenizer.token_to_id(PAD_TOKEN) \n",
    "BOS_TOKEN_ID = bpe_tokenizer.token_to_id(BOS_TOKEN)\n",
    "EOS_TOKEN_ID = bpe_tokenizer.token_to_id(EOS_TOKEN)\n",
    "\n",
    "train_ids = encode(train_text).ids\n",
    "val_ids = encode(val_text).ids\n",
    "test_ids = encode(test_text).ids\n",
    "\n",
    "print(\"train ids length: \", len(train_ids))\n",
    "print(\"train ids first 100 ids: \", train_ids[:100])\n",
    "print(\"train ids first 100 individual tokens: \", [bpe_tokenizer.id_to_token(i) for i in train_ids[:100]]) "
   ]
  },
  {
   "cell_type": "markdown",
   "id": "d3ed89b0",
   "metadata": {},
   "source": [
    "## define the model's and training parameters (configs)"
   ]
  },
  {
   "cell_type": "code",
   "execution_count": null,
   "id": "18ed5e16",
   "metadata": {},
   "outputs": [
    {
     "name": "stdout",
     "output_type": "stream",
     "text": [
      "device:  cpu\n",
      "vocab size:  1060\n",
      "number of model parameters:  1_123_600\n",
      "number of batches in train loader:  12166\n",
      "number of batches in test loader:  1494\n",
      "number of batches in val loader:  1474\n",
      "log dir:  ../logs/neural_bigram/nbigram_bpe800/0.003_drop0.2_250826_214034\n",
      "checkpoint dir:  ../checkpoints/neural_bigram\n",
      "checkpoint best filename:  nbigram_bpe800_best.pt\n",
      "checkpoint last filename:  nbigram_bpe800_last.pt\n"
     ]
    }
   ],
   "source": [
    "SEED = 10\n",
    "DEVICE = \"cuda\" if torch.cuda.is_available() else \"cpu\"\n",
    "# hyperparameters \n",
    "# tokenizer\n",
    "# N_MERGES = 200\n",
    "# MIN_FREQ = 2\n",
    "# data\n",
    "BATCH_SIZE = 32\n",
    "BLOCK_SIZE = 128\n",
    "\n",
    "#  model\n",
    "DROPOUT = 0.2\n",
    "# optimizer\n",
    "LR = 3e-3\n",
    "WEIGHT_DECAY = 1e-4\n",
    "# lr scheduler\n",
    "ETA_MIN = 1e-6\n",
    "\n",
    "# training loop\n",
    "EPOCHS = 60\n",
    "ES_PATIENCE = 5\n",
    "ES_TOLERANCE = 1e-6\n",
    "GRAD_ACCUM_STEPS = 1\n",
    "USE_AMP = True if DEVICE == \"cuda\" else False # IMPORTANT: set to False if training on CPU training \n",
    "\n",
    "# checkpoints\n",
    "EVAL_INTERVAL = 2   # evaluate every n epochs\n",
    "CKPT_INTERVAL = 10  # save checkpoint every n epochs\n",
    "\n",
    "# make unique checkpoint file prefix from the parameters\n",
    "ckpt_file_prefix = f\"nbigram_bpe{N_MERGES}\"\n",
    "all_hparams_cfg_filename = f\"{ckpt_file_prefix}_hparams.json\"\n",
    "\n",
    "# config for training\n",
    "cfg_train = ConfigTrain(device=DEVICE,\n",
    "                    epochs=EPOCHS, \n",
    "                    early_stop_patience=ES_PATIENCE,\n",
    "                    early_stop_tolerance=ES_TOLERANCE,\n",
    "                    grad_accum_steps=GRAD_ACCUM_STEPS,\n",
    "                    # max_grad_norm=data.get(\"max_grad_norm\", 1.0),\n",
    "                    use_amp=USE_AMP,\n",
    "                    seed=SEED,\n",
    "                    eval_interval=EVAL_INTERVAL,\n",
    "                    ckpt_interval=CKPT_INTERVAL,\n",
    "                    ckpt_dir=CHECKPOINT_DIR,\n",
    "                    ckpt_best_filename=f\"{ckpt_file_prefix}_best.pt\",\n",
    "                    ckpt_last_filename=f\"{ckpt_file_prefix}_last.pt\",\n",
    "                    log_dir=os.path.join(LOG_DIR, f\"{ckpt_file_prefix}\", f'{LR}_drop{DROPOUT}_{time.strftime(\"%y%m%d_%H%M%S\")}'),\n",
    "                    )\n",
    "# config for model\n",
    "cfg_model = ConfigNeuralBigram(\n",
    "                    vocab_size=vocab_size,\n",
    "                    dropout=DROPOUT\n",
    "                    )\n",
    "\n",
    "print(\"device: \", DEVICE)\n",
    "# model \n",
    "print(\"vocab size: \", vocab_size)\n",
    "print(\"number of model parameters: \", f\"{count_params(NeuralBigram(config=cfg_model)):_d}\")\n",
    "\n",
    "# print all log and checkpoint dir and \n",
    "print(\"number of batches in train loader: \", len(train_ids)//BATCH_SIZE)\n",
    "print(\"number of batches in test loader: \", len(test_ids)//BATCH_SIZE)\n",
    "print(\"number of batches in val loader: \", len(val_ids)//BATCH_SIZE)\n",
    "\n",
    "print(\"log dir: \", cfg_train.log_dir)\n",
    "print(\"checkpoint dir: \", cfg_train.ckpt_dir)\n",
    "print(\"checkpoint best filename: \", cfg_train.ckpt_best_filename)\n",
    "print(\"checkpoint last filename: \", cfg_train.ckpt_last_filename)\n"
   ]
  },
  {
   "cell_type": "markdown",
   "id": "c9a09a36",
   "metadata": {},
   "source": [
    "## Train the model"
   ]
  },
  {
   "cell_type": "code",
   "execution_count": 7,
   "id": "cd77a7f1",
   "metadata": {},
   "outputs": [
    {
     "name": "stdout",
     "output_type": "stream",
     "text": [
      "Model parameters: 1_123_600\n",
      "vocab size:  1060\n",
      "excepted iniital CE loss( uniform model ): 6.9660, ppl: 1060.0000\n",
      "not trained model Initial validation loss: 7.4209, ppl: 1670.5840\n",
      "NeuralBigram(\n",
      "  (embedding): Embedding(1060, 1060)\n",
      "  (dropout): Dropout(p=0.2, inplace=False)\n",
      ")\n"
     ]
    }
   ],
   "source": [
    "set_seed(cfg_train.seed)\n",
    "train_loader = init_dataloader(train_ids, BLOCK_SIZE, BATCH_SIZE, train=True, shuffle=True)\n",
    "val_loader = init_dataloader(val_ids, BLOCK_SIZE, BATCH_SIZE, train=False, shuffle=True)\n",
    "test_loader = init_dataloader(test_ids, BLOCK_SIZE, BATCH_SIZE, train=False, shuffle=False)\n",
    "\n",
    "\n",
    "model = NeuralBigram(cfg_model)\n",
    "model.to(cfg_train.device)\n",
    "model_size = count_params(model)\n",
    "\n",
    "optimizer = AdamW(model.parameters(), lr=LR, weight_decay=WEIGHT_DECAY)\n",
    "\n",
    "\n",
    "lr_scheduler = WarmupThenCosine(optimizer, warmup_steps=500, T_max=cfg_train.epochs * len(train_loader) // max(1, cfg_train.grad_accum_steps), eta_min=ETA_MIN)\n",
    "# rl_scheduler = CosineAnnealingLR(optimizer, T_max=cfg.epochs * len(train_loader) // max(1, cfg.grad_accum_steps), eta_min=ETA_MIN)\n",
    "# rl_scheduler = CosineAnnealingWarmRestarts(optimizer, T_0=2 * len(train_loader) // max(1, cfg.grad_accum_steps), T_mult=2, eta_min=ETA_MIN)\n",
    "\n",
    "scaler = GradScaler(enabled=cfg_train.use_amp)\n",
    "\n",
    "summary_writer = SummaryWriter(log_dir=cfg_train.log_dir, flush_secs=5)\n",
    "\n",
    "# add model graph to tensorboard\n",
    "dummy_input = torch.zeros((1, BLOCK_SIZE), dtype=torch.long, device=cfg_train.device)\n",
    "summary_writer.add_graph(model.eval(), dummy_input) \n",
    "summary_writer.flush()\n",
    "summary_writer.close()\n",
    "\n",
    "# compile the model (can skip if not needed)\n",
    "try:\n",
    "    if cfg_train.device == \"cpu\":\n",
    "        model.compile(mode=\"reduce-overhead\")\n",
    "    else:\n",
    "        model.compile()\n",
    "except Exception as e:\n",
    "    print(\"model compilation was not successful. Exception: \", e)\n",
    "\n",
    "# inspect the model\n",
    "print(f\"Model parameters: {model_size:_}\")\n",
    "print(\"vocab size: \", vocab_size)\n",
    "print(f\"excepted iniital CE loss( uniform model ): {-np.log(1/vocab_size):.4f}, ppl: {np.exp(-np.log(1/vocab_size)):.4f}\")\n",
    "# evaluate the untrained model\n",
    "val_loss = evaluate(model, val_loader, device=cfg_train.device)\n",
    "val_ppl = np.exp(val_loss)\n",
    "print(f\"not trained model Initial validation loss: {val_loss:.4f}, ppl: {val_ppl:.4f}\")\n",
    "print(model)"
   ]
  },
  {
   "cell_type": "code",
   "execution_count": 8,
   "id": "347c455c",
   "metadata": {},
   "outputs": [
    {
     "data": {
      "application/vnd.jupyter.widget-view+json": {
       "model_id": "b37e2834b51e4e8da536cea4716e6bcf",
       "version_major": 2,
       "version_minor": 0
      },
      "text/plain": [
       "Training Progress:   0%|          | 0/60 [00:00<?, ?it/s]"
      ]
     },
     "metadata": {},
     "output_type": "display_data"
    },
    {
     "data": {
      "application/vnd.jupyter.widget-view+json": {
       "model_id": "0a9ce463ed51493f962841bf992d27f6",
       "version_major": 2,
       "version_minor": 0
      },
      "text/plain": [
       "Epoch 1/60:   0%|          | 0/96 [00:00<?, ?it/s]"
      ]
     },
     "metadata": {},
     "output_type": "display_data"
    },
    {
     "data": {
      "application/vnd.jupyter.widget-view+json": {
       "model_id": "69568b0908f640c79f8c1b4f7ed16248",
       "version_major": 2,
       "version_minor": 0
      },
      "text/plain": [
       "Epoch 2/60:   0%|          | 0/96 [00:00<?, ?it/s]"
      ]
     },
     "metadata": {},
     "output_type": "display_data"
    },
    {
     "data": {
      "application/vnd.jupyter.widget-view+json": {
       "model_id": "49d36c1abf954ebfb675e1339b52d27f",
       "version_major": 2,
       "version_minor": 0
      },
      "text/plain": [
       "Epoch 3/60:   0%|          | 0/96 [00:00<?, ?it/s]"
      ]
     },
     "metadata": {},
     "output_type": "display_data"
    },
    {
     "data": {
      "application/vnd.jupyter.widget-view+json": {
       "model_id": "1e683a13ce054a68bc2489eb53b95a6b",
       "version_major": 2,
       "version_minor": 0
      },
      "text/plain": [
       "Epoch 4/60:   0%|          | 0/96 [00:00<?, ?it/s]"
      ]
     },
     "metadata": {},
     "output_type": "display_data"
    },
    {
     "data": {
      "application/vnd.jupyter.widget-view+json": {
       "model_id": "b216141fe3154d4b8f510250a3b62646",
       "version_major": 2,
       "version_minor": 0
      },
      "text/plain": [
       "Epoch 5/60:   0%|          | 0/96 [00:00<?, ?it/s]"
      ]
     },
     "metadata": {},
     "output_type": "display_data"
    },
    {
     "data": {
      "application/vnd.jupyter.widget-view+json": {
       "model_id": "50e459f3c786482e89a06943a4555a4f",
       "version_major": 2,
       "version_minor": 0
      },
      "text/plain": [
       "Epoch 6/60:   0%|          | 0/96 [00:00<?, ?it/s]"
      ]
     },
     "metadata": {},
     "output_type": "display_data"
    },
    {
     "data": {
      "application/vnd.jupyter.widget-view+json": {
       "model_id": "ef58aeb17b6d43bfb17f95cec7f39c5d",
       "version_major": 2,
       "version_minor": 0
      },
      "text/plain": [
       "Epoch 7/60:   0%|          | 0/96 [00:00<?, ?it/s]"
      ]
     },
     "metadata": {},
     "output_type": "display_data"
    },
    {
     "data": {
      "application/vnd.jupyter.widget-view+json": {
       "model_id": "9a6f21569c1f4d818915fe1b64df716c",
       "version_major": 2,
       "version_minor": 0
      },
      "text/plain": [
       "Epoch 8/60:   0%|          | 0/96 [00:00<?, ?it/s]"
      ]
     },
     "metadata": {},
     "output_type": "display_data"
    },
    {
     "data": {
      "application/vnd.jupyter.widget-view+json": {
       "model_id": "9c55217ae9ee43a8a66139614f1ae046",
       "version_major": 2,
       "version_minor": 0
      },
      "text/plain": [
       "Epoch 9/60:   0%|          | 0/96 [00:00<?, ?it/s]"
      ]
     },
     "metadata": {},
     "output_type": "display_data"
    },
    {
     "data": {
      "application/vnd.jupyter.widget-view+json": {
       "model_id": "1d75f47f067d472eb05fe8c3ab5acd76",
       "version_major": 2,
       "version_minor": 0
      },
      "text/plain": [
       "Epoch 10/60:   0%|          | 0/96 [00:00<?, ?it/s]"
      ]
     },
     "metadata": {},
     "output_type": "display_data"
    },
    {
     "data": {
      "application/vnd.jupyter.widget-view+json": {
       "model_id": "4294de85b63c42d192e932b185f0913d",
       "version_major": 2,
       "version_minor": 0
      },
      "text/plain": [
       "Epoch 11/60:   0%|          | 0/96 [00:00<?, ?it/s]"
      ]
     },
     "metadata": {},
     "output_type": "display_data"
    },
    {
     "data": {
      "application/vnd.jupyter.widget-view+json": {
       "model_id": "9131829467ec43bf98d7dc0823fab8b9",
       "version_major": 2,
       "version_minor": 0
      },
      "text/plain": [
       "Epoch 12/60:   0%|          | 0/96 [00:00<?, ?it/s]"
      ]
     },
     "metadata": {},
     "output_type": "display_data"
    },
    {
     "data": {
      "application/vnd.jupyter.widget-view+json": {
       "model_id": "82342a2946104687b675f6de73fa1907",
       "version_major": 2,
       "version_minor": 0
      },
      "text/plain": [
       "Epoch 13/60:   0%|          | 0/96 [00:00<?, ?it/s]"
      ]
     },
     "metadata": {},
     "output_type": "display_data"
    },
    {
     "data": {
      "application/vnd.jupyter.widget-view+json": {
       "model_id": "c89e93a0d14141b2ad265231c1649df3",
       "version_major": 2,
       "version_minor": 0
      },
      "text/plain": [
       "Epoch 14/60:   0%|          | 0/96 [00:00<?, ?it/s]"
      ]
     },
     "metadata": {},
     "output_type": "display_data"
    },
    {
     "data": {
      "application/vnd.jupyter.widget-view+json": {
       "model_id": "3fe9b74008c9424d930748dd0bdd067f",
       "version_major": 2,
       "version_minor": 0
      },
      "text/plain": [
       "Epoch 15/60:   0%|          | 0/96 [00:00<?, ?it/s]"
      ]
     },
     "metadata": {},
     "output_type": "display_data"
    },
    {
     "data": {
      "application/vnd.jupyter.widget-view+json": {
       "model_id": "fcdb495b061a4b128369bfccbbeb2214",
       "version_major": 2,
       "version_minor": 0
      },
      "text/plain": [
       "Epoch 16/60:   0%|          | 0/96 [00:00<?, ?it/s]"
      ]
     },
     "metadata": {},
     "output_type": "display_data"
    },
    {
     "data": {
      "application/vnd.jupyter.widget-view+json": {
       "model_id": "b5e32f688de948e48382a50753b5ef28",
       "version_major": 2,
       "version_minor": 0
      },
      "text/plain": [
       "Epoch 17/60:   0%|          | 0/96 [00:00<?, ?it/s]"
      ]
     },
     "metadata": {},
     "output_type": "display_data"
    },
    {
     "data": {
      "application/vnd.jupyter.widget-view+json": {
       "model_id": "02a83431793f4992b263fd0086c7d412",
       "version_major": 2,
       "version_minor": 0
      },
      "text/plain": [
       "Epoch 18/60:   0%|          | 0/96 [00:00<?, ?it/s]"
      ]
     },
     "metadata": {},
     "output_type": "display_data"
    },
    {
     "data": {
      "application/vnd.jupyter.widget-view+json": {
       "model_id": "c7b00633803a418a8b096d278d8ed9c1",
       "version_major": 2,
       "version_minor": 0
      },
      "text/plain": [
       "Epoch 19/60:   0%|          | 0/96 [00:00<?, ?it/s]"
      ]
     },
     "metadata": {},
     "output_type": "display_data"
    },
    {
     "data": {
      "application/vnd.jupyter.widget-view+json": {
       "model_id": "94470ac45f0340c9b33b97b7c41d5162",
       "version_major": 2,
       "version_minor": 0
      },
      "text/plain": [
       "Epoch 20/60:   0%|          | 0/96 [00:00<?, ?it/s]"
      ]
     },
     "metadata": {},
     "output_type": "display_data"
    },
    {
     "data": {
      "application/vnd.jupyter.widget-view+json": {
       "model_id": "384e0a61a31246bebdbee267e2da2784",
       "version_major": 2,
       "version_minor": 0
      },
      "text/plain": [
       "Epoch 21/60:   0%|          | 0/96 [00:00<?, ?it/s]"
      ]
     },
     "metadata": {},
     "output_type": "display_data"
    },
    {
     "data": {
      "application/vnd.jupyter.widget-view+json": {
       "model_id": "54db4fbf135f4167b0800eb81442c458",
       "version_major": 2,
       "version_minor": 0
      },
      "text/plain": [
       "Epoch 22/60:   0%|          | 0/96 [00:00<?, ?it/s]"
      ]
     },
     "metadata": {},
     "output_type": "display_data"
    },
    {
     "data": {
      "application/vnd.jupyter.widget-view+json": {
       "model_id": "5c8b2bda2d30463c901a713bad238f0c",
       "version_major": 2,
       "version_minor": 0
      },
      "text/plain": [
       "Epoch 23/60:   0%|          | 0/96 [00:00<?, ?it/s]"
      ]
     },
     "metadata": {},
     "output_type": "display_data"
    },
    {
     "data": {
      "application/vnd.jupyter.widget-view+json": {
       "model_id": "1883be2baae543749706badb9b439082",
       "version_major": 2,
       "version_minor": 0
      },
      "text/plain": [
       "Epoch 24/60:   0%|          | 0/96 [00:00<?, ?it/s]"
      ]
     },
     "metadata": {},
     "output_type": "display_data"
    },
    {
     "data": {
      "application/vnd.jupyter.widget-view+json": {
       "model_id": "74cecffbd1a64ed2bf5f8375a364bbf2",
       "version_major": 2,
       "version_minor": 0
      },
      "text/plain": [
       "Epoch 25/60:   0%|          | 0/96 [00:00<?, ?it/s]"
      ]
     },
     "metadata": {},
     "output_type": "display_data"
    },
    {
     "data": {
      "application/vnd.jupyter.widget-view+json": {
       "model_id": "41bc4d3fe82645bdb0da10a07b30d153",
       "version_major": 2,
       "version_minor": 0
      },
      "text/plain": [
       "Epoch 26/60:   0%|          | 0/96 [00:00<?, ?it/s]"
      ]
     },
     "metadata": {},
     "output_type": "display_data"
    },
    {
     "data": {
      "application/vnd.jupyter.widget-view+json": {
       "model_id": "01ec9ba727e74fb38b873a4450981979",
       "version_major": 2,
       "version_minor": 0
      },
      "text/plain": [
       "Epoch 27/60:   0%|          | 0/96 [00:00<?, ?it/s]"
      ]
     },
     "metadata": {},
     "output_type": "display_data"
    },
    {
     "data": {
      "application/vnd.jupyter.widget-view+json": {
       "model_id": "b43012ce0e9f4140bd2a743d7732d10f",
       "version_major": 2,
       "version_minor": 0
      },
      "text/plain": [
       "Epoch 28/60:   0%|          | 0/96 [00:00<?, ?it/s]"
      ]
     },
     "metadata": {},
     "output_type": "display_data"
    },
    {
     "data": {
      "application/vnd.jupyter.widget-view+json": {
       "model_id": "bc7e64754bc546b59770ddf0bb4c595f",
       "version_major": 2,
       "version_minor": 0
      },
      "text/plain": [
       "Epoch 29/60:   0%|          | 0/96 [00:00<?, ?it/s]"
      ]
     },
     "metadata": {},
     "output_type": "display_data"
    },
    {
     "data": {
      "application/vnd.jupyter.widget-view+json": {
       "model_id": "71e620f9d63b40fcb393c75d5cae5e37",
       "version_major": 2,
       "version_minor": 0
      },
      "text/plain": [
       "Epoch 30/60:   0%|          | 0/96 [00:00<?, ?it/s]"
      ]
     },
     "metadata": {},
     "output_type": "display_data"
    },
    {
     "data": {
      "application/vnd.jupyter.widget-view+json": {
       "model_id": "c433c79ecaf8415ea99400e6e7f2af09",
       "version_major": 2,
       "version_minor": 0
      },
      "text/plain": [
       "Epoch 31/60:   0%|          | 0/96 [00:00<?, ?it/s]"
      ]
     },
     "metadata": {},
     "output_type": "display_data"
    },
    {
     "data": {
      "application/vnd.jupyter.widget-view+json": {
       "model_id": "60025649ad3d41d69ac07787ccc7e0b9",
       "version_major": 2,
       "version_minor": 0
      },
      "text/plain": [
       "Epoch 32/60:   0%|          | 0/96 [00:00<?, ?it/s]"
      ]
     },
     "metadata": {},
     "output_type": "display_data"
    },
    {
     "data": {
      "application/vnd.jupyter.widget-view+json": {
       "model_id": "4b3d812e5f5f4254ac15bc666d37fff3",
       "version_major": 2,
       "version_minor": 0
      },
      "text/plain": [
       "Epoch 33/60:   0%|          | 0/96 [00:00<?, ?it/s]"
      ]
     },
     "metadata": {},
     "output_type": "display_data"
    },
    {
     "data": {
      "application/vnd.jupyter.widget-view+json": {
       "model_id": "cb2d981803e44ae5ab9da7df6a104418",
       "version_major": 2,
       "version_minor": 0
      },
      "text/plain": [
       "Epoch 34/60:   0%|          | 0/96 [00:00<?, ?it/s]"
      ]
     },
     "metadata": {},
     "output_type": "display_data"
    },
    {
     "data": {
      "application/vnd.jupyter.widget-view+json": {
       "model_id": "609092711c384494bf46318296932336",
       "version_major": 2,
       "version_minor": 0
      },
      "text/plain": [
       "Epoch 35/60:   0%|          | 0/96 [00:00<?, ?it/s]"
      ]
     },
     "metadata": {},
     "output_type": "display_data"
    },
    {
     "data": {
      "application/vnd.jupyter.widget-view+json": {
       "model_id": "e18533323ecc4ac6aa2565bca737b6db",
       "version_major": 2,
       "version_minor": 0
      },
      "text/plain": [
       "Epoch 36/60:   0%|          | 0/96 [00:00<?, ?it/s]"
      ]
     },
     "metadata": {},
     "output_type": "display_data"
    },
    {
     "data": {
      "application/vnd.jupyter.widget-view+json": {
       "model_id": "6e24786d431e4d9a9ffb094a835cb89a",
       "version_major": 2,
       "version_minor": 0
      },
      "text/plain": [
       "Epoch 37/60:   0%|          | 0/96 [00:00<?, ?it/s]"
      ]
     },
     "metadata": {},
     "output_type": "display_data"
    },
    {
     "data": {
      "application/vnd.jupyter.widget-view+json": {
       "model_id": "019eccc438e44ced9f2256c4237cf7b1",
       "version_major": 2,
       "version_minor": 0
      },
      "text/plain": [
       "Epoch 38/60:   0%|          | 0/96 [00:00<?, ?it/s]"
      ]
     },
     "metadata": {},
     "output_type": "display_data"
    },
    {
     "data": {
      "application/vnd.jupyter.widget-view+json": {
       "model_id": "134cabb90cec45afa0163f6a8c2b051f",
       "version_major": 2,
       "version_minor": 0
      },
      "text/plain": [
       "Epoch 39/60:   0%|          | 0/96 [00:00<?, ?it/s]"
      ]
     },
     "metadata": {},
     "output_type": "display_data"
    },
    {
     "data": {
      "application/vnd.jupyter.widget-view+json": {
       "model_id": "577ac3d0f60f469eb250c11b211b7188",
       "version_major": 2,
       "version_minor": 0
      },
      "text/plain": [
       "Epoch 40/60:   0%|          | 0/96 [00:00<?, ?it/s]"
      ]
     },
     "metadata": {},
     "output_type": "display_data"
    },
    {
     "data": {
      "application/vnd.jupyter.widget-view+json": {
       "model_id": "2c9b515efb934586bf12cbb3f36d9f2d",
       "version_major": 2,
       "version_minor": 0
      },
      "text/plain": [
       "Epoch 41/60:   0%|          | 0/96 [00:00<?, ?it/s]"
      ]
     },
     "metadata": {},
     "output_type": "display_data"
    },
    {
     "data": {
      "application/vnd.jupyter.widget-view+json": {
       "model_id": "953af6f30ce94714bd90b76e2f797151",
       "version_major": 2,
       "version_minor": 0
      },
      "text/plain": [
       "Epoch 42/60:   0%|          | 0/96 [00:00<?, ?it/s]"
      ]
     },
     "metadata": {},
     "output_type": "display_data"
    },
    {
     "data": {
      "application/vnd.jupyter.widget-view+json": {
       "model_id": "0914fc2474474e6bb89cc76a0305b69d",
       "version_major": 2,
       "version_minor": 0
      },
      "text/plain": [
       "Epoch 43/60:   0%|          | 0/96 [00:00<?, ?it/s]"
      ]
     },
     "metadata": {},
     "output_type": "display_data"
    },
    {
     "data": {
      "application/vnd.jupyter.widget-view+json": {
       "model_id": "7d55b5cc754541d39c62ea9ba3fdd432",
       "version_major": 2,
       "version_minor": 0
      },
      "text/plain": [
       "Epoch 44/60:   0%|          | 0/96 [00:00<?, ?it/s]"
      ]
     },
     "metadata": {},
     "output_type": "display_data"
    },
    {
     "data": {
      "application/vnd.jupyter.widget-view+json": {
       "model_id": "66f8d4b0b34141e0aee5bd7743d50d6d",
       "version_major": 2,
       "version_minor": 0
      },
      "text/plain": [
       "Epoch 45/60:   0%|          | 0/96 [00:00<?, ?it/s]"
      ]
     },
     "metadata": {},
     "output_type": "display_data"
    },
    {
     "data": {
      "application/vnd.jupyter.widget-view+json": {
       "model_id": "fba3310f56114765a52e23d5b752ad6d",
       "version_major": 2,
       "version_minor": 0
      },
      "text/plain": [
       "Epoch 46/60:   0%|          | 0/96 [00:00<?, ?it/s]"
      ]
     },
     "metadata": {},
     "output_type": "display_data"
    },
    {
     "data": {
      "application/vnd.jupyter.widget-view+json": {
       "model_id": "dd122b053d144cdea722dd6bb5aa9f00",
       "version_major": 2,
       "version_minor": 0
      },
      "text/plain": [
       "Epoch 47/60:   0%|          | 0/96 [00:00<?, ?it/s]"
      ]
     },
     "metadata": {},
     "output_type": "display_data"
    },
    {
     "data": {
      "application/vnd.jupyter.widget-view+json": {
       "model_id": "ff462da50ec84c889411a26cb5373683",
       "version_major": 2,
       "version_minor": 0
      },
      "text/plain": [
       "Epoch 48/60:   0%|          | 0/96 [00:00<?, ?it/s]"
      ]
     },
     "metadata": {},
     "output_type": "display_data"
    },
    {
     "data": {
      "application/vnd.jupyter.widget-view+json": {
       "model_id": "eb78cca8960b4f4495b9a96e9d3816ba",
       "version_major": 2,
       "version_minor": 0
      },
      "text/plain": [
       "Epoch 49/60:   0%|          | 0/96 [00:00<?, ?it/s]"
      ]
     },
     "metadata": {},
     "output_type": "display_data"
    },
    {
     "data": {
      "application/vnd.jupyter.widget-view+json": {
       "model_id": "2de9594373ce4eb5b87c35cbfed74c53",
       "version_major": 2,
       "version_minor": 0
      },
      "text/plain": [
       "Epoch 50/60:   0%|          | 0/96 [00:00<?, ?it/s]"
      ]
     },
     "metadata": {},
     "output_type": "display_data"
    },
    {
     "data": {
      "application/vnd.jupyter.widget-view+json": {
       "model_id": "c1e4fb89d8034117a67185a794a98ebc",
       "version_major": 2,
       "version_minor": 0
      },
      "text/plain": [
       "Epoch 51/60:   0%|          | 0/96 [00:00<?, ?it/s]"
      ]
     },
     "metadata": {},
     "output_type": "display_data"
    },
    {
     "data": {
      "application/vnd.jupyter.widget-view+json": {
       "model_id": "64b4030072dc40d086ca0060968871c1",
       "version_major": 2,
       "version_minor": 0
      },
      "text/plain": [
       "Epoch 52/60:   0%|          | 0/96 [00:00<?, ?it/s]"
      ]
     },
     "metadata": {},
     "output_type": "display_data"
    },
    {
     "data": {
      "application/vnd.jupyter.widget-view+json": {
       "model_id": "fbf3829c99224b868ed1f671a504688b",
       "version_major": 2,
       "version_minor": 0
      },
      "text/plain": [
       "Epoch 53/60:   0%|          | 0/96 [00:00<?, ?it/s]"
      ]
     },
     "metadata": {},
     "output_type": "display_data"
    },
    {
     "data": {
      "application/vnd.jupyter.widget-view+json": {
       "model_id": "cd5d9879662b4a4a99d1b1f8fa8eee04",
       "version_major": 2,
       "version_minor": 0
      },
      "text/plain": [
       "Epoch 54/60:   0%|          | 0/96 [00:00<?, ?it/s]"
      ]
     },
     "metadata": {},
     "output_type": "display_data"
    },
    {
     "data": {
      "application/vnd.jupyter.widget-view+json": {
       "model_id": "f188c71e505f4d6096215bf26cb1619d",
       "version_major": 2,
       "version_minor": 0
      },
      "text/plain": [
       "Epoch 55/60:   0%|          | 0/96 [00:00<?, ?it/s]"
      ]
     },
     "metadata": {},
     "output_type": "display_data"
    },
    {
     "data": {
      "application/vnd.jupyter.widget-view+json": {
       "model_id": "0f94b5c708f541f0abcc203c24a745f6",
       "version_major": 2,
       "version_minor": 0
      },
      "text/plain": [
       "Epoch 56/60:   0%|          | 0/96 [00:00<?, ?it/s]"
      ]
     },
     "metadata": {},
     "output_type": "display_data"
    },
    {
     "data": {
      "application/vnd.jupyter.widget-view+json": {
       "model_id": "bba39156a1a14d8992461dd471cb5a21",
       "version_major": 2,
       "version_minor": 0
      },
      "text/plain": [
       "Epoch 57/60:   0%|          | 0/96 [00:00<?, ?it/s]"
      ]
     },
     "metadata": {},
     "output_type": "display_data"
    },
    {
     "data": {
      "application/vnd.jupyter.widget-view+json": {
       "model_id": "b45206a0aa9e4b30b54df4cfedf1fcac",
       "version_major": 2,
       "version_minor": 0
      },
      "text/plain": [
       "Epoch 58/60:   0%|          | 0/96 [00:00<?, ?it/s]"
      ]
     },
     "metadata": {},
     "output_type": "display_data"
    },
    {
     "data": {
      "application/vnd.jupyter.widget-view+json": {
       "model_id": "ba0a21e8229e400da61337fae8528ecc",
       "version_major": 2,
       "version_minor": 0
      },
      "text/plain": [
       "Epoch 59/60:   0%|          | 0/96 [00:00<?, ?it/s]"
      ]
     },
     "metadata": {},
     "output_type": "display_data"
    },
    {
     "data": {
      "application/vnd.jupyter.widget-view+json": {
       "model_id": "d3de188ad79e41f6a4e7f5af65e9afa0",
       "version_major": 2,
       "version_minor": 0
      },
      "text/plain": [
       "Epoch 60/60:   0%|          | 0/96 [00:00<?, ?it/s]"
      ]
     },
     "metadata": {},
     "output_type": "display_data"
    }
   ],
   "source": [
    "train_results = train(model, train_loader, val_loader, cfg=cfg_train,\n",
    "                      optimizer=optimizer, scheduler=lr_scheduler, scaler=scaler,\n",
    "                      writer=summary_writer)"
   ]
  },
  {
   "cell_type": "markdown",
   "id": "09b6866d",
   "metadata": {},
   "source": [
    "### save all parameters used in the model and training"
   ]
  },
  {
   "cell_type": "code",
   "execution_count": 9,
   "id": "f7b195b6",
   "metadata": {},
   "outputs": [],
   "source": [
    "# save all the hyperparameters into a json file\n",
    "rl_scheduler_state_dict = lr_scheduler.state_dict() if lr_scheduler.__class__.__name__ != \"WarmupThenCosine\" else {\n",
    "            k:v for k, v in lr_scheduler.state_dict().items() if k != \"cosine\"}\n",
    "all_hparams_cfg = {\n",
    "    \"tokenizer\" : {\n",
    "        \"type\": \"bytelevel_bpe\",\n",
    "        \"n_merges\": N_MERGES,\n",
    "        \"min_frequency\": MIN_FREQ,\n",
    "        \"special_tokens\": SPECIAL_TOKENS,\n",
    "        \"path\": os.path.join(tok_dir, tok_name),\n",
    "    },\n",
    "    \"data\": {\n",
    "        \"batch_size\": BATCH_SIZE,\n",
    "        \"block_size\": BLOCK_SIZE,\n",
    "    },\n",
    "    \"model\": {\"cfg\": vars(cfg_model).copy(), \"model_size\": model_size},\n",
    "    \"optimizer\": {\n",
    "        \"type\": optimizer.__class__.__name__,\n",
    "        \"lr\": LR,\n",
    "        \"weight_decay\": WEIGHT_DECAY,\n",
    "        \"defaults\": optimizer.defaults,\n",
    "    },\n",
    "    \"lr_scheduler\": {\n",
    "        \"type\": lr_scheduler.__class__.__name__,\n",
    "        \"eta_min\": ETA_MIN,\n",
    "        \"state_dict\": rl_scheduler_state_dict,\n",
    "    },\n",
    "    \"scaler\": {\n",
    "        \"type\": scaler.__class__.__name__,\n",
    "        \"enabled\": scaler.is_enabled(),\n",
    "        \"state_dict\": scaler.state_dict(),\n",
    "    },\n",
    "    \"training\": {\"cfg\": vars(cfg_train).copy()},\n",
    "    \"results\": train_results,\n",
    "}\n",
    "\n",
    "# save it to checkpoint dir, same prefix as checkpoint files\n",
    "with open(os.path.join(CHECKPOINT_DIR, all_hparams_cfg_filename), \"w\") as f:\n",
    "    json.dump(all_hparams_cfg, f, indent=4)\n",
    "\n",
    "# write it to tensorboard\n",
    "summary_writer.add_text(\"config/json\", \"```json\\n\" + json.dumps(all_hparams_cfg, indent=2, sort_keys=True) + \"\\n```\", global_step=0)\n",
    "summary_writer.flush()\n",
    "summary_writer.close()"
   ]
  },
  {
   "cell_type": "markdown",
   "id": "0a1da283",
   "metadata": {},
   "source": [
    "## results and evaluation"
   ]
  },
  {
   "cell_type": "markdown",
   "id": "ec41d3c5",
   "metadata": {},
   "source": [
    "### load a saved model (can skip if using a freshly trained model)"
   ]
  },
  {
   "cell_type": "code",
   "execution_count": 16,
   "id": "36d3b732",
   "metadata": {},
   "outputs": [
    {
     "name": "stdout",
     "output_type": "stream",
     "text": [
      "loaded full config from:  ../checkpoints/neural_bigram/nbigram_bpe800_hparams.json\n",
      "loading model from checkpoint:  ../checkpoints/neural_bigram/nbigram_bpe800_best.pt\n",
      "tokenizer vocab size:  1060\n"
     ]
    }
   ],
   "source": [
    "all_hparams_cfg_path = os.path.join(CHECKPOINT_DIR, all_hparams_cfg_filename)\n",
    "# all_hparams_cfg_path = os.path.join(CHECKPOINT_DIR, \"nbigram_bpe200_hparams.json\")\n",
    "with open(all_hparams_cfg_path, \"r\") as f:\n",
    "    all_hparams_cfg = json.load(f)\n",
    "print(\"loaded full config from: \", all_hparams_cfg_path)\n",
    "# print(json.dumps(full_cfg, indent=4))\n",
    "\n",
    "ckpt_name = all_hparams_cfg[\"training\"][\"cfg\"].get(\"ckpt_best_path\", None)\n",
    "print(\"loading model from checkpoint: \", ckpt_name)\n",
    "cfg_train = ConfigTrain(**all_hparams_cfg[\"training\"][\"cfg\"])\n",
    "cfg_train.device = \"cuda\" if torch.cuda.is_available() else \"cpu\"\n",
    "\n",
    "batch_size = all_hparams_cfg[\"data\"][\"batch_size\"]\n",
    "block_size = all_hparams_cfg[\"data\"][\"block_size\"]\n",
    "n_merges = all_hparams_cfg[\"tokenizer\"][\"n_merges\"]\n",
    "min_freq = all_hparams_cfg[\"tokenizer\"][\"min_frequency\"]\n",
    "model_size = all_hparams_cfg[\"model\"].get(\"model_size\", None)\n",
    "train_results = all_hparams_cfg.get(\"results\", {})\n",
    "ckpt = load_checkpoint(ckpt_name, map_location=cfg_train.device, weights_only=False)\n",
    "\n",
    "model = NeuralBigram(config=ConfigNeuralBigram(**all_hparams_cfg[\"model\"][\"cfg\"]))\n",
    "model.load_state_dict(ckpt['model'])\n",
    "model.to(cfg_train.device)\n",
    "\n",
    "bpe_tokenizer = load_tokenizer(os.path.join(all_hparams_cfg[\"tokenizer\"][\"path\"]))\n",
    "encode = partial(bpe_tokenizer.encode, add_special_tokens=False)\n",
    "decode = bpe_tokenizer.decode\n",
    "vocab_size = bpe_tokenizer.get_vocab_size()\n",
    "print(\"tokenizer vocab size: \", vocab_size)\n",
    "train_loader = init_dataloader(encode(train_text).ids, block_size=block_size, batch_size=batch_size, train=True, shuffle=True)\n",
    "val_loader = init_dataloader(encode(val_text).ids, block_size=block_size, batch_size=batch_size, train=False, shuffle=True)\n",
    "test_loader = init_dataloader(encode(test_text).ids, block_size=block_size, batch_size=batch_size, train=False, shuffle=False)\n"
   ]
  },
  {
   "cell_type": "markdown",
   "id": "12864931",
   "metadata": {},
   "source": [
    "### plot training curves and test on test set"
   ]
  },
  {
   "cell_type": "code",
   "execution_count": 17,
   "id": "5eee7297",
   "metadata": {},
   "outputs": [
    {
     "data": {
      "text/html": [
       "<div>\n",
       "<style scoped>\n",
       "    .dataframe tbody tr th:only-of-type {\n",
       "        vertical-align: middle;\n",
       "    }\n",
       "\n",
       "    .dataframe tbody tr th {\n",
       "        vertical-align: top;\n",
       "    }\n",
       "\n",
       "    .dataframe thead th {\n",
       "        text-align: right;\n",
       "    }\n",
       "</style>\n",
       "<table border=\"1\" class=\"dataframe\">\n",
       "  <thead>\n",
       "    <tr style=\"text-align: right;\">\n",
       "      <th></th>\n",
       "      <th>train_loss</th>\n",
       "      <th>train_ppl</th>\n",
       "      <th>val_ppl</th>\n",
       "      <th>val_loss</th>\n",
       "      <th>epoch</th>\n",
       "    </tr>\n",
       "  </thead>\n",
       "  <tbody>\n",
       "    <tr>\n",
       "      <th>0</th>\n",
       "      <td>7.503161</td>\n",
       "      <td>1813.766602</td>\n",
       "      <td>1463.912598</td>\n",
       "      <td>7.288868</td>\n",
       "      <td>1</td>\n",
       "    </tr>\n",
       "    <tr>\n",
       "      <th>1</th>\n",
       "      <td>7.157101</td>\n",
       "      <td>1283.185791</td>\n",
       "      <td>1004.797607</td>\n",
       "      <td>6.912541</td>\n",
       "      <td>3</td>\n",
       "    </tr>\n",
       "    <tr>\n",
       "      <th>2</th>\n",
       "      <td>6.612747</td>\n",
       "      <td>744.525208</td>\n",
       "      <td>583.978394</td>\n",
       "      <td>6.369864</td>\n",
       "      <td>5</td>\n",
       "    </tr>\n",
       "    <tr>\n",
       "      <th>3</th>\n",
       "      <td>6.094818</td>\n",
       "      <td>443.553375</td>\n",
       "      <td>356.891693</td>\n",
       "      <td>5.877433</td>\n",
       "      <td>7</td>\n",
       "    </tr>\n",
       "    <tr>\n",
       "      <th>4</th>\n",
       "      <td>5.699276</td>\n",
       "      <td>298.650940</td>\n",
       "      <td>238.478333</td>\n",
       "      <td>5.474279</td>\n",
       "      <td>9</td>\n",
       "    </tr>\n",
       "  </tbody>\n",
       "</table>\n",
       "</div>"
      ],
      "text/plain": [
       "   train_loss    train_ppl      val_ppl  val_loss  epoch\n",
       "0    7.503161  1813.766602  1463.912598  7.288868      1\n",
       "1    7.157101  1283.185791  1004.797607  6.912541      3\n",
       "2    6.612747   744.525208   583.978394  6.369864      5\n",
       "3    6.094818   443.553375   356.891693  5.877433      7\n",
       "4    5.699276   298.650940   238.478333  5.474279      9"
      ]
     },
     "metadata": {},
     "output_type": "display_data"
    },
    {
     "data": {
      "text/html": [
       "<div>\n",
       "<style scoped>\n",
       "    .dataframe tbody tr th:only-of-type {\n",
       "        vertical-align: middle;\n",
       "    }\n",
       "\n",
       "    .dataframe tbody tr th {\n",
       "        vertical-align: top;\n",
       "    }\n",
       "\n",
       "    .dataframe thead th {\n",
       "        text-align: right;\n",
       "    }\n",
       "</style>\n",
       "<table border=\"1\" class=\"dataframe\">\n",
       "  <thead>\n",
       "    <tr style=\"text-align: right;\">\n",
       "      <th></th>\n",
       "      <th>train_loss</th>\n",
       "      <th>train_ppl</th>\n",
       "      <th>val_ppl</th>\n",
       "      <th>val_loss</th>\n",
       "      <th>epoch</th>\n",
       "    </tr>\n",
       "  </thead>\n",
       "  <tbody>\n",
       "    <tr>\n",
       "      <th>25</th>\n",
       "      <td>4.345490</td>\n",
       "      <td>77.129822</td>\n",
       "      <td>50.383053</td>\n",
       "      <td>3.919655</td>\n",
       "      <td>51</td>\n",
       "    </tr>\n",
       "    <tr>\n",
       "      <th>26</th>\n",
       "      <td>4.342972</td>\n",
       "      <td>76.935875</td>\n",
       "      <td>50.303520</td>\n",
       "      <td>3.918075</td>\n",
       "      <td>53</td>\n",
       "    </tr>\n",
       "    <tr>\n",
       "      <th>27</th>\n",
       "      <td>4.344060</td>\n",
       "      <td>77.019638</td>\n",
       "      <td>50.261730</td>\n",
       "      <td>3.917244</td>\n",
       "      <td>55</td>\n",
       "    </tr>\n",
       "    <tr>\n",
       "      <th>28</th>\n",
       "      <td>4.341082</td>\n",
       "      <td>76.790588</td>\n",
       "      <td>50.245075</td>\n",
       "      <td>3.916913</td>\n",
       "      <td>57</td>\n",
       "    </tr>\n",
       "    <tr>\n",
       "      <th>29</th>\n",
       "      <td>4.343116</td>\n",
       "      <td>76.946953</td>\n",
       "      <td>50.242035</td>\n",
       "      <td>3.916852</td>\n",
       "      <td>59</td>\n",
       "    </tr>\n",
       "  </tbody>\n",
       "</table>\n",
       "</div>"
      ],
      "text/plain": [
       "    train_loss  train_ppl    val_ppl  val_loss  epoch\n",
       "25    4.345490  77.129822  50.383053  3.919655     51\n",
       "26    4.342972  76.935875  50.303520  3.918075     53\n",
       "27    4.344060  77.019638  50.261730  3.917244     55\n",
       "28    4.341082  76.790588  50.245075  3.916913     57\n",
       "29    4.343116  76.946953  50.242035  3.916852     59"
      ]
     },
     "metadata": {},
     "output_type": "display_data"
    },
    {
     "data": {
      "image/png": "[encoded data removed]",
      "text/plain": [
       "<Figure size 1200x500 with 2 Axes>"
      ]
     },
     "metadata": {},
     "output_type": "display_data"
    }
   ],
   "source": [
    "# make train_loss, train_ppl, val_ppl, val_loss and epochs into a DataFrame\n",
    "history = train_results[\"history\"]\n",
    "history_df = pd.DataFrame(history)\n",
    "\n",
    "display(history_df.head())\n",
    "display(history_df.tail())\n",
    "\n",
    "plt.figure(figsize=(12, 5))\n",
    "plt.suptitle(f\"nBigram Training Curves\\nModel size: {model_size:_} parameters\", fontsize=16)\n",
    "# loss \n",
    "plt.subplot(1, 2, 1)\n",
    "plt.plot(history_df['epoch'], history_df[\"train_loss\"], label=\"Train Loss\")\n",
    "plt.plot(history_df['epoch'], history_df[\"val_loss\"], label=\"Val Loss\")\n",
    "plt.xlabel(\"Epochs\")\n",
    "plt.ylabel(\"Loss\")\n",
    "# plt.xticks(history_df['epochs'][::int(len(history_df['epochs'])//9)+1])  \n",
    "plt.title(\"Loss\")\n",
    "plt.legend()\n",
    "plt.grid()\n",
    "\n",
    "# perplexity\n",
    "plt.subplot(1, 2, 2)\n",
    "plt.plot(history_df['epoch'], history_df[\"train_ppl\"], label=\"Train PPL\")\n",
    "plt.plot(history_df['epoch'], history_df[\"val_ppl\"], label=\"Val PPL\")\n",
    "plt.xlabel(\"Epochs\")\n",
    "plt.ylabel(\"Perplexity\")\n",
    "# plt.xticks(history_df['epochs'][::int(len(history_df['epochs'])//9)+1])  \n",
    "plt.title(\"Perplexity\")\n",
    "plt.legend()\n",
    "plt.grid()\n",
    "plt.tight_layout()\n",
    "\n",
    "# save the training plot\n",
    "plt.savefig(os.path.join(RESULTS_DIR, f\"nBigram_training_plot.png\")) \n",
    "\n",
    "plt.show()"
   ]
  },
  {
   "cell_type": "code",
   "execution_count": 18,
   "id": "f6d7ec1e",
   "metadata": {},
   "outputs": [
    {
     "data": {
      "text/html": [
       "<div>\n",
       "<style scoped>\n",
       "    .dataframe tbody tr th:only-of-type {\n",
       "        vertical-align: middle;\n",
       "    }\n",
       "\n",
       "    .dataframe tbody tr th {\n",
       "        vertical-align: top;\n",
       "    }\n",
       "\n",
       "    .dataframe thead th {\n",
       "        text-align: right;\n",
       "    }\n",
       "</style>\n",
       "<table border=\"1\" class=\"dataframe\">\n",
       "  <thead>\n",
       "    <tr style=\"text-align: right;\">\n",
       "      <th></th>\n",
       "      <th>split</th>\n",
       "      <th>loss(NLL)</th>\n",
       "      <th>perplexity</th>\n",
       "    </tr>\n",
       "  </thead>\n",
       "  <tbody>\n",
       "    <tr>\n",
       "      <th>0</th>\n",
       "      <td>train</td>\n",
       "      <td>4.343116</td>\n",
       "      <td>76.946953</td>\n",
       "    </tr>\n",
       "    <tr>\n",
       "      <th>1</th>\n",
       "      <td>val</td>\n",
       "      <td>3.916852</td>\n",
       "      <td>50.242035</td>\n",
       "    </tr>\n",
       "    <tr>\n",
       "      <th>2</th>\n",
       "      <td>test</td>\n",
       "      <td>3.860642</td>\n",
       "      <td>47.495852</td>\n",
       "    </tr>\n",
       "  </tbody>\n",
       "</table>\n",
       "</div>"
      ],
      "text/plain": [
       "   split  loss(NLL)  perplexity\n",
       "0  train   4.343116   76.946953\n",
       "1    val   3.916852   50.242035\n",
       "2   test   3.860642   47.495852"
      ]
     },
     "metadata": {},
     "output_type": "display_data"
    }
   ],
   "source": [
    "# final evaluation on the test set\n",
    "test_nll = evaluate(model, test_loader, cfg_train.device)\n",
    "test_ppl = np.exp(test_nll)\n",
    "\n",
    "val_ppl = train_results[\"best_val_ppl\"]\n",
    "train_ppl = train_results[\"best_train_ppl\"]\n",
    "\n",
    "val_nll = torch.log(torch.tensor(val_ppl)).item()\n",
    "train_nll = torch.log(torch.tensor(train_ppl)).item()\n",
    "\n",
    "# display in a DataFrame\n",
    "test_results_df = pd.DataFrame({\n",
    "    \"split\": [\"train\", \"val\", \"test\"],\n",
    "    \"loss(NLL)\": [train_nll, val_nll, test_nll],\n",
    "    \"perplexity\": [train_ppl, val_ppl, test_ppl],\n",
    "})\n",
    "display(test_results_df)"
   ]
  },
  {
   "cell_type": "code",
   "execution_count": 19,
   "id": "6b03dab9",
   "metadata": {},
   "outputs": [
    {
     "name": "stdout",
     "output_type": "stream",
     "text": [
      "test results saved to ../results/neural_bigram/test_performance_results.csv\n"
     ]
    }
   ],
   "source": [
    "# save test results\n",
    "test_results_filename = os.path.join(RESULTS_DIR, \"test_performance_results.csv\")\n",
    "test_results_df.to_csv(test_results_filename, index=False)\n",
    "print(f\"test results saved to {test_results_filename}\")"
   ]
  },
  {
   "cell_type": "markdown",
   "id": "a0f89d60",
   "metadata": {},
   "source": [
    "### generate text from the trained model"
   ]
  },
  {
   "cell_type": "code",
   "execution_count": 20,
   "id": "b3d51c4e",
   "metadata": {},
   "outputs": [
    {
     "name": "stdout",
     "output_type": "stream",
     "text": [
      "used tokenizer: bytelevel_bpe, merges: 800, min_freq: 2\n",
      ">>>> <context>\n",
      " -------------------- \n",
      "<<<< <generated_text>\n",
      "\n",
      " --------------------------------------------------------------------------------\n",
      ">>>>  shall the lovers\n",
      "--------------------\n",
      "<<<<  ,\n",
      "\n",
      "\n",
      "\n",
      "LORDUFor,\n",
      "\n",
      "\n",
      "SALThe cast, I had a bad I, and a cruited,\n",
      "\n",
      "\n",
      "\n",
      "\n",
      "O'er's no litthen'd the mark thee, sir.\n",
      "\n",
      "MIA\n",
      "Withiness is\n",
      "What they are well,\n",
      "For!\n",
      "\n",
      "\n",
      "Thereason hellocre you,\n",
      "\n",
      "\n",
      "Th,\n",
      "\n",
      " --------------------------------------------------------------------------------\n",
      ">>>> t dragon\n",
      "--------------------\n",
      "<<<<  ybs to-s\n",
      "Even,\n",
      "Then'd infort.\n",
      "TERO,\n",
      "\n",
      "PRUF Ver'stherence.\n",
      "\n",
      "CK ANTONY\n",
      "\n",
      "As to wanted for accumber,\n",
      "\n",
      "To, I am I see thee,\n",
      "Go you. O thou hasty.\n",
      "\n",
      "\n",
      "BRUTUS\n",
      "\n",
      "Thy, bearlield.'?\n",
      "Till\n",
      "\n",
      " --------------------------------------------------------------------------------\n",
      ">>>>  should look their sham\n",
      "--------------------\n",
      "<<<<  ed; and that welay, in the giet, my love?\n",
      "\n",
      "BENCELOfory;\n",
      "But of changards!\n",
      "\n",
      "LAUNot.\n",
      "Enter Leps;\n",
      "\n",
      "Enter ROMEO another?\n",
      "Which strait\n",
      "\n",
      "\n",
      "\n",
      "We, a talk of my he'sthenove it was\n",
      "Who's house look you?\n",
      "Proden\n",
      "\n",
      " --------------------------------------------------------------------------------\n",
      ">>>> ing on Nept\n",
      "--------------------\n",
      "<<<<  s: the sight?\n",
      "\n",
      "LORDENCE\n",
      "\n",
      "\n",
      "\n",
      "\n",
      "Withinessen,\n",
      "And what hath gotecond Pys only\n",
      "\n",
      "\n",
      "I. Murge of my hearts, as I am fight in that do I, my bes, but in the sumer.\n",
      "Youble.\n",
      "What, if you have foul matter'd, my heart\n",
      "\n",
      "Foryoughted\n",
      "\n",
      " --------------------------------------------------------------------------------\n",
      ">>>> , lead them up\n",
      "--------------------\n",
      "<<<<  !\n",
      "Sogue, I seems, and to beho is a foul\n",
      "First by his same\n",
      "Re, my lord,\n",
      "Ours to make mone.\n",
      "\n",
      "O'?\n",
      "\n",
      "\n",
      "\n",
      "ASSANIO\n",
      "\n",
      "HYou art thou do't that heard\n",
      "PS\n",
      "ASALANIO\n",
      "Andey.\n",
      "\n",
      "\n",
      "LUS\n",
      "\n",
      "\n",
      "RUK ANTONY\n",
      "HAMLET\n",
      "DOLMess\n"
     ]
    }
   ],
   "source": [
    "# get a batch from validation set and generate text\n",
    "batch_gen = 5\n",
    "max_new_tokens = 100\n",
    "\n",
    "unified_context = \" \".join(test_text.split()[:3])\n",
    "unified_context_ids = encode(unified_context, add_special_tokens=False).ids\n",
    "context_len = len(unified_context_ids)\n",
    "\n",
    "context_ids_batch, _ = next(iter(test_loader))\n",
    "# replace first row with unified_context_ids\n",
    "context_ids_batch[0, :context_len] = torch.tensor(unified_context_ids[:block_size], dtype=torch.long)\n",
    "\n",
    "context_ids_batch = context_ids_batch.to(cfg_train.device, non_blocking=True)\n",
    "# generate text from the model\n",
    "generated_text = model.generate(context_ids_batch[:batch_gen, :context_len], max_new_tokens=max_new_tokens, temperature=0.9, top_k=20)\n",
    "\n",
    "print(f\"used tokenizer: bytelevel_bpe, merges: {n_merges}, min_freq: {min_freq}\")\n",
    "print(f\">>>> <context>\\n\", \"-\" *20, \"\\n<<<< <generated_text>\")\n",
    "for i, text in enumerate(generated_text):\n",
    "    print(\"\\n\", \"-\" * 80)\n",
    "    print(\">>>>\", decode(text[:context_len].tolist()))\n",
    "    print(\"-\" * 20)\n",
    "    print(\"<<<< \", decode(text[context_len:].tolist()))\n",
    "    if i + 1 >= batch_gen:\n",
    "        break"
   ]
  },
  {
   "cell_type": "code",
   "execution_count": 21,
   "id": "89a99408",
   "metadata": {},
   "outputs": [
    {
     "name": "stdout",
     "output_type": "stream",
     "text": [
      "generation results saved to ../results/neural_bigram/text_generation_results.txt\n"
     ]
    }
   ],
   "source": [
    "# save generation results to a text file\n",
    "gen_results_filename = os.path.join(RESULTS_DIR, \"text_generation_results.txt\")\n",
    "with open(gen_results_filename, \"w\", encoding=\"utf-8\") as f:\n",
    "    f.write(f\"used tokenizer: bytelevel_bpe, merges: {n_merges}, min_freq: {min_freq}\\n\")\n",
    "    f.write(f\">>>> <context>\\n\")\n",
    "    f.write(\"-\" * 20 + \"\\n\")\n",
    "    f.write(f\"<<<< <generated_text>\\n\")\n",
    "    for i, text in enumerate(generated_text):\n",
    "        f.write(\"\\n\" + \"-\" * 80 + \"\\n\")\n",
    "        f.write(\">>>> \" + decode(text[:context_len].tolist()) + \"\\n\")\n",
    "        f.write(\"-\" * 20 + \"\\n\")\n",
    "        f.write(\"<<<< \" + decode(text[context_len:].tolist()) + \"\\n\")\n",
    "        if i + 1 >= batch_gen:\n",
    "            break\n",
    "print(f\"generation results saved to {gen_results_filename}\")"
   ]
  }
 ],
 "metadata": {
  "kernelspec": {
   "display_name": ".venv (3.12.3)",
   "language": "python",
   "name": "python3"
  },
  "language_info": {
   "codemirror_mode": {
    "name": "ipython",
    "version": 3
   },
   "file_extension": ".py",
   "mimetype": "text/x-python",
   "name": "python",
   "nbconvert_exporter": "python",
   "pygments_lexer": "ipython3",
   "version": "3.12.3"
  }
 },
 "nbformat": 4,
 "nbformat_minor": 5
}
