{
 "cells": [
  {
   "cell_type": "code",
   "execution_count": 1,
   "id": "3f9eb46e",
   "metadata": {},
   "outputs": [],
   "source": [
    "import torch\n",
    "import torch.nn as nn\n",
    "import torch.nn.functional as F    \n",
    "from torch.optim import AdamW\n",
    "from torch.amp import GradScaler\n",
    "from torch.optim.lr_scheduler import CosineAnnealingLR\n",
    "from torch.optim.lr_scheduler import CosineAnnealingWarmRestarts\n",
    "from torch.utils.tensorboard import SummaryWriter\n",
    "\n",
    "import numpy as np\n",
    "import pandas as pd\n",
    "import matplotlib.pyplot as plt\n",
    "from tqdm.auto import tqdm\n",
    "import time\n",
    "from functools import partial\n",
    "\n",
    "import json\n",
    "import os\n",
    "\n",
    "CHECKPOINT_DIR = os.path.join(\"..\", \"checkpoints\", \"GPT\")\n",
    "LOG_DIR = os.path.join(\"..\", \"logs\", \"GPT\")\n",
    "RESULTS_DIR = os.path.join(\"..\", \"results\", \"GPT\")\n",
    "\n",
    "os.makedirs(CHECKPOINT_DIR, exist_ok=True)\n",
    "os.makedirs(RESULTS_DIR, exist_ok=True)\n",
    "os.makedirs(LOG_DIR, exist_ok=True)"
   ]
  },
  {
   "cell_type": "code",
   "execution_count": null,
   "id": "c82e03fd",
   "metadata": {},
   "outputs": [],
   "source": [
    "# add parent directory to the path to allow imports\n",
    "import sys\n",
    "sys.path.append(os.path.abspath(os.path.join(os.getcwd(), \"..\")))\n",
    "\n",
    "from GPT_mj import GPT, ConfigGPT\n",
    "from train_mj import train, evaluate, ConfigTrain\n",
    "from utils import init_dataloader, WarmupThenCosine, set_seed, count_params, save_checkpoint, load_checkpoint\n",
    "from bpe_hf import train_bytelevel_bpe, SPECIAL_TOKENS"
   ]
  },
  {
   "cell_type": "markdown",
   "id": "ab76fdc7",
   "metadata": {},
   "source": [
    "## load data"
   ]
  },
  {
   "cell_type": "code",
   "execution_count": 3,
   "id": "c8960270",
   "metadata": {},
   "outputs": [
    {
     "name": "stdout",
     "output_type": "stream",
     "text": [
      "train text charachters length:  883780\n",
      "train text words count:  158605\n",
      "train text first 100 chars:  The Tragedy of Antony and Cleopatra\n",
      "\n",
      "\n",
      "Dramatis Personae\n",
      "\n",
      "\n",
      "\n",
      "MARK ANTONY\n",
      "OCTAVIUS CAESAR\n",
      "M. AEMILIUS L\n"
     ]
    }
   ],
   "source": [
    "data_dir = \"../data/\"\n",
    "# without nl\n",
    "# train_file = \"Shakespeare_clean_train.txt\"\n",
    "# val_file = \"Shakespeare_clean_valid.txt\"\n",
    "# test_file = \"Shakespeare_clean_test.txt\"\n",
    "# with nl\n",
    "train_file = \"Shakespeare_clean_w_nl_train.txt\"\n",
    "val_file = \"Shakespeare_clean_w_nl_valid.txt\"\n",
    "test_file = \"Shakespeare_clean_w_nl_test.txt\"\n",
    "\n",
    "train_file = os.path.join(data_dir, train_file)\n",
    "test_file = os.path.join(data_dir, test_file)\n",
    "val_file = os.path.join(data_dir, val_file)\n",
    "\n",
    "with open(train_file, \"r\", encoding=\"utf-8\") as f:\n",
    "    train_text = f.read().strip()\n",
    "\n",
    "with open(val_file, \"r\", encoding=\"utf-8\") as f:\n",
    "    val_text = f.read().strip()\n",
    "\n",
    "with open(test_file, \"r\", encoding=\"utf-8\") as f:\n",
    "    test_text = f.read().strip()\n",
    "\n",
    "print(\"train text charachters length: \", len(train_text))\n",
    "print(\"train text words count: \", len(train_text.split()))\n",
    "print(\"train text first 100 chars: \", train_text[:100])"
   ]
  },
  {
   "cell_type": "markdown",
   "id": "e7f2d8ae",
   "metadata": {},
   "source": [
    "## initialize tokensizer and data embeddings"
   ]
  },
  {
   "cell_type": "code",
   "execution_count": 4,
   "id": "901d108a",
   "metadata": {},
   "outputs": [
    {
     "name": "stdout",
     "output_type": "stream",
     "text": [
      "vocab size:  460\n",
      "BPE tokenizer vocab:  [('n', 81), ('$', 7), ('ess', 410), ('at', 311), ('S', 54), ('<pad>', 0), ('ver', 389), ('_', 66), ('AR', 396), ('Ģ', 226), ('¦', 103), ('Ġo', 278), ('r', 85), ('US', 348), ('RA', 434), ('ā', 193), ('st', 309), ('nt', 359), ('Ġmu', 448), ('~', 97), ('ĠI', 277), ('il', 439), ('C', 38), ('ĸ', 248), ('±', 113), ('ı', 241), ('Ç', 135), ('IO', 442), ('j', 77), ('M', 48), ('pe', 413), ('id', 365), ('t', 87), ('ĠThe', 364), ('q', 84), ('ain', 408), ('Ġb', 275), ('³', 115), ('R', 53), ('ą', 197), ('ã', 163), ('Ď', 206), ('Ć', 198), ('«', 108), ('Z', 61), ('â', 162), ('Ġk', 381), ('ght', 354), ('ò', 178), ('ay', 320), ('V', 57), ('`', 67), ('Ġto', 298), ('Ġhis', 368), ('ĠD', 371), ('Ł', 257), ('Ġw', 268), ('-', 16), ('Ġmy', 323), ('à', 160), ('ake', 432), ('en', 289), ('Ġlo', 405), ('Ġthou', 369), ('es', 284), ('!', 4), ('ar', 290), ('čĊ', 260), ('a', 68), ('®', 110), ('he', 263), ('Į', 238), ('ĠĊ', 360), ('ķ', 247), (']', 64), ('{', 94), ('ĝ', 221), ('Ġand', 299), ('?', 34), ('ĩ', 233), ('ge', 443), ('}', 96), ('¤', 101), ('ld', 326), ('ET', 398), ('ot', 305), ('ì', 172), ('Ġof', 303), ('m', 80), ('ð', 176), ('\"', 5), ('Ġwith', 352), ('hi', 407), ('ª', 107), ('Ó', 147), ('nd', 272), ('ing', 310), ('G', 42), ('Ī', 234), ('Å', 133)]\n",
      "train ids length:  498262\n",
      "train ids first 100 ids:  [364, 291, 378, 74, 332, 92, 303, 293, 359, 288, 92, 299, 313, 322, 82, 83, 311, 378, 202, 202, 202, 39, 378, 80, 311]\n",
      "train ids first 100 individual tokens:  ['ĠThe', 'ĠT', 'ra', 'g', 'ed', 'y', 'Ġof', 'ĠA', 'nt', 'on', 'y', 'Ġand', 'ĠC', 'le', 'o', 'p', 'at', 'ra', 'Ċ', 'Ċ', 'Ċ', 'D', 'ra', 'm', 'at']\n"
     ]
    }
   ],
   "source": [
    "N_MERGES = 200\n",
    "MIN_FREQ = 2\n",
    "\n",
    "SPECIAL_TOKENS = SPECIAL_TOKENS.copy()\n",
    "PAD_TOKEN = SPECIAL_TOKENS.get(\"pad\", \"<pad>\")\n",
    "BOS_TOKEN = SPECIAL_TOKENS.get(\"bos\", \"<bos>\")\n",
    "EOS_TOKEN = SPECIAL_TOKENS.get(\"eos\", \"<eos>\")\n",
    "\n",
    "\n",
    "bpe_tokenizer = train_bytelevel_bpe(files=[train_file],\n",
    "                                merges=N_MERGES, \n",
    "                                min_frequency=MIN_FREQ,\n",
    "                                special_tokens=SPECIAL_TOKENS,\n",
    "                                lowercase=False,\n",
    "                                add_prefix_space=True,\n",
    "                                save_filename=f\"bpe_shakespeare_{N_MERGES}\")\n",
    "\n",
    "encode = partial(bpe_tokenizer.encode, add_special_tokens=False)\n",
    "decode = bpe_tokenizer.decode\n",
    "vocab_size = bpe_tokenizer.get_vocab_size()\n",
    "print(\"vocab size: \", vocab_size)\n",
    "print(\"BPE tokenizer vocab: \", list(bpe_tokenizer.get_vocab().items())[:100])\n",
    "\n",
    "PAD_TOKEN_ID = bpe_tokenizer.token_to_id(PAD_TOKEN) \n",
    "BOS_TOKEN_ID = bpe_tokenizer.token_to_id(BOS_TOKEN)\n",
    "EOS_TOKEN_ID = bpe_tokenizer.token_to_id(EOS_TOKEN)\n",
    "\n",
    "train_ids = encode(train_text).ids\n",
    "test_ids = encode(test_text).ids\n",
    "val_ids = encode(val_text).ids\n",
    "\n",
    "print(\"train ids length: \", len(train_ids))\n",
    "print(\"train ids first 100 ids: \", train_ids[:25])\n",
    "print(\"train ids first 100 individual tokens: \", [bpe_tokenizer.id_to_token(i) for i in train_ids[:25]]) "
   ]
  },
  {
   "cell_type": "markdown",
   "id": "87b73455",
   "metadata": {},
   "source": [
    "## define the model's and training parameters (configs)"
   ]
  },
  {
   "cell_type": "code",
   "execution_count": 5,
   "id": "619ca315",
   "metadata": {},
   "outputs": [
    {
     "name": "stdout",
     "output_type": "stream",
     "text": [
      "vocab size:  460\n",
      "number of model parameters:  528460\n",
      "number of batches in train loader:  7785\n",
      "number of batches in test loader:  930\n",
      "number of batches in val loader:  924\n",
      "log dir:  logs/GPT/gpt_em128_hd4_ly2_bpe200/lr0.0003_drop0.1_250824_181825\n",
      "checkpoint dir:  checkpoints/GPT\n",
      "checkpoint best filename:  gpt_em128_hd4_ly2_bpe200_best.pt\n",
      "checkpoint last filename:  gpt_em128_hd4_ly2_bpe200_last.pt\n"
     ]
    }
   ],
   "source": [
    "SEED = 123\n",
    "DEVICE = \"cuda\" if torch.cuda.is_available() else \"cpu\"\n",
    "# hyperparameters \n",
    "# tokenizer\n",
    "# N_MERGES = 200\n",
    "# MIN_FREQ = 2\n",
    "# data\n",
    "BATCH_SIZE = 64\n",
    "BLOCK_SIZE = 128\n",
    "\n",
    "#  model\n",
    "N_EMBED = 128\n",
    "N_HEADS = 4\n",
    "N_LAYERS = 2\n",
    "DROPOUT = 0.1\n",
    "# optimizer\n",
    "LR = 3e-4\n",
    "WEIGHT_DECAY = 1e-3\n",
    "# scheduler\n",
    "ETA_MIN = 1e-7\n",
    "\n",
    "# training loop\n",
    "EPOCHS = 60\n",
    "ES_PATIENCE = 5\n",
    "ES_TOLERANCE = 1e-6\n",
    "GRAD_ACCUM_STEPS = 1\n",
    "USE_AMP = False # IMPORTANT: set to False if training on CPU training \n",
    "\n",
    "# checkpoints\n",
    "EVAL_INTERVAL = 2  # evaluate every n epochs\n",
    "CKPT_INTERVAL = 10  # save checkpoint every n epochs\n",
    "\n",
    "# make unique checkpoint file prefix from the parameters\n",
    "ckpt_file_prefix = f\"gpt_em{N_EMBED}_hd{N_HEADS}_ly{N_LAYERS}_bpe{N_MERGES}\"\n",
    "all_hparams_cfg_filename = f\"{ckpt_file_prefix}_hparams.json\"\n",
    "\n",
    "# config for training\n",
    "cfg_train = ConfigTrain(device=DEVICE,\n",
    "                    epochs=EPOCHS, \n",
    "                    early_stop_patience=ES_PATIENCE,\n",
    "                    early_stop_tolerance=ES_TOLERANCE,\n",
    "                    grad_accum_steps=GRAD_ACCUM_STEPS,\n",
    "                    # max_grad_norm=data.get(\"max_grad_norm\", 1.0),\n",
    "                    use_amp=USE_AMP,\n",
    "                    seed=SEED,\n",
    "                    eval_interval=EVAL_INTERVAL,\n",
    "                    ckpt_interval=CKPT_INTERVAL,\n",
    "                    ckpt_dir=CHECKPOINT_DIR,\n",
    "                    ckpt_best_filename=f\"{ckpt_file_prefix}_best.pt\",\n",
    "                    ckpt_last_filename=f\"{ckpt_file_prefix}_last.pt\",\n",
    "                    log_dir=os.path.join(LOG_DIR, f\"{ckpt_file_prefix}\", f'lr{LR}_drop{DROPOUT}_{time.strftime(\"%y%m%d_%H%M%S\")}'),\n",
    "                    )\n",
    "# config for model\n",
    "cfg_model = ConfigGPT(\n",
    "                    vocab_size=vocab_size,\n",
    "                    block_size=BLOCK_SIZE,  \n",
    "                    n_embed=N_EMBED,\n",
    "                    n_head=N_HEADS,  \n",
    "                    n_layer=N_LAYERS, \n",
    "                    dropout=DROPOUT,\n",
    "                    bias=False,\n",
    "                    )\n",
    "\n",
    "# model parameters\n",
    "print(\"vocab size: \", vocab_size)\n",
    "print(\"number of model parameters: \", count_params(GPT(config=cfg_model)))\n",
    "\n",
    "# print all log and checkpoint dir and filenames\n",
    "print(\"number of batches in train loader: \", len(train_ids)//BATCH_SIZE)\n",
    "print(\"number of batches in test loader: \", len(test_ids)//BATCH_SIZE)\n",
    "print(\"number of batches in val loader: \", len(val_ids)//BATCH_SIZE)\n",
    "\n",
    "print(\"log dir: \", cfg_train.log_dir)\n",
    "print(\"checkpoint dir: \", cfg_train.ckpt_dir)\n",
    "print(\"checkpoint best filename: \", cfg_train.ckpt_best_filename)\n",
    "print(\"checkpoint last filename: \", cfg_train.ckpt_last_filename)"
   ]
  },
  {
   "cell_type": "markdown",
   "id": "379c4f85",
   "metadata": {},
   "source": [
    "## Train the model"
   ]
  },
  {
   "cell_type": "code",
   "execution_count": 6,
   "id": "ae5c7db4",
   "metadata": {},
   "outputs": [
    {
     "name": "stdout",
     "output_type": "stream",
     "text": [
      "Model parameters: 528_460\n",
      "vocab size:  460\n",
      "excepted iniital CE loss( uniform model ): 6.1312, ppl: 460.0000\n",
      "not trained model Initial validation loss: 6.1553, ppl: 471.2037\n",
      "GPT(\n",
      "  (embedding): Embedding(460, 128)\n",
      "  (position_embedding): Embedding(128, 128)\n",
      "  (dropout_em): Dropout(p=0.1, inplace=False)\n",
      "  (decoder_blocks): Sequential(\n",
      "    (0): DecoderBlock(\n",
      "      (layer_norm_1): LayerNorm((128,), eps=1e-05, elementwise_affine=True)\n",
      "      (attention): CausalSelfAttention(\n",
      "        (self_attn): Linear(in_features=128, out_features=384, bias=False)\n",
      "        (dropout_attn): Dropout(p=0.1, inplace=False)\n",
      "        (lin_proj): Linear(in_features=128, out_features=128, bias=False)\n",
      "        (dropout_proj): Dropout(p=0.1, inplace=False)\n",
      "      )\n",
      "      (layer_norm_mlp): LayerNorm((128,), eps=1e-05, elementwise_affine=True)\n",
      "      (mlp): SimpleMLP(\n",
      "        (lin_wide): Linear(in_features=128, out_features=512, bias=False)\n",
      "        (gelu): GELU(approximate='none')\n",
      "        (lin_proj_back): Linear(in_features=512, out_features=128, bias=False)\n",
      "        (dropout): Dropout(p=0.1, inplace=False)\n",
      "      )\n",
      "    )\n",
      "    (1): DecoderBlock(\n",
      "      (layer_norm_1): LayerNorm((128,), eps=1e-05, elementwise_affine=True)\n",
      "      (attention): CausalSelfAttention(\n",
      "        (self_attn): Linear(in_features=128, out_features=384, bias=False)\n",
      "        (dropout_attn): Dropout(p=0.1, inplace=False)\n",
      "        (lin_proj): Linear(in_features=128, out_features=128, bias=False)\n",
      "        (dropout_proj): Dropout(p=0.1, inplace=False)\n",
      "      )\n",
      "      (layer_norm_mlp): LayerNorm((128,), eps=1e-05, elementwise_affine=True)\n",
      "      (mlp): SimpleMLP(\n",
      "        (lin_wide): Linear(in_features=128, out_features=512, bias=False)\n",
      "        (gelu): GELU(approximate='none')\n",
      "        (lin_proj_back): Linear(in_features=512, out_features=128, bias=False)\n",
      "        (dropout): Dropout(p=0.1, inplace=False)\n",
      "      )\n",
      "    )\n",
      "  )\n",
      "  (lyer_norm): LayerNorm((128,), eps=1e-05, elementwise_affine=True)\n",
      "  (lin_out): Linear(in_features=128, out_features=460, bias=True)\n",
      ")\n"
     ]
    }
   ],
   "source": [
    "set_seed(cfg_train.seed)\n",
    "train_loader = init_dataloader(train_ids, BLOCK_SIZE, BATCH_SIZE, train=True, shuffle=True)\n",
    "test_loader = init_dataloader(test_ids, BLOCK_SIZE, BATCH_SIZE, train=False, shuffle=True)\n",
    "val_loader = init_dataloader(val_ids, BLOCK_SIZE, BATCH_SIZE, train=False, shuffle=True)\n",
    "\n",
    "model = GPT(config=cfg_model,)\n",
    "model.to(cfg_train.device)\n",
    "\n",
    "optimizer = AdamW(model.parameters(), lr=LR, weight_decay=WEIGHT_DECAY, foreach=True if DEVICE==\"cpu\" else None)\n",
    "\n",
    "\n",
    "lr_scheduler = WarmupThenCosine(optimizer, warmup_steps=500, T_max=cfg_train.epochs * len(train_loader) // max(1, cfg_train.grad_accum_steps), eta_min=ETA_MIN)\n",
    "# rl_scheduler = CosineAnnealingLR(optimizer, T_max=cfg.epochs * len(train_loader) // max(1, cfg.grad_accum_steps), eta_min=ETA_MIN)\n",
    "# rl_scheduler = CosineAnnealingWarmRestarts(optimizer, T_0=2 * len(train_loader) // max(1, cfg.grad_accum_steps), T_mult=2, eta_min=ETA_MIN)\n",
    "\n",
    "scaler = GradScaler(enabled=cfg_train.use_amp)\n",
    "\n",
    "summary_writer = SummaryWriter(log_dir=cfg_train.log_dir, flush_secs=5)\n",
    "\n",
    "# add model graph to tensorboard\n",
    "# write model graph\n",
    "# dummy_input = torch.zeros((1, BLOCK_SIZE), dtype=torch.long, device=cfg_train.device)\n",
    "# summary_writer.add_graph(model.eval(), dummy_input)  # eval() avoids dropout noise\n",
    "# summary_writer.flush()\n",
    "# summary_writer.close()\n",
    "\n",
    "# compile the model (can skip if not needed)\n",
    "model.compile(mode=\"reduce-overhead\")\n",
    "\n",
    "# inspect the model\n",
    "print(f\"Model parameters: {count_params(model):_}\")\n",
    "print(\"vocab size: \", vocab_size)\n",
    "print(f\"excepted iniital CE loss( uniform model ): {-np.log(1/vocab_size):.4f}, ppl: {np.exp(-np.log(1/vocab_size)):.4f}\")\n",
    "# evaluate the untrained model\n",
    "val_loss = evaluate(model, val_loader, device=cfg_train.device)\n",
    "val_ppl = np.exp(val_loss)\n",
    "print(f\"not trained model Initial validation loss: {val_loss:.4f}, ppl: {val_ppl:.4f}\")\n",
    "print(model)"
   ]
  },
  {
   "cell_type": "code",
   "execution_count": 7,
   "id": "422af458",
   "metadata": {},
   "outputs": [
    {
     "data": {
      "application/vnd.jupyter.widget-view+json": {
       "model_id": "ea415871598246b88375e21539c17575",
       "version_major": 2,
       "version_minor": 0
      },
      "text/plain": [
       "Training Progress:   0%|          | 0/60 [00:00<?, ?it/s]"
      ]
     },
     "metadata": {},
     "output_type": "display_data"
    },
    {
     "data": {
      "application/vnd.jupyter.widget-view+json": {
       "model_id": "14ebfcb2464b437bbba9e7aad365d682",
       "version_major": 2,
       "version_minor": 0
      },
      "text/plain": [
       "Epoch 1/60:   0%|          | 0/61 [00:00<?, ?it/s]"
      ]
     },
     "metadata": {},
     "output_type": "display_data"
    },
    {
     "data": {
      "application/vnd.jupyter.widget-view+json": {
       "model_id": "b9e2b4cd561c45de8e9fc3d72dc1d483",
       "version_major": 2,
       "version_minor": 0
      },
      "text/plain": [
       "Epoch 2/60:   0%|          | 0/61 [00:00<?, ?it/s]"
      ]
     },
     "metadata": {},
     "output_type": "display_data"
    },
    {
     "data": {
      "application/vnd.jupyter.widget-view+json": {
       "model_id": "d5677e907a454516b7769d8ba23fa585",
       "version_major": 2,
       "version_minor": 0
      },
      "text/plain": [
       "Epoch 3/60:   0%|          | 0/61 [00:00<?, ?it/s]"
      ]
     },
     "metadata": {},
     "output_type": "display_data"
    },
    {
     "data": {
      "application/vnd.jupyter.widget-view+json": {
       "model_id": "0a40db40fe864ed980583a5990e4f9d2",
       "version_major": 2,
       "version_minor": 0
      },
      "text/plain": [
       "Epoch 4/60:   0%|          | 0/61 [00:00<?, ?it/s]"
      ]
     },
     "metadata": {},
     "output_type": "display_data"
    },
    {
     "data": {
      "application/vnd.jupyter.widget-view+json": {
       "model_id": "3dafd86e48324c9faa59a8e38475f174",
       "version_major": 2,
       "version_minor": 0
      },
      "text/plain": [
       "Epoch 5/60:   0%|          | 0/61 [00:00<?, ?it/s]"
      ]
     },
     "metadata": {},
     "output_type": "display_data"
    },
    {
     "data": {
      "application/vnd.jupyter.widget-view+json": {
       "model_id": "721be10e7c534ad7821b6c16320b65d6",
       "version_major": 2,
       "version_minor": 0
      },
      "text/plain": [
       "Epoch 6/60:   0%|          | 0/61 [00:00<?, ?it/s]"
      ]
     },
     "metadata": {},
     "output_type": "display_data"
    },
    {
     "data": {
      "application/vnd.jupyter.widget-view+json": {
       "model_id": "f826c31920d94bdc960d707da7abf4a8",
       "version_major": 2,
       "version_minor": 0
      },
      "text/plain": [
       "Epoch 7/60:   0%|          | 0/61 [00:00<?, ?it/s]"
      ]
     },
     "metadata": {},
     "output_type": "display_data"
    },
    {
     "data": {
      "application/vnd.jupyter.widget-view+json": {
       "model_id": "2446a8e0be30404fbc7d3d42621a4ac2",
       "version_major": 2,
       "version_minor": 0
      },
      "text/plain": [
       "Epoch 8/60:   0%|          | 0/61 [00:00<?, ?it/s]"
      ]
     },
     "metadata": {},
     "output_type": "display_data"
    },
    {
     "data": {
      "application/vnd.jupyter.widget-view+json": {
       "model_id": "f25e380c709046519e145e246de4cdd8",
       "version_major": 2,
       "version_minor": 0
      },
      "text/plain": [
       "Epoch 9/60:   0%|          | 0/61 [00:00<?, ?it/s]"
      ]
     },
     "metadata": {},
     "output_type": "display_data"
    },
    {
     "data": {
      "application/vnd.jupyter.widget-view+json": {
       "model_id": "358b33fea47244f1a0e6cd09eb58b1b6",
       "version_major": 2,
       "version_minor": 0
      },
      "text/plain": [
       "Epoch 10/60:   0%|          | 0/61 [00:00<?, ?it/s]"
      ]
     },
     "metadata": {},
     "output_type": "display_data"
    },
    {
     "data": {
      "application/vnd.jupyter.widget-view+json": {
       "model_id": "bbad0505c38f4fa39753f518912d3fd2",
       "version_major": 2,
       "version_minor": 0
      },
      "text/plain": [
       "Epoch 11/60:   0%|          | 0/61 [00:00<?, ?it/s]"
      ]
     },
     "metadata": {},
     "output_type": "display_data"
    },
    {
     "data": {
      "application/vnd.jupyter.widget-view+json": {
       "model_id": "5d7f6aa9d15541b2bf0ae239aa7452f0",
       "version_major": 2,
       "version_minor": 0
      },
      "text/plain": [
       "Epoch 12/60:   0%|          | 0/61 [00:00<?, ?it/s]"
      ]
     },
     "metadata": {},
     "output_type": "display_data"
    },
    {
     "data": {
      "application/vnd.jupyter.widget-view+json": {
       "model_id": "550beaeb68804fc19380c3c16f085e9c",
       "version_major": 2,
       "version_minor": 0
      },
      "text/plain": [
       "Epoch 13/60:   0%|          | 0/61 [00:00<?, ?it/s]"
      ]
     },
     "metadata": {},
     "output_type": "display_data"
    },
    {
     "data": {
      "application/vnd.jupyter.widget-view+json": {
       "model_id": "cde2eb9fbc2e45b093bb7c4bbbc863a0",
       "version_major": 2,
       "version_minor": 0
      },
      "text/plain": [
       "Epoch 14/60:   0%|          | 0/61 [00:00<?, ?it/s]"
      ]
     },
     "metadata": {},
     "output_type": "display_data"
    },
    {
     "data": {
      "application/vnd.jupyter.widget-view+json": {
       "model_id": "c11c95bec1ed4382bfe332b381c9141a",
       "version_major": 2,
       "version_minor": 0
      },
      "text/plain": [
       "Epoch 15/60:   0%|          | 0/61 [00:00<?, ?it/s]"
      ]
     },
     "metadata": {},
     "output_type": "display_data"
    },
    {
     "data": {
      "application/vnd.jupyter.widget-view+json": {
       "model_id": "7782047597804f0a867ea5bc7233b82f",
       "version_major": 2,
       "version_minor": 0
      },
      "text/plain": [
       "Epoch 16/60:   0%|          | 0/61 [00:00<?, ?it/s]"
      ]
     },
     "metadata": {},
     "output_type": "display_data"
    },
    {
     "data": {
      "application/vnd.jupyter.widget-view+json": {
       "model_id": "eccdc5f4a0bc46fa9ac20bd760445d99",
       "version_major": 2,
       "version_minor": 0
      },
      "text/plain": [
       "Epoch 17/60:   0%|          | 0/61 [00:00<?, ?it/s]"
      ]
     },
     "metadata": {},
     "output_type": "display_data"
    },
    {
     "data": {
      "application/vnd.jupyter.widget-view+json": {
       "model_id": "4b2b4e2ddfe54281b8b2b4bbc0ec0000",
       "version_major": 2,
       "version_minor": 0
      },
      "text/plain": [
       "Epoch 18/60:   0%|          | 0/61 [00:00<?, ?it/s]"
      ]
     },
     "metadata": {},
     "output_type": "display_data"
    },
    {
     "data": {
      "application/vnd.jupyter.widget-view+json": {
       "model_id": "e53137989f8543e9921673d06cd1904e",
       "version_major": 2,
       "version_minor": 0
      },
      "text/plain": [
       "Epoch 19/60:   0%|          | 0/61 [00:00<?, ?it/s]"
      ]
     },
     "metadata": {},
     "output_type": "display_data"
    },
    {
     "data": {
      "application/vnd.jupyter.widget-view+json": {
       "model_id": "7de5cb942ae4426ea7fab60436c5163a",
       "version_major": 2,
       "version_minor": 0
      },
      "text/plain": [
       "Epoch 20/60:   0%|          | 0/61 [00:00<?, ?it/s]"
      ]
     },
     "metadata": {},
     "output_type": "display_data"
    },
    {
     "data": {
      "application/vnd.jupyter.widget-view+json": {
       "model_id": "41e2b48a826b4882b2f7ad19eaef30a3",
       "version_major": 2,
       "version_minor": 0
      },
      "text/plain": [
       "Epoch 21/60:   0%|          | 0/61 [00:00<?, ?it/s]"
      ]
     },
     "metadata": {},
     "output_type": "display_data"
    },
    {
     "data": {
      "application/vnd.jupyter.widget-view+json": {
       "model_id": "1abbeb57ff544661b86c17ceb8d52b44",
       "version_major": 2,
       "version_minor": 0
      },
      "text/plain": [
       "Epoch 22/60:   0%|          | 0/61 [00:00<?, ?it/s]"
      ]
     },
     "metadata": {},
     "output_type": "display_data"
    },
    {
     "data": {
      "application/vnd.jupyter.widget-view+json": {
       "model_id": "71db62ee7e124fc7800fb27e5745b516",
       "version_major": 2,
       "version_minor": 0
      },
      "text/plain": [
       "Epoch 23/60:   0%|          | 0/61 [00:00<?, ?it/s]"
      ]
     },
     "metadata": {},
     "output_type": "display_data"
    },
    {
     "data": {
      "application/vnd.jupyter.widget-view+json": {
       "model_id": "6531270bfd174715bc42edc7c4da72f1",
       "version_major": 2,
       "version_minor": 0
      },
      "text/plain": [
       "Epoch 24/60:   0%|          | 0/61 [00:00<?, ?it/s]"
      ]
     },
     "metadata": {},
     "output_type": "display_data"
    },
    {
     "data": {
      "application/vnd.jupyter.widget-view+json": {
       "model_id": "bb3b2efebd174ec9aa20f92f1372a4e1",
       "version_major": 2,
       "version_minor": 0
      },
      "text/plain": [
       "Epoch 25/60:   0%|          | 0/61 [00:00<?, ?it/s]"
      ]
     },
     "metadata": {},
     "output_type": "display_data"
    },
    {
     "data": {
      "application/vnd.jupyter.widget-view+json": {
       "model_id": "a32ac50391124a07861cb9bf06b0843c",
       "version_major": 2,
       "version_minor": 0
      },
      "text/plain": [
       "Epoch 26/60:   0%|          | 0/61 [00:00<?, ?it/s]"
      ]
     },
     "metadata": {},
     "output_type": "display_data"
    },
    {
     "data": {
      "application/vnd.jupyter.widget-view+json": {
       "model_id": "7d2c99f0ce0a4a1a8bbf42b91206fc36",
       "version_major": 2,
       "version_minor": 0
      },
      "text/plain": [
       "Epoch 27/60:   0%|          | 0/61 [00:00<?, ?it/s]"
      ]
     },
     "metadata": {},
     "output_type": "display_data"
    },
    {
     "data": {
      "application/vnd.jupyter.widget-view+json": {
       "model_id": "afe5780e98cf40b0a2c160ab08a1805e",
       "version_major": 2,
       "version_minor": 0
      },
      "text/plain": [
       "Epoch 28/60:   0%|          | 0/61 [00:00<?, ?it/s]"
      ]
     },
     "metadata": {},
     "output_type": "display_data"
    },
    {
     "data": {
      "application/vnd.jupyter.widget-view+json": {
       "model_id": "f394e677d0164a4a88ac6688c117f152",
       "version_major": 2,
       "version_minor": 0
      },
      "text/plain": [
       "Epoch 29/60:   0%|          | 0/61 [00:00<?, ?it/s]"
      ]
     },
     "metadata": {},
     "output_type": "display_data"
    },
    {
     "data": {
      "application/vnd.jupyter.widget-view+json": {
       "model_id": "e8832f027b90440dba94b4ca36dd97d0",
       "version_major": 2,
       "version_minor": 0
      },
      "text/plain": [
       "Epoch 30/60:   0%|          | 0/61 [00:00<?, ?it/s]"
      ]
     },
     "metadata": {},
     "output_type": "display_data"
    },
    {
     "data": {
      "application/vnd.jupyter.widget-view+json": {
       "model_id": "e02cc0ae6e954f868c3b26a33581f450",
       "version_major": 2,
       "version_minor": 0
      },
      "text/plain": [
       "Epoch 31/60:   0%|          | 0/61 [00:00<?, ?it/s]"
      ]
     },
     "metadata": {},
     "output_type": "display_data"
    },
    {
     "data": {
      "application/vnd.jupyter.widget-view+json": {
       "model_id": "23f8ace91cd6456e8f76d3d93cbb8768",
       "version_major": 2,
       "version_minor": 0
      },
      "text/plain": [
       "Epoch 32/60:   0%|          | 0/61 [00:00<?, ?it/s]"
      ]
     },
     "metadata": {},
     "output_type": "display_data"
    },
    {
     "data": {
      "application/vnd.jupyter.widget-view+json": {
       "model_id": "fdbaec7a34a84b72befee477f357ef01",
       "version_major": 2,
       "version_minor": 0
      },
      "text/plain": [
       "Epoch 33/60:   0%|          | 0/61 [00:00<?, ?it/s]"
      ]
     },
     "metadata": {},
     "output_type": "display_data"
    },
    {
     "data": {
      "application/vnd.jupyter.widget-view+json": {
       "model_id": "796b1d74cc244981abd24eddcbd14ed3",
       "version_major": 2,
       "version_minor": 0
      },
      "text/plain": [
       "Epoch 34/60:   0%|          | 0/61 [00:00<?, ?it/s]"
      ]
     },
     "metadata": {},
     "output_type": "display_data"
    },
    {
     "data": {
      "application/vnd.jupyter.widget-view+json": {
       "model_id": "891d1af5b57248519d14eb812edb431b",
       "version_major": 2,
       "version_minor": 0
      },
      "text/plain": [
       "Epoch 35/60:   0%|          | 0/61 [00:00<?, ?it/s]"
      ]
     },
     "metadata": {},
     "output_type": "display_data"
    },
    {
     "data": {
      "application/vnd.jupyter.widget-view+json": {
       "model_id": "59be02b33b0f466397347c3db6ace6a1",
       "version_major": 2,
       "version_minor": 0
      },
      "text/plain": [
       "Epoch 36/60:   0%|          | 0/61 [00:00<?, ?it/s]"
      ]
     },
     "metadata": {},
     "output_type": "display_data"
    },
    {
     "data": {
      "application/vnd.jupyter.widget-view+json": {
       "model_id": "93ff636259a94599a1969c55825b106e",
       "version_major": 2,
       "version_minor": 0
      },
      "text/plain": [
       "Epoch 37/60:   0%|          | 0/61 [00:00<?, ?it/s]"
      ]
     },
     "metadata": {},
     "output_type": "display_data"
    },
    {
     "data": {
      "application/vnd.jupyter.widget-view+json": {
       "model_id": "00c60e2f2ea34887a04a9ba6fd06c82c",
       "version_major": 2,
       "version_minor": 0
      },
      "text/plain": [
       "Epoch 38/60:   0%|          | 0/61 [00:00<?, ?it/s]"
      ]
     },
     "metadata": {},
     "output_type": "display_data"
    },
    {
     "data": {
      "application/vnd.jupyter.widget-view+json": {
       "model_id": "960de126d2354b0b96934fe2f96b0103",
       "version_major": 2,
       "version_minor": 0
      },
      "text/plain": [
       "Epoch 39/60:   0%|          | 0/61 [00:00<?, ?it/s]"
      ]
     },
     "metadata": {},
     "output_type": "display_data"
    },
    {
     "data": {
      "application/vnd.jupyter.widget-view+json": {
       "model_id": "e5c24fe3ef9544c3996a9a8e9fc3071a",
       "version_major": 2,
       "version_minor": 0
      },
      "text/plain": [
       "Epoch 40/60:   0%|          | 0/61 [00:00<?, ?it/s]"
      ]
     },
     "metadata": {},
     "output_type": "display_data"
    },
    {
     "data": {
      "application/vnd.jupyter.widget-view+json": {
       "model_id": "6e6c16f0910b4b5d94cf24784e509ef9",
       "version_major": 2,
       "version_minor": 0
      },
      "text/plain": [
       "Epoch 41/60:   0%|          | 0/61 [00:00<?, ?it/s]"
      ]
     },
     "metadata": {},
     "output_type": "display_data"
    },
    {
     "data": {
      "application/vnd.jupyter.widget-view+json": {
       "model_id": "4d94ca166e714a63bb545731e0bd4870",
       "version_major": 2,
       "version_minor": 0
      },
      "text/plain": [
       "Epoch 42/60:   0%|          | 0/61 [00:00<?, ?it/s]"
      ]
     },
     "metadata": {},
     "output_type": "display_data"
    },
    {
     "data": {
      "application/vnd.jupyter.widget-view+json": {
       "model_id": "0b124b648e4749f5ae58c08d2a87787b",
       "version_major": 2,
       "version_minor": 0
      },
      "text/plain": [
       "Epoch 43/60:   0%|          | 0/61 [00:00<?, ?it/s]"
      ]
     },
     "metadata": {},
     "output_type": "display_data"
    },
    {
     "data": {
      "application/vnd.jupyter.widget-view+json": {
       "model_id": "db39b7568f664f9ea7510aeba0dc154e",
       "version_major": 2,
       "version_minor": 0
      },
      "text/plain": [
       "Epoch 44/60:   0%|          | 0/61 [00:00<?, ?it/s]"
      ]
     },
     "metadata": {},
     "output_type": "display_data"
    },
    {
     "data": {
      "application/vnd.jupyter.widget-view+json": {
       "model_id": "dd7489291ea949c187b3af7b71962967",
       "version_major": 2,
       "version_minor": 0
      },
      "text/plain": [
       "Epoch 45/60:   0%|          | 0/61 [00:00<?, ?it/s]"
      ]
     },
     "metadata": {},
     "output_type": "display_data"
    },
    {
     "data": {
      "application/vnd.jupyter.widget-view+json": {
       "model_id": "4dbe1bb20ef04f39abe7e171ddc957a7",
       "version_major": 2,
       "version_minor": 0
      },
      "text/plain": [
       "Epoch 46/60:   0%|          | 0/61 [00:00<?, ?it/s]"
      ]
     },
     "metadata": {},
     "output_type": "display_data"
    },
    {
     "data": {
      "application/vnd.jupyter.widget-view+json": {
       "model_id": "8ed610ca0a81445fa21aa3e1ff15e514",
       "version_major": 2,
       "version_minor": 0
      },
      "text/plain": [
       "Epoch 47/60:   0%|          | 0/61 [00:00<?, ?it/s]"
      ]
     },
     "metadata": {},
     "output_type": "display_data"
    },
    {
     "data": {
      "application/vnd.jupyter.widget-view+json": {
       "model_id": "890361c5bd124c1ab3a5995dee3063d7",
       "version_major": 2,
       "version_minor": 0
      },
      "text/plain": [
       "Epoch 48/60:   0%|          | 0/61 [00:00<?, ?it/s]"
      ]
     },
     "metadata": {},
     "output_type": "display_data"
    },
    {
     "data": {
      "application/vnd.jupyter.widget-view+json": {
       "model_id": "68a659d4071a4de491f3bc7554ec0f44",
       "version_major": 2,
       "version_minor": 0
      },
      "text/plain": [
       "Epoch 49/60:   0%|          | 0/61 [00:00<?, ?it/s]"
      ]
     },
     "metadata": {},
     "output_type": "display_data"
    },
    {
     "data": {
      "application/vnd.jupyter.widget-view+json": {
       "model_id": "d315731533e146fd84b265f537968215",
       "version_major": 2,
       "version_minor": 0
      },
      "text/plain": [
       "Epoch 50/60:   0%|          | 0/61 [00:00<?, ?it/s]"
      ]
     },
     "metadata": {},
     "output_type": "display_data"
    },
    {
     "data": {
      "application/vnd.jupyter.widget-view+json": {
       "model_id": "53d1e59fe90e4d1aab7ae591cb552a3e",
       "version_major": 2,
       "version_minor": 0
      },
      "text/plain": [
       "Epoch 51/60:   0%|          | 0/61 [00:00<?, ?it/s]"
      ]
     },
     "metadata": {},
     "output_type": "display_data"
    },
    {
     "data": {
      "application/vnd.jupyter.widget-view+json": {
       "model_id": "b4f920e43da54b52bbea024ffa6736a3",
       "version_major": 2,
       "version_minor": 0
      },
      "text/plain": [
       "Epoch 52/60:   0%|          | 0/61 [00:00<?, ?it/s]"
      ]
     },
     "metadata": {},
     "output_type": "display_data"
    },
    {
     "data": {
      "application/vnd.jupyter.widget-view+json": {
       "model_id": "3dd317fbf4b5497a9b5696e9ab88c9a9",
       "version_major": 2,
       "version_minor": 0
      },
      "text/plain": [
       "Epoch 53/60:   0%|          | 0/61 [00:00<?, ?it/s]"
      ]
     },
     "metadata": {},
     "output_type": "display_data"
    },
    {
     "data": {
      "application/vnd.jupyter.widget-view+json": {
       "model_id": "15b3d300517041a6a215b0321f3180eb",
       "version_major": 2,
       "version_minor": 0
      },
      "text/plain": [
       "Epoch 54/60:   0%|          | 0/61 [00:00<?, ?it/s]"
      ]
     },
     "metadata": {},
     "output_type": "display_data"
    },
    {
     "data": {
      "application/vnd.jupyter.widget-view+json": {
       "model_id": "56b71556ca9d4dd5805514d3a6b1f866",
       "version_major": 2,
       "version_minor": 0
      },
      "text/plain": [
       "Epoch 55/60:   0%|          | 0/61 [00:00<?, ?it/s]"
      ]
     },
     "metadata": {},
     "output_type": "display_data"
    },
    {
     "data": {
      "application/vnd.jupyter.widget-view+json": {
       "model_id": "b0460a6cfbe14d7eacc13432dbf478ed",
       "version_major": 2,
       "version_minor": 0
      },
      "text/plain": [
       "Epoch 56/60:   0%|          | 0/61 [00:00<?, ?it/s]"
      ]
     },
     "metadata": {},
     "output_type": "display_data"
    },
    {
     "data": {
      "application/vnd.jupyter.widget-view+json": {
       "model_id": "4696dedded6d48b3a6fdde38c034a56b",
       "version_major": 2,
       "version_minor": 0
      },
      "text/plain": [
       "Epoch 57/60:   0%|          | 0/61 [00:00<?, ?it/s]"
      ]
     },
     "metadata": {},
     "output_type": "display_data"
    },
    {
     "data": {
      "application/vnd.jupyter.widget-view+json": {
       "model_id": "5fc2efe4e9f245668e6d938564415bc2",
       "version_major": 2,
       "version_minor": 0
      },
      "text/plain": [
       "Epoch 58/60:   0%|          | 0/61 [00:00<?, ?it/s]"
      ]
     },
     "metadata": {},
     "output_type": "display_data"
    },
    {
     "data": {
      "application/vnd.jupyter.widget-view+json": {
       "model_id": "e477a6009bb847299094bf720777ef83",
       "version_major": 2,
       "version_minor": 0
      },
      "text/plain": [
       "Epoch 59/60:   0%|          | 0/61 [00:00<?, ?it/s]"
      ]
     },
     "metadata": {},
     "output_type": "display_data"
    },
    {
     "data": {
      "application/vnd.jupyter.widget-view+json": {
       "model_id": "afeedcce445d4ae1abf41bdfbe3e2f55",
       "version_major": 2,
       "version_minor": 0
      },
      "text/plain": [
       "Epoch 60/60:   0%|          | 0/61 [00:00<?, ?it/s]"
      ]
     },
     "metadata": {},
     "output_type": "display_data"
    }
   ],
   "source": [
    "train_results = train(model, train_loader, val_loader, cfg=cfg_train,\n",
    "                      optimizer=optimizer, scheduler=lr_scheduler, scaler=scaler,\n",
    "                      writer=summary_writer)"
   ]
  },
  {
   "cell_type": "markdown",
   "id": "3884d0fa",
   "metadata": {},
   "source": [
    "### save all parameters used in the model and training"
   ]
  },
  {
   "cell_type": "code",
   "execution_count": 8,
   "id": "594596db",
   "metadata": {},
   "outputs": [],
   "source": [
    "# save all the hyperparameters into a json file\n",
    "rl_scheduler_state_dict = lr_scheduler.state_dict() if lr_scheduler.__class__.__name__ != \"WarmupThenCosine\" else {\n",
    "            k:v for k, v in lr_scheduler.state_dict().items() if k != \"cosine\"}\n",
    "all_hparams_cfg = {\n",
    "    \"tokenizer\" : {\n",
    "        \"type\": \"bytelevel_bpe\",\n",
    "        \"n_merges\": N_MERGES,\n",
    "        \"min_frequency\": MIN_FREQ,\n",
    "        \"special_tokens\": SPECIAL_TOKENS,\n",
    "    },\n",
    "    \"data\": {\n",
    "        \"batch_size\": BATCH_SIZE,\n",
    "        \"block_size\": BLOCK_SIZE,\n",
    "    },\n",
    "    \"model\": vars(cfg_model).copy(),\n",
    "    \"optimizer\": {\n",
    "        \"type\": optimizer.__class__.__name__,\n",
    "        \"lr\": LR,\n",
    "        \"weight_decay\": WEIGHT_DECAY,\n",
    "        \"defaults\": optimizer.defaults,\n",
    "    },\n",
    "    \"lr_scheduler\": {\n",
    "        \"type\": lr_scheduler.__class__.__name__,\n",
    "        \"eta_min\": ETA_MIN,\n",
    "        \"state_dict\": rl_scheduler_state_dict,\n",
    "    },\n",
    "    \"scaler\": {\n",
    "        \"type\": scaler.__class__.__name__,\n",
    "        \"enabled\": scaler.is_enabled(),\n",
    "        \"state_dict\": scaler.state_dict(),\n",
    "    },\n",
    "    \"training\": vars(cfg_train).copy(),\n",
    "    \"results\": train_results,\n",
    "}\n",
    "\n",
    "# save it to checkpoint dir, same prefix as checkpoint files\n",
    "with open(os.path.join(CHECKPOINT_DIR, all_hparams_cfg_filename), \"w\") as f:\n",
    "    json.dump(all_hparams_cfg, f, indent=4)\n",
    "\n",
    "# write it to tensorboard\n",
    "summary_writer.add_text(\"config/json\", \"```json\\n\" + json.dumps(all_hparams_cfg, indent=2, sort_keys=True) + \"\\n```\", global_step=0)\n",
    "summary_writer.flush()\n",
    "summary_writer.close()"
   ]
  },
  {
   "cell_type": "markdown",
   "id": "bce528e2",
   "metadata": {},
   "source": [
    "## results and evaluation"
   ]
  },
  {
   "cell_type": "code",
   "execution_count": 9,
   "id": "115a5050",
   "metadata": {},
   "outputs": [
    {
     "data": {
      "text/html": [
       "<div>\n",
       "<style scoped>\n",
       "    .dataframe tbody tr th:only-of-type {\n",
       "        vertical-align: middle;\n",
       "    }\n",
       "\n",
       "    .dataframe tbody tr th {\n",
       "        vertical-align: top;\n",
       "    }\n",
       "\n",
       "    .dataframe thead th {\n",
       "        text-align: right;\n",
       "    }\n",
       "</style>\n",
       "<table border=\"1\" class=\"dataframe\">\n",
       "  <thead>\n",
       "    <tr style=\"text-align: right;\">\n",
       "      <th></th>\n",
       "      <th>train_loss</th>\n",
       "      <th>train_ppl</th>\n",
       "      <th>val_ppl</th>\n",
       "      <th>val_loss</th>\n",
       "      <th>epochs</th>\n",
       "    </tr>\n",
       "  </thead>\n",
       "  <tbody>\n",
       "    <tr>\n",
       "      <th>0</th>\n",
       "      <td>5.594530</td>\n",
       "      <td>268.951233</td>\n",
       "      <td>214.961838</td>\n",
       "      <td>5.370460</td>\n",
       "      <td>1</td>\n",
       "    </tr>\n",
       "    <tr>\n",
       "      <th>1</th>\n",
       "      <td>4.860127</td>\n",
       "      <td>129.040588</td>\n",
       "      <td>101.478096</td>\n",
       "      <td>4.619843</td>\n",
       "      <td>2</td>\n",
       "    </tr>\n",
       "    <tr>\n",
       "      <th>2</th>\n",
       "      <td>4.141589</td>\n",
       "      <td>62.902737</td>\n",
       "      <td>52.981956</td>\n",
       "      <td>3.969951</td>\n",
       "      <td>3</td>\n",
       "    </tr>\n",
       "    <tr>\n",
       "      <th>3</th>\n",
       "      <td>3.768386</td>\n",
       "      <td>43.310123</td>\n",
       "      <td>38.967632</td>\n",
       "      <td>3.662731</td>\n",
       "      <td>4</td>\n",
       "    </tr>\n",
       "    <tr>\n",
       "      <th>4</th>\n",
       "      <td>3.576136</td>\n",
       "      <td>35.735195</td>\n",
       "      <td>33.062721</td>\n",
       "      <td>3.498407</td>\n",
       "      <td>5</td>\n",
       "    </tr>\n",
       "  </tbody>\n",
       "</table>\n",
       "</div>"
      ],
      "text/plain": [
       "   train_loss   train_ppl     val_ppl  val_loss  epochs\n",
       "0    5.594530  268.951233  214.961838  5.370460       1\n",
       "1    4.860127  129.040588  101.478096  4.619843       2\n",
       "2    4.141589   62.902737   52.981956  3.969951       3\n",
       "3    3.768386   43.310123   38.967632  3.662731       4\n",
       "4    3.576136   35.735195   33.062721  3.498407       5"
      ]
     },
     "metadata": {},
     "output_type": "display_data"
    },
    {
     "data": {
      "text/html": [
       "<div>\n",
       "<style scoped>\n",
       "    .dataframe tbody tr th:only-of-type {\n",
       "        vertical-align: middle;\n",
       "    }\n",
       "\n",
       "    .dataframe tbody tr th {\n",
       "        vertical-align: top;\n",
       "    }\n",
       "\n",
       "    .dataframe thead th {\n",
       "        text-align: right;\n",
       "    }\n",
       "</style>\n",
       "<table border=\"1\" class=\"dataframe\">\n",
       "  <thead>\n",
       "    <tr style=\"text-align: right;\">\n",
       "      <th></th>\n",
       "      <th>train_loss</th>\n",
       "      <th>train_ppl</th>\n",
       "      <th>val_ppl</th>\n",
       "      <th>val_loss</th>\n",
       "      <th>epochs</th>\n",
       "    </tr>\n",
       "  </thead>\n",
       "  <tbody>\n",
       "    <tr>\n",
       "      <th>25</th>\n",
       "      <td>2.718657</td>\n",
       "      <td>15.159942</td>\n",
       "      <td>13.818477</td>\n",
       "      <td>2.626007</td>\n",
       "      <td>26</td>\n",
       "    </tr>\n",
       "    <tr>\n",
       "      <th>26</th>\n",
       "      <td>2.715603</td>\n",
       "      <td>15.113715</td>\n",
       "      <td>13.772470</td>\n",
       "      <td>2.622672</td>\n",
       "      <td>27</td>\n",
       "    </tr>\n",
       "    <tr>\n",
       "      <th>27</th>\n",
       "      <td>2.713862</td>\n",
       "      <td>15.087426</td>\n",
       "      <td>13.780956</td>\n",
       "      <td>2.623288</td>\n",
       "      <td>28</td>\n",
       "    </tr>\n",
       "    <tr>\n",
       "      <th>28</th>\n",
       "      <td>2.711256</td>\n",
       "      <td>15.048161</td>\n",
       "      <td>13.764820</td>\n",
       "      <td>2.622116</td>\n",
       "      <td>29</td>\n",
       "    </tr>\n",
       "    <tr>\n",
       "      <th>29</th>\n",
       "      <td>2.711633</td>\n",
       "      <td>15.053831</td>\n",
       "      <td>13.766835</td>\n",
       "      <td>2.622263</td>\n",
       "      <td>30</td>\n",
       "    </tr>\n",
       "  </tbody>\n",
       "</table>\n",
       "</div>"
      ],
      "text/plain": [
       "    train_loss  train_ppl    val_ppl  val_loss  epochs\n",
       "25    2.718657  15.159942  13.818477  2.626007      26\n",
       "26    2.715603  15.113715  13.772470  2.622672      27\n",
       "27    2.713862  15.087426  13.780956  2.623288      28\n",
       "28    2.711256  15.048161  13.764820  2.622116      29\n",
       "29    2.711633  15.053831  13.766835  2.622263      30"
      ]
     },
     "metadata": {},
     "output_type": "display_data"
    },
    {
     "data": {
      "image/png": "[encoded data removed]",
      "text/plain": [
       "<Figure size 1200x500 with 2 Axes>"
      ]
     },
     "metadata": {},
     "output_type": "display_data"
    }
   ],
   "source": [
    "# make train_loss, train_ppl, val_ppl, val_loss and epochs into a DataFrame\n",
    "history = train_results[\"history\"]\n",
    "history_df = pd.DataFrame({\n",
    "    \"train_loss\": history[\"train_loss\"],\n",
    "    \"train_ppl\": history[\"train_ppl\"],\n",
    "    \"val_ppl\": history[\"val_ppl\"],\n",
    "    \"val_loss\": history[\"val_loss\"],\n",
    "    \"epochs\": range(1, len(history[\"train_loss\"]) + 1)\n",
    "})\n",
    "\n",
    "display(history_df.head())\n",
    "display(history_df.tail())\n",
    "\n",
    "plt.figure(figsize=(12, 5))\n",
    "# loss \n",
    "plt.subplot(1, 2, 1)\n",
    "plt.plot(history_df['epochs'], history_df[\"train_loss\"], label=\"Train Loss\")\n",
    "plt.plot(history_df['epochs'], history_df[\"val_loss\"], label=\"Val Loss\")\n",
    "plt.xlabel(\"Epochs\")\n",
    "plt.ylabel(\"Loss\")\n",
    "# plt.xticks(history_df['epochs'][::int(len(history_df['epochs'])//9)+1])  \n",
    "plt.title(\"Training Loss and Validation Perplexity\")\n",
    "plt.legend()\n",
    "plt.grid()\n",
    "\n",
    "# perplexity\n",
    "plt.subplot(1, 2, 2)\n",
    "plt.plot(history_df['epochs'], history_df[\"train_ppl\"], label=\"Train PPL\")\n",
    "plt.plot(history_df['epochs'], history_df[\"val_ppl\"], label=\"Val PPL\")\n",
    "plt.xlabel(\"Epochs\")\n",
    "plt.ylabel(\"Perplexity\")\n",
    "# plt.xticks(history_df['epochs'][::int(len(history_df['epochs'])//9)+1])  \n",
    "plt.title(\"Validation Perplexity Over Time\")\n",
    "plt.legend()\n",
    "plt.grid()\n",
    "plt.tight_layout()\n",
    "plt.show()"
   ]
  },
  {
   "cell_type": "code",
   "execution_count": 10,
   "id": "37dcf010",
   "metadata": {},
   "outputs": [
    {
     "data": {
      "text/html": [
       "<div>\n",
       "<style scoped>\n",
       "    .dataframe tbody tr th:only-of-type {\n",
       "        vertical-align: middle;\n",
       "    }\n",
       "\n",
       "    .dataframe tbody tr th {\n",
       "        vertical-align: top;\n",
       "    }\n",
       "\n",
       "    .dataframe thead th {\n",
       "        text-align: right;\n",
       "    }\n",
       "</style>\n",
       "<table border=\"1\" class=\"dataframe\">\n",
       "  <thead>\n",
       "    <tr style=\"text-align: right;\">\n",
       "      <th></th>\n",
       "      <th>split</th>\n",
       "      <th>loss(NLL)</th>\n",
       "      <th>perplexity</th>\n",
       "    </tr>\n",
       "  </thead>\n",
       "  <tbody>\n",
       "    <tr>\n",
       "      <th>0</th>\n",
       "      <td>train</td>\n",
       "      <td>2.711632</td>\n",
       "      <td>15.053831</td>\n",
       "    </tr>\n",
       "    <tr>\n",
       "      <th>1</th>\n",
       "      <td>val</td>\n",
       "      <td>2.622116</td>\n",
       "      <td>13.764820</td>\n",
       "    </tr>\n",
       "    <tr>\n",
       "      <th>2</th>\n",
       "      <td>test</td>\n",
       "      <td>2.723979</td>\n",
       "      <td>15.240840</td>\n",
       "    </tr>\n",
       "  </tbody>\n",
       "</table>\n",
       "</div>"
      ],
      "text/plain": [
       "   split  loss(NLL)  perplexity\n",
       "0  train   2.711632   15.053831\n",
       "1    val   2.622116   13.764820\n",
       "2   test   2.723979   15.240840"
      ]
     },
     "metadata": {},
     "output_type": "display_data"
    }
   ],
   "source": [
    "# compare with exponentiated average negative log likelihood\n",
    "test_nll = evaluate(model, test_loader, cfg_train.device)\n",
    "test_ppl = np.exp(test_nll)\n",
    "\n",
    "val_ppl = train_results[\"best_val_ppl\"]\n",
    "train_ppl = train_results[\"best_train_ppl\"]\n",
    "\n",
    "val_nll = torch.log(torch.tensor(val_ppl)).item()\n",
    "train_nll = torch.log(torch.tensor(train_ppl)).item()\n",
    "\n",
    "# display in a DataFrame\n",
    "test_results_df = pd.DataFrame({\n",
    "    \"split\": [\"train\", \"val\", \"test\"],\n",
    "    \"loss(NLL)\": [train_nll, val_nll, test_nll],\n",
    "    \"perplexity\": [train_ppl, val_ppl, test_ppl],\n",
    "})\n",
    "display(test_results_df)"
   ]
  },
  {
   "cell_type": "markdown",
   "id": "aa674cb0",
   "metadata": {},
   "source": [
    "### generate text from the trained model"
   ]
  },
  {
   "cell_type": "code",
   "execution_count": 11,
   "id": "7f24b7f5",
   "metadata": {},
   "outputs": [
    {
     "name": "stdout",
     "output_type": "stream",
     "text": [
      ">>>> <context>\n",
      " -------------------- \n",
      "<<<< <generated_text>\n",
      "\n",
      " --------------------------------------------------------------------------------\n",
      ">>>>  cured.\n",
      "Draw that\n",
      "--------------------\n",
      "<<<<   I peoors to thee, and by you commanded;\n",
      "But were the mine o'erther Julie bear's daughter.\n",
      "\n",
      "\n",
      "\n",
      "Enter CASSIO\n",
      "\n",
      "HAMLET\n",
      "Why side would not well.\n",
      "\n",
      "\n",
      "\n",
      "ROMEO\n",
      "O goder,\n",
      "Well, h\n",
      "\n",
      " --------------------------------------------------------------------------------\n",
      ">>>>  his.\n",
      "\n",
      "\n",
      "\n",
      "DESD\n",
      "--------------------\n",
      "<<<<  EMONA\n",
      "O, world; and then, good lord!\n",
      "\n",
      "\n",
      "\n",
      "MARK ANTONY\n",
      "You have not so must call him.\n",
      "Who would speak!\n",
      "O, If I am think you, and my lord; you are\n",
      "It be fear him: would have it man to be again,\n",
      "And sir\n",
      "\n",
      " --------------------------------------------------------------------------------\n",
      ">>>> \n",
      "Go, some of you, w\n",
      "--------------------\n",
      "<<<<  ould servit to him.\n",
      "\n",
      "\n",
      "\n",
      "AMILIA\n",
      "Now, you do a music!\n",
      "\n",
      "\n",
      "\n",
      "OTHELLO\n",
      "O, my fair, holy dream, heart\n",
      "\n",
      "So you set you, lord, but not, but may so: but say,\n",
      "Doth then, for, let her take thy live's a\n",
      "\n",
      " --------------------------------------------------------------------------------\n",
      ">>>> \n",
      "Such an explo\n",
      "--------------------\n",
      "<<<<  st of ateage;\n",
      "In such at this death.\n",
      "\n",
      "\n",
      "Exeunt\n",
      "\n",
      "\n",
      "SCENE II. A JESICA? when this?\n",
      "Enter CLEOPATRA\n",
      "O, ITIA and Atttises?\n",
      "\n",
      "BRUTUS\n",
      "Nay!\n",
      "\n",
      "\n",
      "\n",
      "NERIAR LA\n",
      "\n",
      " --------------------------------------------------------------------------------\n",
      ">>>> ees,\n",
      "I charm you\n",
      "--------------------\n",
      "<<<<   nothing: 'twas, but, I find;\n",
      "And that out in my judge a spirit\n",
      "With many, would concep to merve,\n",
      "And fear me sail: but if thou dost out the money?\n",
      "\n",
      "\n",
      "QUO\n",
      "Do nothingly she's prevent, and g\n"
     ]
    }
   ],
   "source": [
    "# get a batch from validation set and generate text\n",
    "context_len = 10\n",
    "batch_gen = 5\n",
    "max_new_tokens = 100\n",
    "\n",
    "context_ids_batch, _ = next(iter(val_loader))\n",
    "context_ids_batch = context_ids_batch.to(cfg_train.device, non_blocking=True)\n",
    "# generate text from the model\n",
    "generated_text = model.generate(context_ids_batch[:batch_gen, :context_len], max_new_tokens=max_new_tokens, temperature=0.9, top_k=20)\n",
    "print(f\">>>> <context>\\n\", \"-\" *20, \"\\n<<<< <generated_text>\")\n",
    "for i, text in enumerate(generated_text):\n",
    "    print(\"\\n\", \"-\" * 80)\n",
    "    print(\">>>>\", decode(text[:context_len].tolist()))\n",
    "    print(\"-\" * 20)\n",
    "    print(\"<<<< \", decode(text[context_len:].tolist()))\n",
    "    if i + 1 >= batch_gen:\n",
    "        break"
   ]
  }
 ],
 "metadata": {
  "kernelspec": {
   "display_name": ".venv (3.10.12)",
   "language": "python",
   "name": "python3"
  },
  "language_info": {
   "codemirror_mode": {
    "name": "ipython",
    "version": 3
   },
   "file_extension": ".py",
   "mimetype": "text/x-python",
   "name": "python",
   "nbconvert_exporter": "python",
   "pygments_lexer": "ipython3",
   "version": "3.10.12"
  }
 },
 "nbformat": 4,
 "nbformat_minor": 5
}
