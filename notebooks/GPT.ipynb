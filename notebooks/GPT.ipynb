{
 "cells": [
  {
   "cell_type": "code",
   "execution_count": 1,
   "id": "38be1234",
   "metadata": {},
   "outputs": [],
   "source": [
    "# # uncomment if running in colab\n",
    "# # install the github repo https://github.com/Edogor/GPT_from_scratch.git\n",
    "# !git clone https://github.com/Edogor/GPT_from_scratch.git\n",
    "# # change to repo dir and install requirements\n",
    "# %cd /content/GPT_from_scratch/\n",
    "# %pip install -r requirements.txt\n",
    "# # download and prep preprocess data\n",
    "# !python ./data/clean_nltk_shakespear_data_w_nl.py\n",
    "# # change to notebooks dir\n",
    "# %cd /content/GPT_from_scratch/notebooks/\n",
    "# %pwd ."
   ]
  },
  {
   "cell_type": "markdown",
   "id": "5814d877",
   "metadata": {},
   "source": [
    "## imports"
   ]
  },
  {
   "cell_type": "code",
   "execution_count": 1,
   "id": "3f9eb46e",
   "metadata": {},
   "outputs": [],
   "source": [
    "import torch\n",
    "import torch.nn as nn\n",
    "import torch.nn.functional as F    \n",
    "from torch.optim import AdamW\n",
    "from torch.amp import GradScaler\n",
    "from torch.optim.lr_scheduler import CosineAnnealingLR\n",
    "from torch.optim.lr_scheduler import CosineAnnealingWarmRestarts\n",
    "from torch.utils.tensorboard import SummaryWriter\n",
    "\n",
    "import numpy as np\n",
    "import pandas as pd\n",
    "import matplotlib.pyplot as plt\n",
    "from tqdm.auto import tqdm\n",
    "import time\n",
    "from functools import partial\n",
    "\n",
    "import json\n",
    "import os\n",
    "\n",
    "CHECKPOINT_DIR = os.path.join(\"..\", \"checkpoints\", \"GPT\")\n",
    "LOG_DIR = os.path.join(\"..\", \"logs\", \"GPT\")\n",
    "RESULTS_DIR = os.path.join(\"..\", \"results\", \"GPT\")\n",
    "\n",
    "os.makedirs(CHECKPOINT_DIR, exist_ok=True)\n",
    "os.makedirs(RESULTS_DIR, exist_ok=True)\n",
    "os.makedirs(LOG_DIR, exist_ok=True)"
   ]
  },
  {
   "cell_type": "code",
   "execution_count": 2,
   "id": "c82e03fd",
   "metadata": {},
   "outputs": [],
   "source": [
    "# add parent directory to the path to allow imports\n",
    "import sys\n",
    "sys.path.append(os.path.abspath(os.path.join(os.getcwd(), \"..\")))\n",
    "\n",
    "from GPT_mj import GPT, ConfigGPT\n",
    "from train_mj import train, evaluate, ConfigTrain\n",
    "from utils import init_dataloader, WarmupThenCosine, set_seed, count_params, save_checkpoint, load_checkpoint\n",
    "from bpe_hf import train_bytelevel_bpe, load_tokenizer, TOK_SPECIAL_TOKENS, TOK_SAVE_DIR"
   ]
  },
  {
   "cell_type": "markdown",
   "id": "ab76fdc7",
   "metadata": {},
   "source": [
    "## load data"
   ]
  },
  {
   "cell_type": "code",
   "execution_count": 3,
   "id": "c8960270",
   "metadata": {},
   "outputs": [
    {
     "name": "stdout",
     "output_type": "stream",
     "text": [
      "train text charachters length:  883046\n",
      "train text words count:  158364\n",
      "train text first 100 chars:  The Tragedy of Antony and Cleopatra\n",
      "\n",
      "\n",
      "Dramatis Personae\n",
      "\n",
      "\n",
      "\n",
      "MARK ANTONY\n",
      "OCTAVIUS CAESAR\n",
      "M. AEMILIUS L\n"
     ]
    }
   ],
   "source": [
    "data_dir = \"../data/\"\n",
    "# without nl\n",
    "# train_file = \"Shakespeare_clean_train.txt\"\n",
    "# val_file = \"Shakespeare_clean_valid.txt\"\n",
    "# test_file = \"Shakespeare_clean_test.txt\"\n",
    "# with nl\n",
    "train_file = \"Shakespeare_clean_w_nl_train.txt\"\n",
    "val_file = \"Shakespeare_clean_w_nl_valid.txt\"\n",
    "test_file = \"Shakespeare_clean_w_nl_test.txt\"\n",
    "\n",
    "train_file = os.path.join(data_dir, train_file)\n",
    "test_file = os.path.join(data_dir, test_file)\n",
    "val_file = os.path.join(data_dir, val_file)\n",
    "\n",
    "with open(train_file, \"r\", encoding=\"utf-8\") as f:\n",
    "    train_text = f.read().strip()\n",
    "\n",
    "with open(val_file, \"r\", encoding=\"utf-8\") as f:\n",
    "    val_text = f.read().strip()\n",
    "\n",
    "with open(test_file, \"r\", encoding=\"utf-8\") as f:\n",
    "    test_text = f.read().strip()\n",
    "\n",
    "print(\"train text charachters length: \", len(train_text))\n",
    "print(\"train text words count: \", len(train_text.split()))\n",
    "print(\"train text first 100 chars: \", train_text[:100])"
   ]
  },
  {
   "cell_type": "markdown",
   "id": "e7f2d8ae",
   "metadata": {},
   "source": [
    "## initialize tokensizer and data embeddings"
   ]
  },
  {
   "cell_type": "code",
   "execution_count": 5,
   "id": "901d108a",
   "metadata": {},
   "outputs": [
    {
     "name": "stdout",
     "output_type": "stream",
     "text": [
      "vocab size:  1060\n",
      "BPE tokenizer vocab:  [('®', 110), ('Ġcomp', 1059), ('s', 86), ('³', 115), ('ĠPORTIA', 884), ('Ġtime', 692), ('â', 162), ('ĠA', 293), ('Ġc', 287), ('Ġr', 563), ('@', 35), ('ĠBRUTUS', 835), ('Ġleave', 904), ('È', 136), ('ĠROM', 807), ('Ġlady', 877), ('ge', 437), ('ri', 360), ('Ġca', 567), ('DER', 1015), ('Ġfriend', 697), ('in', 269), ('î', 174), ('Ġit', 346), ('Ġsoul', 960), ('ra', 375), ('¼', 124), ('ain', 415), ('Ġmuch', 703), ('gh', 336), ('Ġthat', 343), ('ĠGo', 1019), ('Ġgo', 467), ('ù', 185), ('Ġyet', 663), ('ian', 727), ('Ġagain', 679), ('ark', 699), ('ĠCLEOPATRA', 696), ('Ġpl', 534), ('Ġdes', 784), ('ors', 953), ('DY', 809), ('ĠC', 316), ('Ġthis', 374), ('ĠOTHEL', 718), ('ĠThou', 793), ('Ě', 218), ('ß', 159), ('Ö', 150), ('Ġown', 853), ('ER', 446), ('ven', 498), ('us', 344), ('4', 23), ('ha', 271), ('Ġdead', 843), ('ish', 602), ('Ġword', 806), ('Ġg', 308), ('Ġcould', 973), ('OM', 568), ('Ġother', 819), ('Ġthus', 1013), ('ss', 1035), ('Ġhave', 384), ('ost', 906), ('Ġcall', 875), ('ĠBRUT', 833), ('+', 14), ('se', 313), ('ĠMAC', 578), ('CTA', 794), ('as', 354), ('ă', 195), ('ars', 852), ('«', 108), ('ĠAy', 897), ('Ġrep', 1055), ('ĠI', 277), ('Ġbefore', 954), ('K', 46), ('ĠT', 292), ('ag', 622), ('Ġhim', 381), ('ĠTo', 424), ('½', 125), ('ĝ', 221), ('ud', 977), ('ĠBrutus', 936), ('ĠP', 370), ('ĠCA', 473), ('[', 62), ('nter', 489), ('Ġan', 421), ('self', 543), ('Č', 204), ('ĠR', 404), ('per', 800), ('ir', 329)]\n",
      "train ids length:  389320\n",
      "train ids first 100 ids:  [362, 292, 375, 74, 334, 92, 302, 745, 298, 316, 323, 959, 311, 375, 202, 202, 202, 39, 375, 80, 311, 274, 370, 493, 282]\n",
      "train ids first 100 individual tokens:  ['ĠThe', 'ĠT', 'ra', 'g', 'ed', 'y', 'Ġof', 'ĠAntony', 'Ġand', 'ĠC', 'le', 'op', 'at', 'ra', 'Ċ', 'Ċ', 'Ċ', 'D', 'ra', 'm', 'at', 'is', 'ĠP', 'ers', 'on']\n"
     ]
    }
   ],
   "source": [
    "N_MERGES = 800\n",
    "MIN_FREQ = 2\n",
    "\n",
    "SPECIAL_TOKENS = TOK_SPECIAL_TOKENS.copy()\n",
    "PAD_TOKEN = SPECIAL_TOKENS.get(\"pad\", \"<pad>\")\n",
    "BOS_TOKEN = SPECIAL_TOKENS.get(\"bos\", \"<bos>\")\n",
    "EOS_TOKEN = SPECIAL_TOKENS.get(\"eos\", \"<eos>\")\n",
    "\n",
    "tok_name = f\"bpe_GPT_{N_MERGES}.json\"\n",
    "tok_dir = TOK_SAVE_DIR\n",
    "bpe_tokenizer = train_bytelevel_bpe(files=[train_file],\n",
    "                                merges=N_MERGES, \n",
    "                                min_frequency=MIN_FREQ,\n",
    "                                special_tokens=SPECIAL_TOKENS,\n",
    "                                lowercase=False,\n",
    "                                add_prefix_space=True,\n",
    "                                save_filename=tok_name,\n",
    "                                save_dir=tok_dir)\n",
    "\n",
    "encode = partial(bpe_tokenizer.encode, add_special_tokens=False)\n",
    "decode = bpe_tokenizer.decode\n",
    "vocab_size = bpe_tokenizer.get_vocab_size()\n",
    "print(\"vocab size: \", vocab_size)\n",
    "print(\"BPE tokenizer vocab: \", list(bpe_tokenizer.get_vocab().items())[:100])\n",
    "\n",
    "PAD_TOKEN_ID = bpe_tokenizer.token_to_id(PAD_TOKEN) \n",
    "BOS_TOKEN_ID = bpe_tokenizer.token_to_id(BOS_TOKEN)\n",
    "EOS_TOKEN_ID = bpe_tokenizer.token_to_id(EOS_TOKEN)\n",
    "\n",
    "train_ids = encode(train_text).ids\n",
    "test_ids = encode(test_text).ids\n",
    "val_ids = encode(val_text).ids\n",
    "\n",
    "print(\"train ids length: \", len(train_ids))\n",
    "print(\"train ids first 100 ids: \", train_ids[:25])\n",
    "print(\"train ids first 100 individual tokens: \", [bpe_tokenizer.id_to_token(i) for i in train_ids[:25]]) "
   ]
  },
  {
   "cell_type": "markdown",
   "id": "87b73455",
   "metadata": {},
   "source": [
    "## define the model's and training parameters (configs)"
   ]
  },
  {
   "cell_type": "code",
   "execution_count": null,
   "id": "619ca315",
   "metadata": {},
   "outputs": [
    {
     "name": "stdout",
     "output_type": "stream",
     "text": [
      "device:  cpu\n",
      "vocab size:  1060\n",
      "number of model parameters:  1_075_328\n",
      "number of batches in train loader:  6083\n",
      "number of batches in test loader:  747\n",
      "number of batches in val loader:  737\n",
      "log dir:  ../logs/GPT/gpt_em128_hd4_ly4_bpe800/lr0.0003_drop0.2_250826_213824\n",
      "checkpoint dir:  ../checkpoints/GPT\n",
      "checkpoint best filename:  gpt_em128_hd4_ly4_bpe800_best.pt\n",
      "checkpoint last filename:  gpt_em128_hd4_ly4_bpe800_last.pt\n"
     ]
    }
   ],
   "source": [
    "SEED = 123\n",
    "DEVICE = \"cuda\" if torch.cuda.is_available() else \"cpu\"\n",
    "# hyperparameters \n",
    "# tokenizer\n",
    "# N_MERGES = 800\n",
    "# MIN_FREQ = 2\n",
    "# data\n",
    "BATCH_SIZE = 64\n",
    "BLOCK_SIZE = 128\n",
    "\n",
    "#  model\n",
    "N_EMBED = 128\n",
    "N_HEADS = 4\n",
    "N_LAYERS = 4\n",
    "DROPOUT = 0.2\n",
    "# optimizer\n",
    "LR = 3e-4\n",
    "WEIGHT_DECAY = 1e-4\n",
    "# scheduler\n",
    "ETA_MIN = 1e-7\n",
    "\n",
    "# training loop\n",
    "EPOCHS = 60\n",
    "ES_PATIENCE = 5\n",
    "ES_TOLERANCE = 1e-6\n",
    "GRAD_ACCUM_STEPS = 1\n",
    "USE_AMP = True if DEVICE == \"cuda\" else False # IMPORTANT: set to False if training on CPU training \n",
    "\n",
    "# checkpoints\n",
    "EVAL_INTERVAL = 2  # evaluate every n epochs\n",
    "CKPT_INTERVAL = 10  # save checkpoint every n epochs\n",
    "\n",
    "# make unique checkpoint file prefix from the parameters\n",
    "ckpt_file_prefix = f\"gpt_em{N_EMBED}_hd{N_HEADS}_ly{N_LAYERS}_bpe{N_MERGES}\"\n",
    "all_hparams_cfg_filename = f\"{ckpt_file_prefix}_hparams.json\"\n",
    "\n",
    "# config for training\n",
    "cfg_train = ConfigTrain(device=DEVICE,\n",
    "                    epochs=EPOCHS, \n",
    "                    early_stop_patience=ES_PATIENCE,\n",
    "                    early_stop_tolerance=ES_TOLERANCE,\n",
    "                    grad_accum_steps=GRAD_ACCUM_STEPS,\n",
    "                    # max_grad_norm=data.get(\"max_grad_norm\", 1.0),\n",
    "                    use_amp=USE_AMP,\n",
    "                    seed=SEED,\n",
    "                    eval_interval=EVAL_INTERVAL,\n",
    "                    ckpt_interval=CKPT_INTERVAL,\n",
    "                    ckpt_dir=CHECKPOINT_DIR,\n",
    "                    ckpt_best_filename=f\"{ckpt_file_prefix}_best.pt\",\n",
    "                    ckpt_last_filename=f\"{ckpt_file_prefix}_last.pt\",\n",
    "                    log_dir=os.path.join(LOG_DIR, f\"{ckpt_file_prefix}\", f'lr{LR}_drop{DROPOUT}_{time.strftime(\"%y%m%d_%H%M%S\")}'),\n",
    "                    )\n",
    "# config for model\n",
    "cfg_model = ConfigGPT(\n",
    "                    vocab_size=vocab_size,\n",
    "                    block_size=BLOCK_SIZE,  \n",
    "                    n_embed=N_EMBED,\n",
    "                    n_head=N_HEADS,  \n",
    "                    n_layer=N_LAYERS, \n",
    "                    dropout=DROPOUT,\n",
    "                    bias=False,\n",
    "                    )\n",
    "\n",
    "print(\"device: \", DEVICE)\n",
    "# model parameters\n",
    "print(\"vocab size: \", vocab_size)\n",
    "print(\"number of model parameters: \", f\"{count_params(GPT(config=cfg_model)):_d}\")\n",
    "\n",
    "# print all log and checkpoint dir and filenames\n",
    "print(\"number of batches in train loader: \", len(train_ids)//BATCH_SIZE)\n",
    "print(\"number of batches in test loader: \", len(test_ids)//BATCH_SIZE)\n",
    "print(\"number of batches in val loader: \", len(val_ids)//BATCH_SIZE)\n",
    "\n",
    "print(\"log dir: \", cfg_train.log_dir)\n",
    "print(\"checkpoint dir: \", cfg_train.ckpt_dir)\n",
    "print(\"checkpoint best filename: \", cfg_train.ckpt_best_filename)\n",
    "print(\"checkpoint last filename: \", cfg_train.ckpt_last_filename)"
   ]
  },
  {
   "cell_type": "markdown",
   "id": "379c4f85",
   "metadata": {},
   "source": [
    "## Train the model"
   ]
  },
  {
   "cell_type": "code",
   "execution_count": null,
   "id": "ae5c7db4",
   "metadata": {},
   "outputs": [
    {
     "name": "stderr",
     "output_type": "stream",
     "text": [
      "/home/mj/Documents/GPT_from_scratch/GPT_mj.py:188: TracerWarning: Converting a tensor to a Python boolean might cause the trace to be incorrect. We can't record the data flow of Python values, so this value will be treated as a constant in the future. This means that the trace might not generalize to other inputs!\n",
      "  assert T <= self.block_size, \"Input sequence length exceeds block size.\"\n"
     ]
    },
    {
     "name": "stdout",
     "output_type": "stream",
     "text": [
      "Model parameters: 1_075_328\n",
      "vocab size:  1060\n",
      "excepted iniital CE loss( uniform model ): 6.9660, ppl: 1060.0000\n",
      "not trained model Initial validation loss: 6.9954, ppl: 1091.6154\n",
      "GPT(\n",
      "  (embedding): Embedding(1060, 128)\n",
      "  (position_embedding): Embedding(128, 128)\n",
      "  (dropout_em): Dropout(p=0.2, inplace=False)\n",
      "  (decoder_blocks): Sequential(\n",
      "    (0): DecoderBlock(\n",
      "      (layer_norm_1): LayerNorm((128,), eps=1e-05, elementwise_affine=True)\n",
      "      (attention): CausalSelfAttention(\n",
      "        (self_attn): Linear(in_features=128, out_features=384, bias=False)\n",
      "        (dropout_attn): Dropout(p=0.2, inplace=False)\n",
      "        (lin_proj): Linear(in_features=128, out_features=128, bias=False)\n",
      "        (dropout_proj): Dropout(p=0.2, inplace=False)\n",
      "      )\n",
      "      (layer_norm_mlp): LayerNorm((128,), eps=1e-05, elementwise_affine=True)\n",
      "      (mlp): SimpleMLP(\n",
      "        (lin_wide): Linear(in_features=128, out_features=512, bias=False)\n",
      "        (gelu): GELU(approximate='none')\n",
      "        (lin_proj_back): Linear(in_features=512, out_features=128, bias=False)\n",
      "        (dropout): Dropout(p=0.2, inplace=False)\n",
      "      )\n",
      "    )\n",
      "    (1): DecoderBlock(\n",
      "      (layer_norm_1): LayerNorm((128,), eps=1e-05, elementwise_affine=True)\n",
      "      (attention): CausalSelfAttention(\n",
      "        (self_attn): Linear(in_features=128, out_features=384, bias=False)\n",
      "        (dropout_attn): Dropout(p=0.2, inplace=False)\n",
      "        (lin_proj): Linear(in_features=128, out_features=128, bias=False)\n",
      "        (dropout_proj): Dropout(p=0.2, inplace=False)\n",
      "      )\n",
      "      (layer_norm_mlp): LayerNorm((128,), eps=1e-05, elementwise_affine=True)\n",
      "      (mlp): SimpleMLP(\n",
      "        (lin_wide): Linear(in_features=128, out_features=512, bias=False)\n",
      "        (gelu): GELU(approximate='none')\n",
      "        (lin_proj_back): Linear(in_features=512, out_features=128, bias=False)\n",
      "        (dropout): Dropout(p=0.2, inplace=False)\n",
      "      )\n",
      "    )\n",
      "    (2): DecoderBlock(\n",
      "      (layer_norm_1): LayerNorm((128,), eps=1e-05, elementwise_affine=True)\n",
      "      (attention): CausalSelfAttention(\n",
      "        (self_attn): Linear(in_features=128, out_features=384, bias=False)\n",
      "        (dropout_attn): Dropout(p=0.2, inplace=False)\n",
      "        (lin_proj): Linear(in_features=128, out_features=128, bias=False)\n",
      "        (dropout_proj): Dropout(p=0.2, inplace=False)\n",
      "      )\n",
      "      (layer_norm_mlp): LayerNorm((128,), eps=1e-05, elementwise_affine=True)\n",
      "      (mlp): SimpleMLP(\n",
      "        (lin_wide): Linear(in_features=128, out_features=512, bias=False)\n",
      "        (gelu): GELU(approximate='none')\n",
      "        (lin_proj_back): Linear(in_features=512, out_features=128, bias=False)\n",
      "        (dropout): Dropout(p=0.2, inplace=False)\n",
      "      )\n",
      "    )\n",
      "    (3): DecoderBlock(\n",
      "      (layer_norm_1): LayerNorm((128,), eps=1e-05, elementwise_affine=True)\n",
      "      (attention): CausalSelfAttention(\n",
      "        (self_attn): Linear(in_features=128, out_features=384, bias=False)\n",
      "        (dropout_attn): Dropout(p=0.2, inplace=False)\n",
      "        (lin_proj): Linear(in_features=128, out_features=128, bias=False)\n",
      "        (dropout_proj): Dropout(p=0.2, inplace=False)\n",
      "      )\n",
      "      (layer_norm_mlp): LayerNorm((128,), eps=1e-05, elementwise_affine=True)\n",
      "      (mlp): SimpleMLP(\n",
      "        (lin_wide): Linear(in_features=128, out_features=512, bias=False)\n",
      "        (gelu): GELU(approximate='none')\n",
      "        (lin_proj_back): Linear(in_features=512, out_features=128, bias=False)\n",
      "        (dropout): Dropout(p=0.2, inplace=False)\n",
      "      )\n",
      "    )\n",
      "  )\n",
      "  (lyer_norm): LayerNorm((128,), eps=1e-05, elementwise_affine=True)\n",
      "  (lin_out): Linear(in_features=128, out_features=1060, bias=False)\n",
      ")\n"
     ]
    }
   ],
   "source": [
    "set_seed(cfg_train.seed)\n",
    "train_loader = init_dataloader(train_ids, BLOCK_SIZE, BATCH_SIZE, train=True, shuffle=True)\n",
    "val_loader = init_dataloader(val_ids, BLOCK_SIZE, BATCH_SIZE, train=False, shuffle=True)\n",
    "test_loader = init_dataloader(test_ids, BLOCK_SIZE, BATCH_SIZE, train=False, shuffle=False)\n",
    "\n",
    "model = GPT(config=cfg_model,)\n",
    "model.to(cfg_train.device)\n",
    "model_size = count_params(model)\n",
    "\n",
    "optimizer = AdamW(model.parameters(), lr=LR, weight_decay=WEIGHT_DECAY, foreach=True if DEVICE==\"cpu\" else None)\n",
    "\n",
    "\n",
    "lr_scheduler = WarmupThenCosine(optimizer, warmup_steps=500, T_max=cfg_train.epochs * len(train_loader) // max(1, cfg_train.grad_accum_steps), eta_min=ETA_MIN)\n",
    "# rl_scheduler = CosineAnnealingLR(optimizer, T_max=cfg.epochs * len(train_loader) // max(1, cfg.grad_accum_steps), eta_min=ETA_MIN)\n",
    "# rl_scheduler = CosineAnnealingWarmRestarts(optimizer, T_0=2 * len(train_loader) // max(1, cfg.grad_accum_steps), T_mult=2, eta_min=ETA_MIN)\n",
    "\n",
    "scaler = GradScaler(enabled=cfg_train.use_amp)\n",
    "\n",
    "summary_writer = SummaryWriter(log_dir=cfg_train.log_dir, flush_secs=5)\n",
    "\n",
    "# add model graph to tensorboard\n",
    "dummy_input = torch.zeros((BATCH_SIZE, BLOCK_SIZE), dtype=torch.long, device=cfg_train.device)\n",
    "summary_writer.add_graph(model.eval(), dummy_input) \n",
    "summary_writer.flush()\n",
    "summary_writer.close()\n",
    "\n",
    "# compile the model (can skip if not needed)\n",
    "try:\n",
    "    if cfg_train.device == \"cpu\":\n",
    "        model.compile(mode=\"reduce-overhead\")\n",
    "    else:\n",
    "        model.compile()\n",
    "except Exception as e:\n",
    "    print(\"model compilation was not successful. Exception: \", e)\n",
    "\n",
    "# inspect the model\n",
    "print(f\"Model parameters: {model_size:_}\")\n",
    "print(\"vocab size: \", vocab_size)\n",
    "print(f\"excepted iniital CE loss( uniform model ): {-np.log(1/vocab_size):.4f}, ppl: {np.exp(-np.log(1/vocab_size)):.4f}\")\n",
    "# evaluate the untrained model\n",
    "val_loss = evaluate(model, val_loader, device=cfg_train.device)\n",
    "val_ppl = np.exp(val_loss)\n",
    "print(f\"not trained model Initial validation loss: {val_loss:.4f}, ppl: {val_ppl:.4f}\")\n",
    "print(model)"
   ]
  },
  {
   "cell_type": "code",
   "execution_count": 8,
   "id": "422af458",
   "metadata": {},
   "outputs": [
    {
     "data": {
      "application/vnd.jupyter.widget-view+json": {
       "model_id": "a4ab4539fe9942968ce54420323261c5",
       "version_major": 2,
       "version_minor": 0
      },
      "text/plain": [
       "Training Progress:   0%|          | 0/60 [00:00<?, ?it/s]"
      ]
     },
     "metadata": {},
     "output_type": "display_data"
    },
    {
     "data": {
      "application/vnd.jupyter.widget-view+json": {
       "model_id": "d05d2211e2de42b8892f49cdcc6bd24e",
       "version_major": 2,
       "version_minor": 0
      },
      "text/plain": [
       "Epoch 1/60:   0%|          | 0/48 [00:00<?, ?it/s]"
      ]
     },
     "metadata": {},
     "output_type": "display_data"
    },
    {
     "data": {
      "application/vnd.jupyter.widget-view+json": {
       "model_id": "f4fec8a29f3f44d59211f76518bc7d88",
       "version_major": 2,
       "version_minor": 0
      },
      "text/plain": [
       "Epoch 2/60:   0%|          | 0/48 [00:00<?, ?it/s]"
      ]
     },
     "metadata": {},
     "output_type": "display_data"
    },
    {
     "data": {
      "application/vnd.jupyter.widget-view+json": {
       "model_id": "5e0e075268a8412ca3c89f492b151d7d",
       "version_major": 2,
       "version_minor": 0
      },
      "text/plain": [
       "Epoch 3/60:   0%|          | 0/48 [00:00<?, ?it/s]"
      ]
     },
     "metadata": {},
     "output_type": "display_data"
    },
    {
     "data": {
      "application/vnd.jupyter.widget-view+json": {
       "model_id": "c840df83afee4cf6bcce9580af6647ee",
       "version_major": 2,
       "version_minor": 0
      },
      "text/plain": [
       "Epoch 4/60:   0%|          | 0/48 [00:00<?, ?it/s]"
      ]
     },
     "metadata": {},
     "output_type": "display_data"
    },
    {
     "data": {
      "application/vnd.jupyter.widget-view+json": {
       "model_id": "6bf668ab0fa7440eb59ef9db10323081",
       "version_major": 2,
       "version_minor": 0
      },
      "text/plain": [
       "Epoch 5/60:   0%|          | 0/48 [00:00<?, ?it/s]"
      ]
     },
     "metadata": {},
     "output_type": "display_data"
    },
    {
     "data": {
      "application/vnd.jupyter.widget-view+json": {
       "model_id": "9a8e9fcd5ca945379e3d3a55304fd137",
       "version_major": 2,
       "version_minor": 0
      },
      "text/plain": [
       "Epoch 6/60:   0%|          | 0/48 [00:00<?, ?it/s]"
      ]
     },
     "metadata": {},
     "output_type": "display_data"
    },
    {
     "data": {
      "application/vnd.jupyter.widget-view+json": {
       "model_id": "addb794f1e16403eb9143c4edcf941b9",
       "version_major": 2,
       "version_minor": 0
      },
      "text/plain": [
       "Epoch 7/60:   0%|          | 0/48 [00:00<?, ?it/s]"
      ]
     },
     "metadata": {},
     "output_type": "display_data"
    },
    {
     "data": {
      "application/vnd.jupyter.widget-view+json": {
       "model_id": "5763c1ac85f74b7286a920432e77f436",
       "version_major": 2,
       "version_minor": 0
      },
      "text/plain": [
       "Epoch 8/60:   0%|          | 0/48 [00:00<?, ?it/s]"
      ]
     },
     "metadata": {},
     "output_type": "display_data"
    },
    {
     "data": {
      "application/vnd.jupyter.widget-view+json": {
       "model_id": "25c3f93339f042988556938b993135cc",
       "version_major": 2,
       "version_minor": 0
      },
      "text/plain": [
       "Epoch 9/60:   0%|          | 0/48 [00:00<?, ?it/s]"
      ]
     },
     "metadata": {},
     "output_type": "display_data"
    },
    {
     "data": {
      "application/vnd.jupyter.widget-view+json": {
       "model_id": "a4ee06e18ad740f8bfa06d27147bb67f",
       "version_major": 2,
       "version_minor": 0
      },
      "text/plain": [
       "Epoch 10/60:   0%|          | 0/48 [00:00<?, ?it/s]"
      ]
     },
     "metadata": {},
     "output_type": "display_data"
    },
    {
     "data": {
      "application/vnd.jupyter.widget-view+json": {
       "model_id": "8cb0825c0a6849dfa224dbff83b0ae96",
       "version_major": 2,
       "version_minor": 0
      },
      "text/plain": [
       "Epoch 11/60:   0%|          | 0/48 [00:00<?, ?it/s]"
      ]
     },
     "metadata": {},
     "output_type": "display_data"
    },
    {
     "data": {
      "application/vnd.jupyter.widget-view+json": {
       "model_id": "77159e4a15aa40a7912f04a63becfa7d",
       "version_major": 2,
       "version_minor": 0
      },
      "text/plain": [
       "Epoch 12/60:   0%|          | 0/48 [00:00<?, ?it/s]"
      ]
     },
     "metadata": {},
     "output_type": "display_data"
    },
    {
     "data": {
      "application/vnd.jupyter.widget-view+json": {
       "model_id": "f8face0bcff24dcb938f6c918e295a9a",
       "version_major": 2,
       "version_minor": 0
      },
      "text/plain": [
       "Epoch 13/60:   0%|          | 0/48 [00:00<?, ?it/s]"
      ]
     },
     "metadata": {},
     "output_type": "display_data"
    },
    {
     "data": {
      "application/vnd.jupyter.widget-view+json": {
       "model_id": "fcdf7819cc9347a1bad8807e604de8c8",
       "version_major": 2,
       "version_minor": 0
      },
      "text/plain": [
       "Epoch 14/60:   0%|          | 0/48 [00:00<?, ?it/s]"
      ]
     },
     "metadata": {},
     "output_type": "display_data"
    },
    {
     "data": {
      "application/vnd.jupyter.widget-view+json": {
       "model_id": "165251c523804630a258ccab362e02cf",
       "version_major": 2,
       "version_minor": 0
      },
      "text/plain": [
       "Epoch 15/60:   0%|          | 0/48 [00:00<?, ?it/s]"
      ]
     },
     "metadata": {},
     "output_type": "display_data"
    },
    {
     "data": {
      "application/vnd.jupyter.widget-view+json": {
       "model_id": "f5e8be09facd42a2b78b3aa372fff6d2",
       "version_major": 2,
       "version_minor": 0
      },
      "text/plain": [
       "Epoch 16/60:   0%|          | 0/48 [00:00<?, ?it/s]"
      ]
     },
     "metadata": {},
     "output_type": "display_data"
    },
    {
     "data": {
      "application/vnd.jupyter.widget-view+json": {
       "model_id": "4925f1bb221042df9dc0ddbd3633b21f",
       "version_major": 2,
       "version_minor": 0
      },
      "text/plain": [
       "Epoch 17/60:   0%|          | 0/48 [00:00<?, ?it/s]"
      ]
     },
     "metadata": {},
     "output_type": "display_data"
    },
    {
     "data": {
      "application/vnd.jupyter.widget-view+json": {
       "model_id": "3e1b3fd9b2aa487cb679b3d27c25e9b7",
       "version_major": 2,
       "version_minor": 0
      },
      "text/plain": [
       "Epoch 18/60:   0%|          | 0/48 [00:00<?, ?it/s]"
      ]
     },
     "metadata": {},
     "output_type": "display_data"
    },
    {
     "data": {
      "application/vnd.jupyter.widget-view+json": {
       "model_id": "472b64e16c644e6f87222c3acdcd17c6",
       "version_major": 2,
       "version_minor": 0
      },
      "text/plain": [
       "Epoch 19/60:   0%|          | 0/48 [00:00<?, ?it/s]"
      ]
     },
     "metadata": {},
     "output_type": "display_data"
    },
    {
     "data": {
      "application/vnd.jupyter.widget-view+json": {
       "model_id": "5f0a4baeb344421cbd6843b2fe91a9f2",
       "version_major": 2,
       "version_minor": 0
      },
      "text/plain": [
       "Epoch 20/60:   0%|          | 0/48 [00:00<?, ?it/s]"
      ]
     },
     "metadata": {},
     "output_type": "display_data"
    },
    {
     "data": {
      "application/vnd.jupyter.widget-view+json": {
       "model_id": "24e5dd72147346a890dfb6697251edae",
       "version_major": 2,
       "version_minor": 0
      },
      "text/plain": [
       "Epoch 21/60:   0%|          | 0/48 [00:00<?, ?it/s]"
      ]
     },
     "metadata": {},
     "output_type": "display_data"
    },
    {
     "data": {
      "application/vnd.jupyter.widget-view+json": {
       "model_id": "92501526d18e41fb91aa95eeab40ea40",
       "version_major": 2,
       "version_minor": 0
      },
      "text/plain": [
       "Epoch 22/60:   0%|          | 0/48 [00:00<?, ?it/s]"
      ]
     },
     "metadata": {},
     "output_type": "display_data"
    },
    {
     "data": {
      "application/vnd.jupyter.widget-view+json": {
       "model_id": "0898de7c7b084a519f90fa07601a954c",
       "version_major": 2,
       "version_minor": 0
      },
      "text/plain": [
       "Epoch 23/60:   0%|          | 0/48 [00:00<?, ?it/s]"
      ]
     },
     "metadata": {},
     "output_type": "display_data"
    },
    {
     "data": {
      "application/vnd.jupyter.widget-view+json": {
       "model_id": "7d3d9d765156433a9bf900be4c7853b1",
       "version_major": 2,
       "version_minor": 0
      },
      "text/plain": [
       "Epoch 24/60:   0%|          | 0/48 [00:00<?, ?it/s]"
      ]
     },
     "metadata": {},
     "output_type": "display_data"
    },
    {
     "data": {
      "application/vnd.jupyter.widget-view+json": {
       "model_id": "459163a277454bf4b2ad6229add75e83",
       "version_major": 2,
       "version_minor": 0
      },
      "text/plain": [
       "Epoch 25/60:   0%|          | 0/48 [00:00<?, ?it/s]"
      ]
     },
     "metadata": {},
     "output_type": "display_data"
    },
    {
     "data": {
      "application/vnd.jupyter.widget-view+json": {
       "model_id": "13ce4f91cdc748ed890d1ba1c026c5eb",
       "version_major": 2,
       "version_minor": 0
      },
      "text/plain": [
       "Epoch 26/60:   0%|          | 0/48 [00:00<?, ?it/s]"
      ]
     },
     "metadata": {},
     "output_type": "display_data"
    },
    {
     "data": {
      "application/vnd.jupyter.widget-view+json": {
       "model_id": "58f2ff1d8b9142ab88704036db4344f9",
       "version_major": 2,
       "version_minor": 0
      },
      "text/plain": [
       "Epoch 27/60:   0%|          | 0/48 [00:00<?, ?it/s]"
      ]
     },
     "metadata": {},
     "output_type": "display_data"
    },
    {
     "data": {
      "application/vnd.jupyter.widget-view+json": {
       "model_id": "dd9b65c99882421d9ee68de2554f4429",
       "version_major": 2,
       "version_minor": 0
      },
      "text/plain": [
       "Epoch 28/60:   0%|          | 0/48 [00:00<?, ?it/s]"
      ]
     },
     "metadata": {},
     "output_type": "display_data"
    },
    {
     "data": {
      "application/vnd.jupyter.widget-view+json": {
       "model_id": "a6bd78f6a3814e3984b9c50f962feab5",
       "version_major": 2,
       "version_minor": 0
      },
      "text/plain": [
       "Epoch 29/60:   0%|          | 0/48 [00:00<?, ?it/s]"
      ]
     },
     "metadata": {},
     "output_type": "display_data"
    },
    {
     "data": {
      "application/vnd.jupyter.widget-view+json": {
       "model_id": "3f1d06752ad04f2bb7b5de7c758f0a4c",
       "version_major": 2,
       "version_minor": 0
      },
      "text/plain": [
       "Epoch 30/60:   0%|          | 0/48 [00:00<?, ?it/s]"
      ]
     },
     "metadata": {},
     "output_type": "display_data"
    },
    {
     "data": {
      "application/vnd.jupyter.widget-view+json": {
       "model_id": "756e7d9bed4f4f0e929ad641eb6fc40f",
       "version_major": 2,
       "version_minor": 0
      },
      "text/plain": [
       "Epoch 31/60:   0%|          | 0/48 [00:00<?, ?it/s]"
      ]
     },
     "metadata": {},
     "output_type": "display_data"
    },
    {
     "data": {
      "application/vnd.jupyter.widget-view+json": {
       "model_id": "2bec5ff8b121478a8ce385d803718038",
       "version_major": 2,
       "version_minor": 0
      },
      "text/plain": [
       "Epoch 32/60:   0%|          | 0/48 [00:00<?, ?it/s]"
      ]
     },
     "metadata": {},
     "output_type": "display_data"
    },
    {
     "data": {
      "application/vnd.jupyter.widget-view+json": {
       "model_id": "b94aab96063b4d35a6a87e7d3244cc11",
       "version_major": 2,
       "version_minor": 0
      },
      "text/plain": [
       "Epoch 33/60:   0%|          | 0/48 [00:00<?, ?it/s]"
      ]
     },
     "metadata": {},
     "output_type": "display_data"
    },
    {
     "data": {
      "application/vnd.jupyter.widget-view+json": {
       "model_id": "69a5c638103745dcb2c77707b58965b8",
       "version_major": 2,
       "version_minor": 0
      },
      "text/plain": [
       "Epoch 34/60:   0%|          | 0/48 [00:00<?, ?it/s]"
      ]
     },
     "metadata": {},
     "output_type": "display_data"
    },
    {
     "data": {
      "application/vnd.jupyter.widget-view+json": {
       "model_id": "2bd2c88340c7423c98f9ea2f4758b8d8",
       "version_major": 2,
       "version_minor": 0
      },
      "text/plain": [
       "Epoch 35/60:   0%|          | 0/48 [00:00<?, ?it/s]"
      ]
     },
     "metadata": {},
     "output_type": "display_data"
    },
    {
     "data": {
      "application/vnd.jupyter.widget-view+json": {
       "model_id": "3f276624b1ae482fa923d5b9a37a6a06",
       "version_major": 2,
       "version_minor": 0
      },
      "text/plain": [
       "Epoch 36/60:   0%|          | 0/48 [00:00<?, ?it/s]"
      ]
     },
     "metadata": {},
     "output_type": "display_data"
    },
    {
     "data": {
      "application/vnd.jupyter.widget-view+json": {
       "model_id": "cbb316db0f78486791f90d57189b33c8",
       "version_major": 2,
       "version_minor": 0
      },
      "text/plain": [
       "Epoch 37/60:   0%|          | 0/48 [00:00<?, ?it/s]"
      ]
     },
     "metadata": {},
     "output_type": "display_data"
    },
    {
     "data": {
      "application/vnd.jupyter.widget-view+json": {
       "model_id": "0ae39515ce7d46c9937649e4471385be",
       "version_major": 2,
       "version_minor": 0
      },
      "text/plain": [
       "Epoch 38/60:   0%|          | 0/48 [00:00<?, ?it/s]"
      ]
     },
     "metadata": {},
     "output_type": "display_data"
    },
    {
     "data": {
      "application/vnd.jupyter.widget-view+json": {
       "model_id": "003801c52e2f4d9894165771c61339ad",
       "version_major": 2,
       "version_minor": 0
      },
      "text/plain": [
       "Epoch 39/60:   0%|          | 0/48 [00:00<?, ?it/s]"
      ]
     },
     "metadata": {},
     "output_type": "display_data"
    },
    {
     "data": {
      "application/vnd.jupyter.widget-view+json": {
       "model_id": "7f16259b7cac4627abb7d986ab4aec27",
       "version_major": 2,
       "version_minor": 0
      },
      "text/plain": [
       "Epoch 40/60:   0%|          | 0/48 [00:00<?, ?it/s]"
      ]
     },
     "metadata": {},
     "output_type": "display_data"
    },
    {
     "data": {
      "application/vnd.jupyter.widget-view+json": {
       "model_id": "74d18cd2191a436abac992aeaea85a17",
       "version_major": 2,
       "version_minor": 0
      },
      "text/plain": [
       "Epoch 41/60:   0%|          | 0/48 [00:00<?, ?it/s]"
      ]
     },
     "metadata": {},
     "output_type": "display_data"
    },
    {
     "data": {
      "application/vnd.jupyter.widget-view+json": {
       "model_id": "15568b62971f4bf3853210b48bc84584",
       "version_major": 2,
       "version_minor": 0
      },
      "text/plain": [
       "Epoch 42/60:   0%|          | 0/48 [00:00<?, ?it/s]"
      ]
     },
     "metadata": {},
     "output_type": "display_data"
    },
    {
     "data": {
      "application/vnd.jupyter.widget-view+json": {
       "model_id": "6592c14782764d08ac1fdf557ff7d38a",
       "version_major": 2,
       "version_minor": 0
      },
      "text/plain": [
       "Epoch 43/60:   0%|          | 0/48 [00:00<?, ?it/s]"
      ]
     },
     "metadata": {},
     "output_type": "display_data"
    },
    {
     "data": {
      "application/vnd.jupyter.widget-view+json": {
       "model_id": "b2cb7a213ab84e11b4fcb4b77373b0bb",
       "version_major": 2,
       "version_minor": 0
      },
      "text/plain": [
       "Epoch 44/60:   0%|          | 0/48 [00:00<?, ?it/s]"
      ]
     },
     "metadata": {},
     "output_type": "display_data"
    },
    {
     "data": {
      "application/vnd.jupyter.widget-view+json": {
       "model_id": "46634f63b1194c158a43a63c4a16a01b",
       "version_major": 2,
       "version_minor": 0
      },
      "text/plain": [
       "Epoch 45/60:   0%|          | 0/48 [00:00<?, ?it/s]"
      ]
     },
     "metadata": {},
     "output_type": "display_data"
    },
    {
     "data": {
      "application/vnd.jupyter.widget-view+json": {
       "model_id": "ebeba7a9cbff4fc482ddba2d4ba6ecf2",
       "version_major": 2,
       "version_minor": 0
      },
      "text/plain": [
       "Epoch 46/60:   0%|          | 0/48 [00:00<?, ?it/s]"
      ]
     },
     "metadata": {},
     "output_type": "display_data"
    },
    {
     "data": {
      "application/vnd.jupyter.widget-view+json": {
       "model_id": "31bab74c81ba405782703fbd0d3c4075",
       "version_major": 2,
       "version_minor": 0
      },
      "text/plain": [
       "Epoch 47/60:   0%|          | 0/48 [00:00<?, ?it/s]"
      ]
     },
     "metadata": {},
     "output_type": "display_data"
    },
    {
     "data": {
      "application/vnd.jupyter.widget-view+json": {
       "model_id": "dc48e83df0c2421581e433b0b20a2acd",
       "version_major": 2,
       "version_minor": 0
      },
      "text/plain": [
       "Epoch 48/60:   0%|          | 0/48 [00:00<?, ?it/s]"
      ]
     },
     "metadata": {},
     "output_type": "display_data"
    },
    {
     "data": {
      "application/vnd.jupyter.widget-view+json": {
       "model_id": "d062269b56404ea2bcafa459f9659557",
       "version_major": 2,
       "version_minor": 0
      },
      "text/plain": [
       "Epoch 49/60:   0%|          | 0/48 [00:00<?, ?it/s]"
      ]
     },
     "metadata": {},
     "output_type": "display_data"
    },
    {
     "data": {
      "application/vnd.jupyter.widget-view+json": {
       "model_id": "43c8fd1835f14590a4ce4b44e5704ed9",
       "version_major": 2,
       "version_minor": 0
      },
      "text/plain": [
       "Epoch 50/60:   0%|          | 0/48 [00:00<?, ?it/s]"
      ]
     },
     "metadata": {},
     "output_type": "display_data"
    },
    {
     "data": {
      "application/vnd.jupyter.widget-view+json": {
       "model_id": "8be244fe2bec4b498fed0bcf1bad31d9",
       "version_major": 2,
       "version_minor": 0
      },
      "text/plain": [
       "Epoch 51/60:   0%|          | 0/48 [00:00<?, ?it/s]"
      ]
     },
     "metadata": {},
     "output_type": "display_data"
    },
    {
     "data": {
      "application/vnd.jupyter.widget-view+json": {
       "model_id": "028161f54740494ca84c4de4c5bc342d",
       "version_major": 2,
       "version_minor": 0
      },
      "text/plain": [
       "Epoch 52/60:   0%|          | 0/48 [00:00<?, ?it/s]"
      ]
     },
     "metadata": {},
     "output_type": "display_data"
    },
    {
     "data": {
      "application/vnd.jupyter.widget-view+json": {
       "model_id": "d41962f5e604452a8d41fd6400178a6d",
       "version_major": 2,
       "version_minor": 0
      },
      "text/plain": [
       "Epoch 53/60:   0%|          | 0/48 [00:00<?, ?it/s]"
      ]
     },
     "metadata": {},
     "output_type": "display_data"
    },
    {
     "data": {
      "application/vnd.jupyter.widget-view+json": {
       "model_id": "35bd2fc557fe4a7693e5d6fb34b61970",
       "version_major": 2,
       "version_minor": 0
      },
      "text/plain": [
       "Epoch 54/60:   0%|          | 0/48 [00:00<?, ?it/s]"
      ]
     },
     "metadata": {},
     "output_type": "display_data"
    },
    {
     "data": {
      "application/vnd.jupyter.widget-view+json": {
       "model_id": "e74f917c7759444ca01b82fe863b785a",
       "version_major": 2,
       "version_minor": 0
      },
      "text/plain": [
       "Epoch 55/60:   0%|          | 0/48 [00:00<?, ?it/s]"
      ]
     },
     "metadata": {},
     "output_type": "display_data"
    },
    {
     "data": {
      "application/vnd.jupyter.widget-view+json": {
       "model_id": "0c33a25ed5be4a38ac0f7132b834dadd",
       "version_major": 2,
       "version_minor": 0
      },
      "text/plain": [
       "Epoch 56/60:   0%|          | 0/48 [00:00<?, ?it/s]"
      ]
     },
     "metadata": {},
     "output_type": "display_data"
    },
    {
     "data": {
      "application/vnd.jupyter.widget-view+json": {
       "model_id": "26b79c85b64b45f3996755d3dbed8695",
       "version_major": 2,
       "version_minor": 0
      },
      "text/plain": [
       "Epoch 57/60:   0%|          | 0/48 [00:00<?, ?it/s]"
      ]
     },
     "metadata": {},
     "output_type": "display_data"
    },
    {
     "data": {
      "application/vnd.jupyter.widget-view+json": {
       "model_id": "5f16721f4e204fc1882ba0377b742129",
       "version_major": 2,
       "version_minor": 0
      },
      "text/plain": [
       "Epoch 58/60:   0%|          | 0/48 [00:00<?, ?it/s]"
      ]
     },
     "metadata": {},
     "output_type": "display_data"
    },
    {
     "data": {
      "application/vnd.jupyter.widget-view+json": {
       "model_id": "1161b981ecff48c79333061af807d0ea",
       "version_major": 2,
       "version_minor": 0
      },
      "text/plain": [
       "Epoch 59/60:   0%|          | 0/48 [00:00<?, ?it/s]"
      ]
     },
     "metadata": {},
     "output_type": "display_data"
    },
    {
     "data": {
      "application/vnd.jupyter.widget-view+json": {
       "model_id": "efb96a3af2e84a3b808ff83cfb967c30",
       "version_major": 2,
       "version_minor": 0
      },
      "text/plain": [
       "Epoch 60/60:   0%|          | 0/48 [00:00<?, ?it/s]"
      ]
     },
     "metadata": {},
     "output_type": "display_data"
    }
   ],
   "source": [
    "train_results = train(model, train_loader, val_loader, cfg=cfg_train,\n",
    "                      optimizer=optimizer, scheduler=lr_scheduler, scaler=scaler,\n",
    "                      writer=summary_writer)"
   ]
  },
  {
   "cell_type": "markdown",
   "id": "3884d0fa",
   "metadata": {},
   "source": [
    "### save all parameters used in the model and training"
   ]
  },
  {
   "cell_type": "code",
   "execution_count": 9,
   "id": "594596db",
   "metadata": {},
   "outputs": [],
   "source": [
    "# save all the hyperparameters into a json file\n",
    "rl_scheduler_state_dict = lr_scheduler.state_dict() if lr_scheduler.__class__.__name__ != \"WarmupThenCosine\" else {\n",
    "            k:v for k, v in lr_scheduler.state_dict().items() if k != \"cosine\"}\n",
    "all_hparams_cfg = {\n",
    "    \"tokenizer\" : {\n",
    "        \"type\": \"bytelevel_bpe\",\n",
    "        \"n_merges\": N_MERGES,\n",
    "        \"min_frequency\": MIN_FREQ,\n",
    "        \"special_tokens\": SPECIAL_TOKENS,\n",
    "        \"path\": os.path.join(tok_dir, tok_name),\n",
    "    },\n",
    "    \"data\": {\n",
    "        \"batch_size\": BATCH_SIZE,\n",
    "        \"block_size\": BLOCK_SIZE,\n",
    "    },\n",
    "    \"model\": {\"cfg\": vars(cfg_model).copy(), \"model_size\": model_size},\n",
    "    \"optimizer\": {\n",
    "        \"type\": optimizer.__class__.__name__,\n",
    "        \"lr\": LR,\n",
    "        \"weight_decay\": WEIGHT_DECAY,\n",
    "        \"defaults\": optimizer.defaults,\n",
    "    },\n",
    "    \"lr_scheduler\": {\n",
    "        \"type\": lr_scheduler.__class__.__name__,\n",
    "        \"eta_min\": ETA_MIN,\n",
    "        \"state_dict\": rl_scheduler_state_dict,\n",
    "    },\n",
    "    \"scaler\": {\n",
    "        \"type\": scaler.__class__.__name__,\n",
    "        \"enabled\": scaler.is_enabled(),\n",
    "        \"state_dict\": scaler.state_dict(),\n",
    "    },\n",
    "    \"training\": {\"cfg\": vars(cfg_train).copy()},\n",
    "    \"results\": train_results,\n",
    "}\n",
    "\n",
    "# save it to checkpoint dir, same prefix as checkpoint files\n",
    "with open(os.path.join(CHECKPOINT_DIR, all_hparams_cfg_filename), \"w\") as f:\n",
    "    json.dump(all_hparams_cfg, f, indent=4)\n",
    "\n",
    "# write it to tensorboard\n",
    "summary_writer.add_text(\"config/json\", \"```json\\n\" + json.dumps(all_hparams_cfg, indent=2, sort_keys=True) + \"\\n```\", global_step=0)\n",
    "summary_writer.flush()\n",
    "summary_writer.close()"
   ]
  },
  {
   "cell_type": "markdown",
   "id": "bce528e2",
   "metadata": {},
   "source": [
    "## results and evaluation"
   ]
  },
  {
   "cell_type": "markdown",
   "id": "603f2cf1",
   "metadata": {},
   "source": [
    "### load a saved model (can skip if using a freshly trained model)"
   ]
  },
  {
   "cell_type": "code",
   "execution_count": null,
   "id": "3e02c844",
   "metadata": {},
   "outputs": [
    {
     "name": "stdout",
     "output_type": "stream",
     "text": [
      "loaded full config from:  ../checkpoints/GPT/gpt_em128_hd4_ly4_bpe800_hparams.json\n",
      "loading model from checkpoint:  ../checkpoints/GPT/gpt_em128_hd4_ly4_bpe800_best.pt\n",
      "tokenizer vocab size:  1060\n"
     ]
    }
   ],
   "source": [
    "all_hparams_cfg_path = os.path.join(CHECKPOINT_DIR, all_hparams_cfg_filename)\n",
    "# all_hparams_cfg_path = os.path.join(CHECKPOINT_DIR, \"gpt_em128_hd4_ly4_bpe800_hparams.json\")\n",
    "with open(all_hparams_cfg_path, \"r\") as f:\n",
    "    all_hparams_cfg = json.load(f)\n",
    "print(\"loaded full config from: \", all_hparams_cfg_path)\n",
    "# print(json.dumps(full_cfg, indent=4))\n",
    "\n",
    "ckpt_name = all_hparams_cfg[\"training\"][\"cfg\"].get(\"ckpt_best_path\", None)\n",
    "print(\"loading model from checkpoint: \", ckpt_name)\n",
    "cfg_train = ConfigTrain(**all_hparams_cfg[\"training\"][\"cfg\"])\n",
    "cfg_train.device = \"cuda\" if torch.cuda.is_available() else \"cpu\"\n",
    "\n",
    "batch_size = all_hparams_cfg[\"data\"][\"batch_size\"]\n",
    "block_size = all_hparams_cfg[\"data\"][\"block_size\"]\n",
    "n_merges = all_hparams_cfg[\"tokenizer\"][\"n_merges\"]\n",
    "min_freq = all_hparams_cfg[\"tokenizer\"][\"min_frequency\"]\n",
    "model_size = all_hparams_cfg[\"model\"].get(\"model_size\", None)\n",
    "train_results = all_hparams_cfg.get(\"results\", {})\n",
    "ckpt = load_checkpoint(ckpt_name, map_location=cfg_train.device, weights_only=False)\n",
    "\n",
    "model = GPT(config=ConfigGPT(**all_hparams_cfg[\"model\"][\"cfg\"]))\n",
    "model.load_state_dict(ckpt['model'])\n",
    "model.to(cfg_train.device)\n",
    "\n",
    "bpe_tokenizer = load_tokenizer(os.path.join(all_hparams_cfg[\"tokenizer\"][\"path\"]))\n",
    "encode = partial(bpe_tokenizer.encode, add_special_tokens=False)\n",
    "decode = bpe_tokenizer.decode\n",
    "vocab_size = bpe_tokenizer.get_vocab_size()\n",
    "print(\"tokenizer vocab size: \", vocab_size)\n",
    "train_loader = init_dataloader(encode(train_text).ids, block_size=block_size, batch_size=batch_size, train=True, shuffle=True)\n",
    "val_loader = init_dataloader(encode(val_text).ids, block_size=block_size, batch_size=batch_size, train=False, shuffle=True)\n",
    "test_loader = init_dataloader(encode(test_text).ids, block_size=block_size, batch_size=batch_size, train=False, shuffle=False)\n"
   ]
  },
  {
   "cell_type": "markdown",
   "id": "2932c123",
   "metadata": {},
   "source": [
    "### plot training curves and test on test set"
   ]
  },
  {
   "cell_type": "code",
   "execution_count": 5,
   "id": "115a5050",
   "metadata": {},
   "outputs": [
    {
     "data": {
      "text/html": [
       "<div>\n",
       "<style scoped>\n",
       "    .dataframe tbody tr th:only-of-type {\n",
       "        vertical-align: middle;\n",
       "    }\n",
       "\n",
       "    .dataframe tbody tr th {\n",
       "        vertical-align: top;\n",
       "    }\n",
       "\n",
       "    .dataframe thead th {\n",
       "        text-align: right;\n",
       "    }\n",
       "</style>\n",
       "<table border=\"1\" class=\"dataframe\">\n",
       "  <thead>\n",
       "    <tr style=\"text-align: right;\">\n",
       "      <th></th>\n",
       "      <th>train_loss</th>\n",
       "      <th>train_ppl</th>\n",
       "      <th>val_ppl</th>\n",
       "      <th>val_loss</th>\n",
       "      <th>epoch</th>\n",
       "    </tr>\n",
       "  </thead>\n",
       "  <tbody>\n",
       "    <tr>\n",
       "      <th>0</th>\n",
       "      <td>6.531080</td>\n",
       "      <td>686.138672</td>\n",
       "      <td>565.651855</td>\n",
       "      <td>6.337979</td>\n",
       "      <td>1</td>\n",
       "    </tr>\n",
       "    <tr>\n",
       "      <th>1</th>\n",
       "      <td>5.877385</td>\n",
       "      <td>356.874664</td>\n",
       "      <td>298.465881</td>\n",
       "      <td>5.698656</td>\n",
       "      <td>3</td>\n",
       "    </tr>\n",
       "    <tr>\n",
       "      <th>2</th>\n",
       "      <td>5.381076</td>\n",
       "      <td>217.255890</td>\n",
       "      <td>181.205917</td>\n",
       "      <td>5.199634</td>\n",
       "      <td>5</td>\n",
       "    </tr>\n",
       "    <tr>\n",
       "      <th>3</th>\n",
       "      <td>4.853388</td>\n",
       "      <td>128.173889</td>\n",
       "      <td>107.424606</td>\n",
       "      <td>4.676789</td>\n",
       "      <td>7</td>\n",
       "    </tr>\n",
       "    <tr>\n",
       "      <th>4</th>\n",
       "      <td>4.488726</td>\n",
       "      <td>89.007988</td>\n",
       "      <td>77.136253</td>\n",
       "      <td>4.345574</td>\n",
       "      <td>9</td>\n",
       "    </tr>\n",
       "  </tbody>\n",
       "</table>\n",
       "</div>"
      ],
      "text/plain": [
       "   train_loss   train_ppl     val_ppl  val_loss  epoch\n",
       "0    6.531080  686.138672  565.651855  6.337979      1\n",
       "1    5.877385  356.874664  298.465881  5.698656      3\n",
       "2    5.381076  217.255890  181.205917  5.199634      5\n",
       "3    4.853388  128.173889  107.424606  4.676789      7\n",
       "4    4.488726   89.007988   77.136253  4.345574      9"
      ]
     },
     "metadata": {},
     "output_type": "display_data"
    },
    {
     "data": {
      "text/html": [
       "<div>\n",
       "<style scoped>\n",
       "    .dataframe tbody tr th:only-of-type {\n",
       "        vertical-align: middle;\n",
       "    }\n",
       "\n",
       "    .dataframe tbody tr th {\n",
       "        vertical-align: top;\n",
       "    }\n",
       "\n",
       "    .dataframe thead th {\n",
       "        text-align: right;\n",
       "    }\n",
       "</style>\n",
       "<table border=\"1\" class=\"dataframe\">\n",
       "  <thead>\n",
       "    <tr style=\"text-align: right;\">\n",
       "      <th></th>\n",
       "      <th>train_loss</th>\n",
       "      <th>train_ppl</th>\n",
       "      <th>val_ppl</th>\n",
       "      <th>val_loss</th>\n",
       "      <th>epoch</th>\n",
       "    </tr>\n",
       "  </thead>\n",
       "  <tbody>\n",
       "    <tr>\n",
       "      <th>25</th>\n",
       "      <td>3.427581</td>\n",
       "      <td>30.802044</td>\n",
       "      <td>28.879335</td>\n",
       "      <td>3.363126</td>\n",
       "      <td>51</td>\n",
       "    </tr>\n",
       "    <tr>\n",
       "      <th>26</th>\n",
       "      <td>3.423376</td>\n",
       "      <td>30.672787</td>\n",
       "      <td>28.860929</td>\n",
       "      <td>3.362489</td>\n",
       "      <td>53</td>\n",
       "    </tr>\n",
       "    <tr>\n",
       "      <th>27</th>\n",
       "      <td>3.421372</td>\n",
       "      <td>30.611397</td>\n",
       "      <td>28.774393</td>\n",
       "      <td>3.359486</td>\n",
       "      <td>55</td>\n",
       "    </tr>\n",
       "    <tr>\n",
       "      <th>28</th>\n",
       "      <td>3.419983</td>\n",
       "      <td>30.568878</td>\n",
       "      <td>28.757116</td>\n",
       "      <td>3.358885</td>\n",
       "      <td>57</td>\n",
       "    </tr>\n",
       "    <tr>\n",
       "      <th>29</th>\n",
       "      <td>3.421623</td>\n",
       "      <td>30.619076</td>\n",
       "      <td>28.754210</td>\n",
       "      <td>3.358784</td>\n",
       "      <td>59</td>\n",
       "    </tr>\n",
       "  </tbody>\n",
       "</table>\n",
       "</div>"
      ],
      "text/plain": [
       "    train_loss  train_ppl    val_ppl  val_loss  epoch\n",
       "25    3.427581  30.802044  28.879335  3.363126     51\n",
       "26    3.423376  30.672787  28.860929  3.362489     53\n",
       "27    3.421372  30.611397  28.774393  3.359486     55\n",
       "28    3.419983  30.568878  28.757116  3.358885     57\n",
       "29    3.421623  30.619076  28.754210  3.358784     59"
      ]
     },
     "metadata": {},
     "output_type": "display_data"
    },
    {
     "data": {
      "image/png": "[encoded data removed]",
      "text/plain": [
       "<Figure size 1200x500 with 2 Axes>"
      ]
     },
     "metadata": {},
     "output_type": "display_data"
    }
   ],
   "source": [
    "# make train_loss, train_ppl, val_ppl, val_loss and epochs into a DataFrame\n",
    "history = train_results[\"history\"]\n",
    "history_df = pd.DataFrame(history)\n",
    "\n",
    "display(history_df.head())\n",
    "display(history_df.tail())\n",
    "\n",
    "plt.figure(figsize=(12, 5))\n",
    "plt.suptitle(f\"GPT Training Curves\\nModel size: {model_size:_} parameters\", fontsize=16)\n",
    "# loss \n",
    "plt.subplot(1, 2, 1)\n",
    "plt.plot(history_df['epoch'], history_df[\"train_loss\"], label=\"Train Loss\")\n",
    "plt.plot(history_df['epoch'], history_df[\"val_loss\"], label=\"Val Loss\")\n",
    "plt.xlabel(\"Epochs\")\n",
    "plt.ylabel(\"Loss\")\n",
    "# plt.xticks(history_df['epochs'][::int(len(history_df['epochs'])//9)+1])  \n",
    "plt.title(\"Loss\")\n",
    "plt.legend()\n",
    "plt.grid()\n",
    "\n",
    "# perplexity\n",
    "plt.subplot(1, 2, 2)\n",
    "plt.plot(history_df['epoch'], history_df[\"train_ppl\"], label=\"Train PPL\")\n",
    "plt.plot(history_df['epoch'], history_df[\"val_ppl\"], label=\"Val PPL\")\n",
    "plt.xlabel(\"Epochs\")\n",
    "plt.ylabel(\"Perplexity\")\n",
    "# plt.xticks(history_df['epochs'][::int(len(history_df['epochs'])//9)+1])  \n",
    "plt.title(\"Perplexity\")\n",
    "plt.legend()\n",
    "plt.grid()\n",
    "plt.tight_layout()\n",
    "\n",
    "# save the training plot\n",
    "plt.savefig(os.path.join(RESULTS_DIR, f\"GPT_training_plot.png\")) \n",
    "\n",
    "plt.show()"
   ]
  },
  {
   "cell_type": "code",
   "execution_count": 6,
   "id": "37dcf010",
   "metadata": {},
   "outputs": [
    {
     "data": {
      "text/html": [
       "<div>\n",
       "<style scoped>\n",
       "    .dataframe tbody tr th:only-of-type {\n",
       "        vertical-align: middle;\n",
       "    }\n",
       "\n",
       "    .dataframe tbody tr th {\n",
       "        vertical-align: top;\n",
       "    }\n",
       "\n",
       "    .dataframe thead th {\n",
       "        text-align: right;\n",
       "    }\n",
       "</style>\n",
       "<table border=\"1\" class=\"dataframe\">\n",
       "  <thead>\n",
       "    <tr style=\"text-align: right;\">\n",
       "      <th></th>\n",
       "      <th>split</th>\n",
       "      <th>loss(NLL)</th>\n",
       "      <th>perplexity</th>\n",
       "    </tr>\n",
       "  </thead>\n",
       "  <tbody>\n",
       "    <tr>\n",
       "      <th>0</th>\n",
       "      <td>train</td>\n",
       "      <td>3.421623</td>\n",
       "      <td>30.619076</td>\n",
       "    </tr>\n",
       "    <tr>\n",
       "      <th>1</th>\n",
       "      <td>val</td>\n",
       "      <td>3.358784</td>\n",
       "      <td>28.754210</td>\n",
       "    </tr>\n",
       "    <tr>\n",
       "      <th>2</th>\n",
       "      <td>test</td>\n",
       "      <td>3.266540</td>\n",
       "      <td>26.220469</td>\n",
       "    </tr>\n",
       "  </tbody>\n",
       "</table>\n",
       "</div>"
      ],
      "text/plain": [
       "   split  loss(NLL)  perplexity\n",
       "0  train   3.421623   30.619076\n",
       "1    val   3.358784   28.754210\n",
       "2   test   3.266540   26.220469"
      ]
     },
     "metadata": {},
     "output_type": "display_data"
    }
   ],
   "source": [
    "# final evaluation on the test set\n",
    "test_nll = evaluate(model, test_loader, cfg_train.device)\n",
    "test_ppl = np.exp(test_nll)\n",
    "\n",
    "val_ppl = train_results[\"best_val_ppl\"]\n",
    "train_ppl = train_results[\"best_train_ppl\"]\n",
    "\n",
    "val_nll = torch.log(torch.tensor(val_ppl)).item()\n",
    "train_nll = torch.log(torch.tensor(train_ppl)).item()\n",
    "\n",
    "# display in a DataFrame\n",
    "test_results_df = pd.DataFrame({\n",
    "    \"split\": [\"train\", \"val\", \"test\"],\n",
    "    \"loss(NLL)\": [train_nll, val_nll, test_nll],\n",
    "    \"perplexity\": [train_ppl, val_ppl, test_ppl],\n",
    "})\n",
    "display(test_results_df)"
   ]
  },
  {
   "cell_type": "code",
   "execution_count": 7,
   "id": "8b11e858",
   "metadata": {},
   "outputs": [
    {
     "name": "stdout",
     "output_type": "stream",
     "text": [
      "test results saved to ../results/GPT/test_performance_results.csv\n"
     ]
    }
   ],
   "source": [
    "# save test results\n",
    "test_results_filename = os.path.join(RESULTS_DIR, \"test_performance_results.csv\")\n",
    "test_results_df.to_csv(test_results_filename, index=False)\n",
    "print(f\"test results saved to {test_results_filename}\")"
   ]
  },
  {
   "cell_type": "markdown",
   "id": "aa674cb0",
   "metadata": {},
   "source": [
    "### generate text from the trained model"
   ]
  },
  {
   "cell_type": "code",
   "execution_count": 8,
   "id": "7f24b7f5",
   "metadata": {},
   "outputs": [
    {
     "name": "stdout",
     "output_type": "stream",
     "text": [
      "used tokenizer: bytelevel_bpe, merges: 800, min_freq: 2\n",
      ">>>> <context>\n",
      " -------------------- \n",
      "<<<< <generated_text>\n",
      "\n",
      " --------------------------------------------------------------------------------\n",
      ">>>>  shall the lovers\n",
      "--------------------\n",
      "<<<<  .\n",
      "\n",
      "\n",
      "\n",
      "First Citizen\n",
      "O, my lord!\n",
      "\n",
      "\n",
      "\n",
      "CThether you?\n",
      "\n",
      "First Witch\n",
      "You may the tradies?\n",
      "\n",
      "\n",
      "\n",
      "MACBETH\n",
      "If you?\n",
      "\n",
      "\n",
      "CBETH\n",
      "Ay, what'st, I have it will; I may\n",
      "aesar will do soldier to know. I, I\n",
      "\n",
      "\n",
      "CASSIUS\n",
      "\n",
      "\n",
      " --------------------------------------------------------------------------------\n",
      ">>>> t dragon\n",
      "--------------------\n",
      "<<<<  !\n",
      "\n",
      "\n",
      "MIAGO\n",
      "Stay, I'll be the wised,\n",
      "And for a mother's cratisonum:\n",
      "There they have apposal, as to his hours,\n",
      "And sick-s the crike's drike\n",
      "Of pal and the praility\n",
      "With his chens, the money,\n",
      "The fict of\n",
      "\n",
      " --------------------------------------------------------------------------------\n",
      ">>>>  should look their sham\n",
      "--------------------\n",
      "<<<<  e?\n",
      "\n",
      "\n",
      "\n",
      "Second Soldier\n",
      "Thy body, and the fitions with melse of his bad\n",
      "As the turns of the free, ass.\n",
      "\n",
      "\n",
      "MARK ANTONY\n",
      "Madam is not yet I beast.\n",
      "\n",
      "\n",
      "\n",
      "MARK ANTONY\n",
      "Nor that I'll why.\n",
      "\n",
      "\n",
      "OPORTIA\n",
      "Thou art thou dost not god\n",
      "\n",
      " --------------------------------------------------------------------------------\n",
      ">>>> ing on Nept\n",
      "--------------------\n",
      "<<<<  heder in my\n",
      "Then, and walk the murderal\n",
      "What'st a master of the world?\n",
      "\n",
      "\n",
      "Second Cona, youth and the\n",
      "And then we will retraffic; the musines;\n",
      "Lixts the gunded, and the sicken\n",
      "And being, and his greying of first\n",
      "Shall I\n",
      "\n",
      " --------------------------------------------------------------------------------\n",
      ">>>> , lead them up\n",
      "--------------------\n",
      "<<<<  ,\n",
      "The ere's in the vieps\n",
      "There are first indeit of my hearts.\n",
      "\n",
      "\n",
      "RODERWould you say, and, my lord?\n",
      "\n",
      "\n",
      "HAMLET\n",
      "Cle.\n",
      "\n",
      "\n",
      "My lord, then, sir, my lord?\n",
      "\n",
      "\n",
      "LYSANDER\n",
      "Nor, sir, I will I'll not be,\n",
      "I have act, and the cry for't,\n"
     ]
    }
   ],
   "source": [
    "# get a batch from validation set and generate text\n",
    "batch_gen = 5\n",
    "max_new_tokens = 100\n",
    "\n",
    "unified_context = \" \".join(test_text.split()[:3])\n",
    "unified_context_ids = encode(unified_context, add_special_tokens=False).ids\n",
    "context_len = len(unified_context_ids)\n",
    "\n",
    "context_ids_batch, _ = next(iter(test_loader))\n",
    "# replace first row with unified_context_ids\n",
    "context_ids_batch[0, :context_len] = torch.tensor(unified_context_ids[:block_size], dtype=torch.long)\n",
    "\n",
    "context_ids_batch = context_ids_batch.to(cfg_train.device, non_blocking=True)\n",
    "# generate text from the model\n",
    "generated_text = model.generate(context_ids_batch[:batch_gen, :context_len], max_new_tokens=max_new_tokens, temperature=0.9, top_k=20)\n",
    "\n",
    "print(f\"used tokenizer: bytelevel_bpe, merges: {n_merges}, min_freq: {min_freq}\")\n",
    "print(f\">>>> <context>\\n\", \"-\" *20, \"\\n<<<< <generated_text>\")\n",
    "for i, text in enumerate(generated_text):\n",
    "    print(\"\\n\", \"-\" * 80)\n",
    "    print(\">>>>\", decode(text[:context_len].tolist()))\n",
    "    print(\"-\" * 20)\n",
    "    print(\"<<<< \", decode(text[context_len:].tolist()))\n",
    "    if i + 1 >= batch_gen:\n",
    "        break"
   ]
  },
  {
   "cell_type": "code",
   "execution_count": 9,
   "id": "1e8726b6",
   "metadata": {},
   "outputs": [
    {
     "name": "stdout",
     "output_type": "stream",
     "text": [
      "generation results saved to ../results/GPT/text_generation_results.txt\n"
     ]
    }
   ],
   "source": [
    "# save generation results to a text file\n",
    "gen_results_filename = os.path.join(RESULTS_DIR, \"text_generation_results.txt\")\n",
    "with open(gen_results_filename, \"w\", encoding=\"utf-8\") as f:\n",
    "    f.write(f\"used tokenizer: bytelevel_bpe, merges: {n_merges}, min_freq: {min_freq}\\n\")\n",
    "    f.write(f\">>>> <context>\\n\")\n",
    "    f.write(\"-\" * 20 + \"\\n\")\n",
    "    f.write(f\"<<<< <generated_text>\\n\")\n",
    "    for i, text in enumerate(generated_text):\n",
    "        f.write(\"\\n\" + \"-\" * 80 + \"\\n\")\n",
    "        f.write(\">>>> \" + decode(text[:context_len].tolist()) + \"\\n\")\n",
    "        f.write(\"-\" * 20 + \"\\n\")\n",
    "        f.write(\"<<<< \" + decode(text[context_len:].tolist()) + \"\\n\")\n",
    "        if i + 1 >= batch_gen:\n",
    "            break\n",
    "print(f\"generation results saved to {gen_results_filename}\")"
   ]
  }
 ],
 "metadata": {
  "kernelspec": {
   "display_name": ".venv (3.12.3)",
   "language": "python",
   "name": "python3"
  },
  "language_info": {
   "codemirror_mode": {
    "name": "ipython",
    "version": 3
   },
   "file_extension": ".py",
   "mimetype": "text/x-python",
   "name": "python",
   "nbconvert_exporter": "python",
   "pygments_lexer": "ipython3",
   "version": "3.12.3"
  }
 },
 "nbformat": 4,
 "nbformat_minor": 5
}
